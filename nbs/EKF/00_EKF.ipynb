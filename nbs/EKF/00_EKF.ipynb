{
 "cells": [
  {
   "cell_type": "code",
   "execution_count": 9,
   "metadata": {},
   "outputs": [
    {
     "name": "stdout",
     "output_type": "stream",
     "text": [
      "The autoreload extension is already loaded. To reload it, use:\n",
      "  %reload_ext autoreload\n"
     ]
    }
   ],
   "source": [
    "#| hide\n",
    "%load_ext autoreload\n",
    "%autoreload 2"
   ]
  },
  {
   "cell_type": "markdown",
   "metadata": {},
   "source": [
    "# Extended Kalman Filter\n",
    "\n",
    "> "
   ]
  },
  {
   "cell_type": "markdown",
   "metadata": {},
   "source": [
    "## 概要"
   ]
  },
  {
   "cell_type": "markdown",
   "metadata": {},
   "source": [
    "### Schur 補行列の正定値性\n",
    "\n",
    "区分行列 $\\mathbf M$ を\n",
    "\n",
    "$$\\mathbf M=\\begin{pmatrix}\\mathbf A & \\mathbf B \\\\ \\mathbf C & \\mathbf D  \\end{pmatrix}$$\n",
    "\n",
    "としたとき、区画 $\\mathbf D$ に関する Schur 補行列とは\n",
    "\n",
    "$$\\mathbf M/\\mathbf D=\\mathbf A-\\mathbf B\\mathbf D^{-1}\\mathbf C$$\n",
    "\n",
    "で与えられる。\n",
    "\n",
    "**定理**\n",
    "\n",
    "対称な行列 $\\mathbf M$ を\n",
    "\n",
    "$$\\mathbf M=\\begin{pmatrix}\\mathbf A & \\mathbf B \\\\ \\mathbf B^T & \\mathbf C\\end{pmatrix}$$\n",
    "\n",
    "とすると、 $\\mathbf A\\succ 0$ であるとき、 \n",
    "\n",
    "$$\\text{If}\\ \\mathbf C\\succ 0, \\text{then}\\ (\\mathbf M\\succ 0\\iff \\mathbf M/\\mathbf C\\succeq 0)$$\n",
    "\n",
    "が成り立つ。\n"
   ]
  },
  {
   "cell_type": "markdown",
   "metadata": {},
   "source": [
    "**定理**\n",
    "\n",
    "$\\mathbb E$ を任意の期待値： $\\mathbb E_{\\mathbf x,\\mathbf y}, \\mathbb E_{\\mathbf x\\mid\\mathbf y}, \\mathbb E_{\\mathbf y\\mid\\mathbf x}$ であるとする。\n",
    "\n",
    "$$\n",
    "\\begin{pmatrix} \\mathbb E[\\mathbf f(\\mathbf x,\\mathbf y)\\mathbf f(\\mathbf x,\\mathbf y)^T] & \\mathbb E[\\mathbf f(\\mathbf x,\\mathbf y)\\mathbf g(\\mathbf x,\\mathbf y)^T] \\\\ \\mathbb E[\\mathbf f(\\mathbf x,\\mathbf y)\\mathbf g(\\mathbf x,\\mathbf y)^T]^T & \\mathbb E[\\mathbf g(\\mathbf x,\\mathbf y)\\mathbf g(\\mathbf x,\\mathbf y)^T] \\end{pmatrix}\\succeq 0\n",
    "$$\n",
    "\n",
    "**証明**\n",
    "\n",
    "$\\mathbf h(\\mathbf x,\\mathbf y)$ を\n",
    "\n",
    "$$\\mathbf h(\\mathbf x,\\mathbf y)=\\begin{pmatrix}\\mathbf f(\\mathbf x,\\mathbf y) \\\\ \\mathbf g(\\mathbf x,\\mathbf y)\\end{pmatrix}$$\n",
    "\n",
    "とすると、任意のベクトル $\\mathbf u$ に対して\n",
    "\n",
    "$$\n",
    "\\begin{split}\n",
    "&\\phantom{=}\\mathbf u^T\\begin{pmatrix} \\mathbb E[\\mathbf f(\\mathbf x,\\mathbf y)\\mathbf f(\\mathbf x,\\mathbf y)^T] & \\mathbb E[\\mathbf f(\\mathbf x,\\mathbf y)\\mathbf g(\\mathbf x,\\mathbf y)^T] \\\\ \\mathbb E[\\mathbf f(\\mathbf x,\\mathbf y)\\mathbf g(\\mathbf x,\\mathbf y)^T]^T & \\mathbb E[\\mathbf g(\\mathbf x,\\mathbf y)\\mathbf g(\\mathbf x,\\mathbf y)^T] \\end{pmatrix}\\mathbf u \\\\\n",
    "&= \\mathbf u^T\\mathbb E[\\mathbf h(\\mathbf x,\\mathbf y)\\mathbf h(\\mathbf x,\\mathbf y)^T]\\mathbf u \\\\\n",
    "&= \\mathbb E[(\\mathbf h(\\mathbf x,\\mathbf y)\\mathbf u)^2] \\\\\n",
    "&\\succeq 0\n",
    "\\end{split}\n",
    "$$"
   ]
  },
  {
   "cell_type": "markdown",
   "metadata": {},
   "source": [
    "**定理**\n",
    "\n",
    "$\\mathbb E[\\mathbf g(\\mathbf x,\\mathbf y)\\mathbf g(\\mathbf x,\\mathbf y)^T]\\succ 0$ のとき、\n",
    "\n",
    "$$\\mathbb E[\\mathbf f(\\mathbf x,\\mathbf y)\\mathbf f(\\mathbf x,\\mathbf y)^T]\\succeq\\mathbb E[\\mathbf f(\\mathbf x,\\mathbf y)\\mathbf g(\\mathbf x,\\mathbf y)^T]\\mathbb E[\\mathbf g(\\mathbf x,\\mathbf y)\\mathbf g(\\mathbf x,\\mathbf y)^T]^{-1}\\mathbb E[\\mathbf f(\\mathbf x,\\mathbf y)\\mathbf g(\\mathbf x,\\mathbf y)^T]^T$$\n",
    "\n",
    "が成り立つ。\n",
    "\n",
    "**証明**\n",
    "\n",
    "$$\\mathbf M=\\begin{pmatrix} \\mathbb E[\\mathbf f(\\mathbf x,\\mathbf y)\\mathbf f(\\mathbf x,\\mathbf y)^T] & \\mathbb E[\\mathbf f(\\mathbf x,\\mathbf y)\\mathbf g(\\mathbf x,\\mathbf y)^T] \\\\ \\mathbb E[\\mathbf f(\\mathbf x,\\mathbf y)\\mathbf g(\\mathbf x,\\mathbf y)^T]^T & \\mathbb E[\\mathbf g(\\mathbf x,\\mathbf y)\\mathbf g(\\mathbf x,\\mathbf y)^T] \\end{pmatrix}$$\n",
    "\n",
    "とすると、 $\\mathbf M\\succeq 0$ であり、よって $\\mathbf M/\\mathbb E[\\mathbf g(\\mathbf x,\\mathbf y)\\mathbf g(\\mathbf x,\\mathbf y)^T]\\succeq 0$ である。"
   ]
  },
  {
   "cell_type": "markdown",
   "metadata": {},
   "source": [
    "\n",
    "### Fisher 情報行列\n",
    "\n",
    "$\\mathbf w$ を未知変数、 $y$ を観測変数とする。\n",
    "Fisher 情報行列を\n",
    "\n",
    "$$\n",
    "\\begin{split}\n",
    "I(\\mathbf w) &=-\\mathbb E_{y\\mid \\mathbf w}\\left[\\frac{\\partial^2}{\\partial \\mathbf w^2}\\ln p(y\\mid\\mathbf w)\\right] \\\\\n",
    "&= -\\int\\left(\\frac{\\partial^2}{\\partial \\mathbf w^2}\\ln p(y\\mid\\mathbf w)\\right)p(y\\mid\\mathbf w)dy \\\\\n",
    "&\\in\\mathbb R^{n\\times n}\n",
    "\\end{split}\n",
    "$$\n",
    "\n",
    "とする。各要素は\n",
    "\n",
    "$$\n",
    "I_{ij}=-\\mathbb E_{y\\mid\\mathbf w}\\left[\\frac{\\partial^2}{\\partial w_i\\partial w_j}\\ln p(y\\mid\\mathbf w)\\right]\n",
    "$$\n",
    "\n",
    "となる。"
   ]
  },
  {
   "cell_type": "markdown",
   "metadata": {},
   "source": [
    "### Fisher 情報行列は対称行列である\n",
    "\n",
    "$$\n",
    "\\begin{split}\n",
    "I(\\mathbf w) &=-\\mathbb E_{y\\mid \\mathbf w}\\left[\\frac{\\partial^2}{\\partial \\mathbf w^2}\\ln p(y\\mid\\mathbf w)\\right] \\\\\n",
    "&= -\\int\\left(\\frac{\\partial^2}{\\partial \\mathbf w^2}\\ln p(y\\mid\\mathbf w)\\right)p(y\\mid\\mathbf w)dy \\\\\n",
    "&= -\\int\\left(\\frac{\\partial}{\\partial\\mathbf w}\\left[\\frac{1}{p(y\\mid\\mathbf w)}\\frac{\\partial}{\\partial\\mathbf w}p(y\\mid\\mathbf w)\\right]\\right)p(y\\mid\\mathbf w)dy \\\\\n",
    "&= -\\int\\left(-\\left[\\frac{1}{p(y\\mid\\mathbf w)}\\right]^2\\left[\\frac{\\partial}{\\partial\\mathbf w}p(y\\mid\\mathbf w)\\right]\\left[\\frac{\\partial}{\\partial\\mathbf w}p(y\\mid\\mathbf w)\\right]^T+\\frac{1}{p(y\\mid\\mathbf w)}\\frac{\\partial^2}{\\partial\\mathbf w^2}p(y\\mid\\mathbf w)\\right)p(y\\mid\\mathbf w)dy \\\\\n",
    "&= \\int\\left(\\frac{1}{p(y\\mid\\mathbf w)}\\frac{\\partial}{\\partial \\mathbf w}p(y\\mid\\mathbf w)\\right)\\left(\\frac{1}{p(y\\mid\\mathbf w)}\\frac{\\partial}{\\partial \\mathbf w}p(y\\mid\\mathbf w)\\right)^Tp(y\\mid\\mathbf w)dy-\\int\\frac{\\partial^2}{\\partial\\mathbf w^2}p(y\\mid\\mathbf w)dy \\\\\n",
    "&= \\int\\left(\\frac{\\partial}{\\partial\\mathbf w}\\ln p(y\\mid\\mathbf w)\\right)\\left(\\frac{\\partial}{\\partial\\mathbf w}\\ln p(y\\mid\\mathbf w)\\right)^Tp(y\\mid\\mathbf w)dy-\\underbrace{\\frac{\\partial^2}{\\partial\\mathbf w^2}\\int p(y\\mid\\mathbf w)dy}_\\mathbf O \\\\\n",
    "&= \\mathbb E_{y\\mid\\mathbf w}\\left[\\left(\\frac{\\partial}{\\partial\\mathbf w}\\ln p(y\\mid\\mathbf w)\\right)\\left(\\frac{\\partial}{\\partial\\mathbf w}\\ln p(y\\mid\\mathbf w)\\right)^T\\right]\n",
    "\\end{split}\n",
    "$$\n",
    "\n",
    "であるから、Fisher 情報行列は\n",
    "\n",
    "$$\n",
    "I(\\mathbf w) =-\\mathbb E_{y\\mid \\mathbf w}\\left[\\frac{\\partial^2}{\\partial \\mathbf w^2}\\ln p(y\\mid\\mathbf w)\\right] = \\mathbb E_{y\\mid\\mathbf w}\\left[\\left(\\frac{\\partial}{\\partial\\mathbf w}\\ln p(y\\mid\\mathbf w)\\right)\\left(\\frac{\\partial}{\\partial\\mathbf w}\\ln p(y\\mid\\mathbf w)\\right)^T\\right]\n",
    "$$\n",
    "\n",
    "と表せる。"
   ]
  },
  {
   "cell_type": "markdown",
   "metadata": {},
   "source": [
    "### クラメル・ラオ不等式\n",
    "\n",
    "**定理**\n",
    "\n",
    "$I(\\mathbf w)\\succ 0$ のとき、\n",
    "\n",
    "$$\\mathbb E_{y\\mid\\mathbf w}\\left[(\\mathbf w-\\mathbf f(y))(\\mathbf w-\\mathbf f(y))^T\\right]\\succeq I^{-1}(\\mathbf w)$$\n",
    "\n",
    "が成り立つ。ただし、 $\\mathbf f(y)$ は不偏推定値とする。つまり、次式が成り立つとする。\n",
    "\n",
    "$$\\mathbb E_{y\\mid\\mathbf w}[\\mathbf f(y)]=\\mathbf w$$\n",
    "\n",
    "**証明**\n",
    "\n",
    "Schur 補行列の正定値性より、\n",
    "\n",
    "$$\n",
    "\\begin{split}\n",
    "&\\phantom{=}\\mathbb E_{y\\mid\\mathbf w}\\left[(\\mathbf w-\\mathbf f(y))(\\mathbf w-\\mathbf f(y))^T\\right] \\\\\n",
    "&\\succeq \\mathbb E_{y\\mid\\mathbf w}\\left[(\\mathbf w-\\mathbf f(y))\\left(\\frac{\\partial}{\\partial \\mathbf w}\\ln p(y\\mid\\mathbf w)\\right)^T\\right]I^{-1}(\\mathbf w)\\mathbb E_{y\\mid\\mathbf w}\\left[(\\mathbf w-\\mathbf f(y))\\left(\\frac{\\partial}{\\partial \\mathbf w}\\ln p(y\\mid\\mathbf w)\\right)^T\\right]^T\n",
    "\\end{split}\n",
    "$$\n",
    "\n",
    "ここで、\n",
    "\n",
    "$$\n",
    "\\begin{split}\n",
    "\\mathbb E_{y\\mid\\mathbf w}\\left[(\\mathbf w-\\mathbf f(y))\\left(\\frac{\\partial}{\\partial \\mathbf w}\\ln p(y\\mid\\mathbf w)\\right)^T\\right] &= \\int\\left(\\mathbf w-\\mathbf f(y)\\right)\\left(\\frac{1}{p(y\\mid\\mathbf w)}\\frac{\\partial}{\\partial\\mathbf w}p(y\\mid\\mathbf w)\\right)^Tp(y\\mid\\mathbf w)dy \\\\\n",
    "&= \\int \\left(\\mathbf w - \\mathbf f(y)\\right)\\left(\\frac{\\partial}{\\partial\\mathbf w}p(y\\mid\\mathbf w)\\right)^Tdy \\\\\n",
    "&= \\mathbf w\\left( \\frac{\\partial}{\\partial \\mathbf w} \\int p(y\\mid\\mathbf w) dy \\right)^T-\\frac{\\partial}{\\partial \\mathbf w^T}\\int \\mathbf f(y) p(y\\mid\\mathbf w)dy \\\\\n",
    "&= \\underbrace{\\mathbf w\\left(\\frac{\\partial}{\\partial \\mathbf w} 1\\right)^T}_\\mathbf O-\\frac{\\partial}{\\partial\\mathbf w^T}\\mathbf w \\\\\n",
    "&= -\\mathbf I\n",
    "\\end{split}\n",
    "$$\n",
    "\n",
    "が成り立つ。 $\\mathbf I$ は単位行列を表す。"
   ]
  },
  {
   "cell_type": "markdown",
   "metadata": {},
   "source": [
    "\n",
    "### ベイズ情報行列\n",
    "\n",
    "$\\mathbf w$ を未知変数、 $y$ を観測変数とする。\n",
    "ベイズ情報行列を\n",
    "\n",
    "$$\n",
    "\\begin{split}\n",
    "J &=-\\mathbb E_{\\mathbf w, y}\\left[\\frac{\\partial^2}{\\partial \\mathbf w^2}\\ln p(\\mathbf w, y)\\right] \\\\\n",
    "&= -\\int\\int\\left(\\frac{\\partial^2}{\\partial \\mathbf w^2}\\ln p(\\mathbf w, y)\\right)p(\\mathbf w, y)dyd\\mathbf w \\\\\n",
    "&\\in\\mathbb R^{n\\times n}\n",
    "\\end{split}\n",
    "$$\n",
    "\n",
    "とする。各要素は\n",
    "\n",
    "$$\n",
    "J_{ij}=-\\mathbb E_{\\mathbf w,y}\\left[\\frac{\\partial^2}{\\partial w_i\\partial w_j}\\ln p(\\mathbf w,y)\\right]\n",
    "$$\n",
    "\n",
    "となる。"
   ]
  },
  {
   "cell_type": "markdown",
   "metadata": {},
   "source": [
    "### ベイズ情報行列は対称行列である\n",
    "\n",
    "$$\n",
    "\\begin{split}\n",
    "J &=-\\mathbb E_{\\mathbf w,y}\\left[\\frac{\\partial^2}{\\partial \\mathbf w^2}\\ln p(\\mathbf w,y)\\right] \\\\\n",
    "&= -\\int\\int\\left(\\frac{\\partial^2}{\\partial \\mathbf w^2}\\ln p(\\mathbf w,y)\\right)p(\\mathbf w,y)d\\mathbf wdy \\\\\n",
    "&= -\\int\\int\\left(\\frac{\\partial}{\\partial\\mathbf w}\\left[\\frac{1}{p(\\mathbf w,y)}\\frac{\\partial}{\\partial\\mathbf w}p(\\mathbf w,y)\\right]\\right)p(\\mathbf w,y)d\\mathbf wdy \\\\\n",
    "&= -\\int\\int\\left(-\\left[\\frac{1}{p(\\mathbf w,y)}\\right]^2\\left[\\frac{\\partial}{\\partial\\mathbf w}p(\\mathbf w,y)\\right]\\left[\\frac{\\partial}{\\partial\\mathbf w}p(\\mathbf w,y)\\right]^T+\\frac{1}{p(\\mathbf w,y)}\\frac{\\partial^2}{\\partial\\mathbf w^2}p(\\mathbf w,y)\\right)p(\\mathbf w,y)d\\mathbf wdy \\\\\n",
    "&= \\int\\int\\left(\\frac{1}{p(\\mathbf w,y)}\\frac{\\partial}{\\partial \\mathbf w}p(\\mathbf w,y)\\right)\\left(\\frac{1}{p(\\mathbf w,y)}\\frac{\\partial}{\\partial \\mathbf w}p(\\mathbf w,y)\\right)^Tp(\\mathbf w,y)d\\mathbf wdy-\\int\\int\\frac{\\partial^2}{\\partial\\mathbf w^2}p(\\mathbf w,y)d\\mathbf wdy \\\\\n",
    "&= \\int\\int\\left(\\frac{\\partial}{\\partial\\mathbf w}\\ln p(\\mathbf w,y)\\right)\\left(\\frac{\\partial}{\\partial\\mathbf w}\\ln p(\\mathbf w,y)\\right)^Tp(\\mathbf w,y)d\\mathbf wdy-\\underbrace{\\frac{\\partial^2}{\\partial\\mathbf w^2}\\int\\int p(\\mathbf w,y)d\\mathbf wdy}_\\mathbf O \\\\\n",
    "&= \\mathbb E_{\\mathbf w,y}\\left[\\left(\\frac{\\partial}{\\partial\\mathbf w}\\ln p(\\mathbf w,y)\\right)\\left(\\frac{\\partial}{\\partial\\mathbf w}\\ln p(\\mathbf w,y)\\right)^T\\right]\n",
    "\\end{split}\n",
    "$$\n",
    "\n",
    "であり、\n",
    "\n",
    "$$\n",
    "\\begin{split}\n",
    "J &=-\\mathbb E_{\\mathbf w,y}\\left[\\frac{\\partial^2}{\\partial \\mathbf w^2}\\ln p(\\mathbf w,y)\\right] \\\\\n",
    "&= -\\int\\int\\left(\\frac{\\partial^2}{\\partial \\mathbf w^2}\\ln p(\\mathbf w\\mid y)\\right)p(\\mathbf w,y)d\\mathbf wdy -\\underbrace{\\int\\int\\left(\\frac{\\partial^2}{\\partial \\mathbf w^2}\\ln p(y)\\right)p(\\mathbf w,y)d\\mathbf wdy}_\\mathbf O \\\\\n",
    "&= \\mathbb E_{\\mathbf w,y}\\left[\\left(\\frac{\\partial}{\\partial\\mathbf w}\\ln p(\\mathbf w\\mid y)\\right)\\left(\\frac{\\partial}{\\partial\\mathbf w}\\ln p(\\mathbf w\\mid y)\\right)^T\\right]\n",
    "\\end{split}\n",
    "$$\n",
    "\n",
    "であるから、ベイズ情報行列は\n",
    "\n",
    "$$\n",
    "\\begin{split}\n",
    "J &=-\\mathbb E_{\\mathbf w,y}\\left[\\frac{\\partial^2}{\\partial \\mathbf w^2}\\ln p(\\mathbf w,y)\\right] \\\\\n",
    "&= \\mathbb E_{\\mathbf w,y}\\left[\\left(\\frac{\\partial}{\\partial\\mathbf w}\\ln p(\\mathbf w,y)\\right)\\left(\\frac{\\partial}{\\partial\\mathbf w}\\ln p(\\mathbf w,y)\\right)^T\\right] \\\\\n",
    "&= \\mathbb E_{\\mathbf w,y}\\left[\\left(\\frac{\\partial}{\\partial\\mathbf w}\\ln p(\\mathbf w\\mid y)\\right)\\left(\\frac{\\partial}{\\partial\\mathbf w}\\ln p(\\mathbf w\\mid y)\\right)^T\\right]\n",
    "\\end{split}\n",
    "$$\n",
    "\n",
    "と表せる。"
   ]
  },
  {
   "cell_type": "markdown",
   "metadata": {},
   "source": [
    "### 事後クラメル・ラオ不等式 (Posterior Cramér-Rao inequality)\n",
    "\n",
    "**定理**\n",
    "\n",
    "$J\\succ 0$ のとき、\n",
    "\n",
    "$$\\mathbb E_{\\mathbf w,y}\\left[(\\mathbf w-\\mathbf f(y))(\\mathbf w-\\mathbf f(y))^T\\right]\\succeq J^{-1}$$\n",
    "\n",
    "が成り立つ。ただし、次式が成り立つとする。\n",
    "\n",
    "$$\\lim_{\\mathbf w_i\\to\\pm\\infty}\\mathbb E_{y\\mid\\mathbf w}[\\mathbf f(y)-\\mathbf w]p(\\mathbf w)=\\lim_{\\mathbf w_i\\to\\pm\\infty}\\int (\\mathbf f(y)-\\mathbf w)p(\\mathbf w,y)dy=\\mathbf 0,\\ i=1,\\ldots,n$$\n",
    "\n",
    "**証明**\n",
    "\n",
    "Schur 補行列の正定値性より、\n",
    "\n",
    "$$\n",
    "\\begin{split}\n",
    "&\\phantom{=}\\mathbb E_{\\mathbf w,y}\\left[(\\mathbf w-\\mathbf f(y))(\\mathbf w-\\mathbf f(y))^T\\right] \\\\\n",
    "&\\succeq \\mathbb E_{\\mathbf w,y}\\left[(\\mathbf w-\\mathbf f(y))\\left(\\frac{\\partial}{\\partial \\mathbf w}\\ln p(\\mathbf w,y)\\right)^T\\right]J^{-1}\\mathbb E_{\\mathbf w,y}\\left[(\\mathbf w-\\mathbf f(y))\\left(\\frac{\\partial}{\\partial \\mathbf w}\\ln p(\\mathbf w,y)\\right)^T\\right]^T\n",
    "\\end{split}\n",
    "$$\n",
    "\n",
    "ここで、\n",
    "\n",
    "$$\n",
    "\\begin{split}\n",
    "\\mathbb E_{\\mathbf w,y}\\left[(\\mathbf w-\\mathbf f(y))\\left(\\frac{\\partial}{\\partial \\mathbf w}\\ln p(\\mathbf w,y)\\right)^T\\right] &= \\int\\int\\left(\\mathbf w-\\mathbf f(y)\\right)\\left(\\frac{1}{p(\\mathbf w,y)}\\frac{\\partial}{\\partial\\mathbf w}p(\\mathbf w,y)\\right)^Tp(\\mathbf w,y)d\\mathbf wdy \\\\\n",
    "&= \\int\\int \\left(\\mathbf w - \\mathbf f(y)\\right)\\left(\\frac{\\partial}{\\partial\\mathbf w}p(\\mathbf w,y)\\right)^Td\\mathbf wdy\n",
    "\\end{split}\n",
    "$$\n",
    "\n",
    "が成り立つ。$ij$ 要素に対して部分積分すると、\n",
    "\n",
    "$$\n",
    "\\begin{split}\n",
    "& \\left\\{\\int\\int \\left(\\mathbf w - \\mathbf f(y)\\right)\\left(\\frac{\\partial}{\\partial\\mathbf w}p(\\mathbf w,y)\\right)^Td\\mathbf wdy\\right\\}_{ij} \\\\\n",
    "&= \\int\\int(w_i-f_i(y))\\left(\\frac{\\partial}{\\partial w_j}p(\\mathbf w,y)\\right)d\\mathbf wdy \\\\\n",
    "&= \\int\\int\\left[(w_i-f_i(y))p(\\mathbf w,y)\\right]_{w_j=-\\infty}^{w_j=\\infty}d\\mathbf w_kdy-\\int\\int\\frac{\\partial}{\\partial w_j}(w_i-f_i(y))p(\\mathbf w,y)d\\mathbf wdy \\\\\n",
    "&= \\int\\left[\\lim_{w_j\\to\\infty}\\int(w_i-f_i(y))p(\\mathbf w,y)dy-\\lim_{w_j\\to-\\infty}\\int(w_i-f_i(y))p(\\mathbf w,y)dy\\right]d\\mathbf w_k - I_{ij} \\\\\n",
    "&= -I_{ij}\n",
    "\\end{split}\n",
    "$$\n",
    "\n",
    "となる。$\\mathbf w_k$ は $k\\neq j$ となる全ての $k$ を添字とする $w$ を表す。 $I_{ij}$ とは単位行列 $\\mathbf I$ の $ij$ 要素を表す。"
   ]
  },
  {
   "cell_type": "code",
   "execution_count": 10,
   "metadata": {},
   "outputs": [],
   "source": [
    "#| default_exp EKF"
   ]
  },
  {
   "cell_type": "code",
   "execution_count": 11,
   "metadata": {},
   "outputs": [],
   "source": [
    "#| hide\n",
    "#| export\n",
    "import jax.numpy as jnp\n",
    "import jax.lax as lax\n",
    "from jaxtyping import Array, Float, Int\n",
    "from KalmanPaper import simple as sp\n",
    "from typing import Tuple"
   ]
  },
  {
   "cell_type": "markdown",
   "metadata": {},
   "source": [
    "### Logistic sigmoid 関数の微分\n",
    "\n",
    "$$\\frac{d}{dx}\\sigma(x)=\\sigma(x)\\{1-\\sigma(x)\\}$$"
   ]
  },
  {
   "cell_type": "code",
   "execution_count": 12,
   "metadata": {},
   "outputs": [],
   "source": [
    "#| export\n",
    "def dxlosi(\n",
    "    x: Float[Array, \"\"] # $x$\n",
    ") -> Float[Array, \"\"]: # $(d/dx)\\sigma(x)$\n",
    "  return sp.losi(x) * (1 - sp.losi(x))"
   ]
  },
  {
   "cell_type": "markdown",
   "metadata": {},
   "source": [
    "### `Ptt`: 推定誤差共分散行列 $\\mathbf P_{t/t}$\n",
    "\n",
    "$$\\sigma_t=\\sigma(\\hat{\\mathbf w}_{t/t-1}^T\\mathbf x_t)$$\n",
    "$$\\mathbf P_{t/t}=\\mathbf P_{t/t-1}-\\frac{\\sigma_t(1-\\sigma_t)}{1+\\sigma_t(1-\\sigma_t)\\mathbf x_t^T\\mathbf P_{t/t-1}\\mathbf x_t}(\\mathbf P_{t/t-1}\\mathbf x_t)(\\mathbf P_{t/t-1}\\mathbf x_t)^T$$"
   ]
  },
  {
   "cell_type": "code",
   "execution_count": 13,
   "metadata": {},
   "outputs": [],
   "source": [
    "#| export\n",
    "def Ptt(\n",
    "    Ptm: Float[Array, \"N N\"], # $\\mathbf P_{t/t-1}$\n",
    "    w: Float[Array, \"N\"],   # $\\hat{\\mathbf w}_{t/t-1}$\n",
    "    x: Float[Array, \"N\"],   # $\\mathbf x_t$\n",
    ") -> Float[Array, \"N N\"]:   # $\\mathbf P_{t/t}$\n",
    "  dsigma = dxlosi(w @ x)\n",
    "  Ptmx = Ptm @ x\n",
    "  return Ptm - (dsigma / (1 + dsigma * (x @ Ptmx))) * jnp.outer(Ptmx, Ptmx)"
   ]
  },
  {
   "cell_type": "markdown",
   "metadata": {},
   "source": [
    "### `wtt`: 濾波推定値 $\\hat{\\mathbf w}_{t/t}$\n",
    "\n",
    "$$\\hat{\\mathbf w}_{t/t}=\\hat{\\mathbf w}_{t/t-1}+\\frac{1}{1+\\sigma_t(1-\\sigma_t)\\mathbf x_t^T\\mathbf P_{t/t-1}\\mathbf x_t}\\mathbf P_{t/t-1}\\mathbf x_t(y_t-\\sigma_t)$$"
   ]
  },
  {
   "cell_type": "code",
   "execution_count": 14,
   "metadata": {},
   "outputs": [],
   "source": [
    "#| export\n",
    "def wtt(\n",
    "    Ptm: Float[Array, \"N N\"], # $\\mathbf P_{t/t-1}$\n",
    "    w: Float[Array, \"N\"],   # $\\hat{\\mathbf w}_{t/t-1}$\n",
    "    x: Float[Array, \"N\"],   # $\\mathbf x_t$\n",
    "    y: Float[Array, \"N\"],   # $y_t$\n",
    ") -> Float[Array, \"N\"]: # $\\hat{\\mathbf w}_{t/t}$\n",
    "  dsigma = dxlosi(w @ x)\n",
    "  Ptmx = Ptm @ x\n",
    "  return w + ((y - sp.losi(w @ x)) / (1 + dsigma * (x @ Ptmx))) * Ptmx"
   ]
  },
  {
   "cell_type": "markdown",
   "metadata": {},
   "source": [
    "### `EKF`: Extended Kalman Filter\n",
    "\n",
    "$$N,T,\\{ \\mathbf x_t \\}_{t=0,\\ldots,T-1}, \\{ y_t \\}_{t=0,\\ldots,T-1}, \\boldsymbol\\Gamma, \\hat{\\mathbf w}_{0/-1}, \\mathbf P_{0/-1} $$\n",
    "$$\\to\\{\\hat{\\mathbf w}_{t/t}\\}_{t=0,\\ldots,T-1},\\{\\mathbf P_{t/t}\\}_{t=0,\\ldots,T-1}$$"
   ]
  },
  {
   "cell_type": "code",
   "execution_count": 15,
   "metadata": {},
   "outputs": [],
   "source": [
    "#| export\n",
    "def EKF(\n",
    "    N: Int, # $N$\n",
    "    T: Int, # $T$\n",
    "    x: Float[Array, \"{T} {N}\"], # $\\{ \\mathbf x_t \\}_{t=0,\\ldots,T-1}$\n",
    "    y: Float[Array, \"{T} {N}\"], # $\\{ y_t \\}_{t=0,\\ldots,T-1}$\n",
    "    G: Float[Array, \"{N} {N}\"], # $\\boldsymbol\\Gamma$\n",
    "    w0: Float[Array, \"{N}\"], # $\\hat{\\mathbf w}_{0/-1}$\n",
    "    P0: Float[Array, \"{N} {N}\"], # $\\mathbf P_{0/-1}$\n",
    ") -> Tuple[Float[Array, \"{T} {N}\"], Float[Array, \"{T} {N} {N}\"]]: # $\\{\\hat{\\mathbf w}_{t/t}\\}_{t=0,\\ldots,T-1},\\{\\mathbf P_{t/t}\\}_{t=0,\\ldots,T-1}$\n",
    "    def step(carry, inputs):\n",
    "        Ptm, wtm = carry\n",
    "        xt, yt = inputs\n",
    "        Ptt_ = Ptt(Ptm, wtm, xt)\n",
    "        wtt_ = wtt(Ptm, wtm, xt, yt)\n",
    "        return (Ptt_ + G, wtt_), (wtt_, Ptt_)\n",
    "    \n",
    "    _, (W, P) = lax.scan(\n",
    "        step,\n",
    "        (P0, w0),\n",
    "        (x, y),\n",
    "        length=T\n",
    "    )\n",
    "    return W, P"
   ]
  },
  {
   "cell_type": "code",
   "execution_count": 16,
   "metadata": {},
   "outputs": [],
   "source": [
    "#| hide\n",
    "import nbdev; nbdev.nbdev_export()"
   ]
  },
  {
   "cell_type": "markdown",
   "metadata": {},
   "source": []
  }
 ],
 "metadata": {
  "kernelspec": {
   "display_name": "venv (3.11.0)",
   "language": "python",
   "name": "python3"
  },
  "language_info": {
   "codemirror_mode": {
    "name": "ipython",
    "version": 3
   },
   "file_extension": ".py",
   "mimetype": "text/x-python",
   "name": "python",
   "nbconvert_exporter": "python",
   "pygments_lexer": "ipython3",
   "version": "3.11.0"
  }
 },
 "nbformat": 4,
 "nbformat_minor": 4
}
