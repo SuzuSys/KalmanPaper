{
 "cells": [
  {
   "cell_type": "code",
   "execution_count": null,
   "id": "7e84409f",
   "metadata": {},
   "outputs": [
    {
     "name": "stdout",
     "output_type": "stream",
     "text": [
      "The autoreload extension is already loaded. To reload it, use:\n",
      "  %reload_ext autoreload\n"
     ]
    }
   ],
   "source": [
    "#| hide\n",
    "%load_ext autoreload\n",
    "%autoreload 2"
   ]
  },
  {
   "cell_type": "code",
   "execution_count": null,
   "id": "a5fe6432",
   "metadata": {},
   "outputs": [],
   "source": [
    "#| default_exp EKF"
   ]
  },
  {
   "cell_type": "code",
   "execution_count": null,
   "id": "8f041fc2",
   "metadata": {},
   "outputs": [],
   "source": [
    "#| hide\n",
    "#| export\n",
    "import jax.numpy as jnp\n",
    "import jax.lax as lax\n",
    "import jax\n",
    "from jaxtyping import Array, Float, Int\n",
    "from KalmanPaper import simple as sp\n",
    "from typing import Tuple\n",
    "from functools import partial"
   ]
  },
  {
   "cell_type": "code",
   "execution_count": null,
   "id": "a79b20e4",
   "metadata": {},
   "outputs": [],
   "source": [
    "#| export\n",
    "@jax.jit\n",
    "def Ptt(\n",
    "    Ptm: Float[Array, \"N N\"], # $\\mathbf P_{t/t-1}$\n",
    "    w: Float[Array, \"N\"],   # $\\hat{\\mathbf w}_{t/t-1}$\n",
    "    x: Float[Array, \"N\"],   # $\\mathbf x_t$\n",
    ") -> Float[Array, \"N N\"]:   # $\\mathbf P_{t/t}$\n",
    "  r\"\"\"$\\!$*\n",
    "  推定誤差共分散行列 $\\mathbf P_{t/t}$\n",
    "  $$\\sigma_t=\\sigma(\\hat{\\mathbf w}_{t/t-1}^T\\mathbf x_t)$$\n",
    "  $$\\mathbf P_{t/t}=\\mathbf P_{t/t-1}-\\frac{\\sigma_t(1-\\sigma_t)}{1+\\sigma_t(1-\\sigma_t)\\mathbf x_t^T\\mathbf P_{t/t-1}\\mathbf x_t}(\\mathbf P_{t/t-1}\\mathbf x_t)(\\mathbf P_{t/t-1}\\mathbf x_t)^T$$\n",
    "  *$\\!$\"\"\"\n",
    "  dsigma = sp.dxlosi(w @ x)\n",
    "  Ptmx = Ptm @ x\n",
    "  return Ptm - (dsigma / (1 + dsigma * (x @ Ptmx))) * jnp.outer(Ptmx, Ptmx)"
   ]
  },
  {
   "cell_type": "code",
   "execution_count": null,
   "id": "1b2e1625",
   "metadata": {},
   "outputs": [
    {
     "data": {
      "text/markdown": [
       "---\n",
       "\n",
       "[source](https://github.com/SuzuSys/KalmanPaper/blob/main/KalmanPaper/EKF.py#L17){target=\"_blank\" style=\"float:right; font-size:smaller\"}\n",
       "\n",
       "### Ptt\n",
       "\n",
       ">      Ptt (Ptm:jaxtyping.Float[Array,'NN'], w:jaxtyping.Float[Array,'N'],\n",
       ">           x:jaxtyping.Float[Array,'N'])\n",
       "\n",
       "*$\\!$*\n",
       "推定誤差共分散行列 $\\mathbf P_{t/t}$\n",
       "$$\\sigma_t=\\sigma(\\hat{\\mathbf w}_{t/t-1}^T\\mathbf x_t)$$\n",
       "$$\\mathbf P_{t/t}=\\mathbf P_{t/t-1}-\\frac{\\sigma_t(1-\\sigma_t)}{1+\\sigma_t(1-\\sigma_t)\\mathbf x_t^T\\mathbf P_{t/t-1}\\mathbf x_t}(\\mathbf P_{t/t-1}\\mathbf x_t)(\\mathbf P_{t/t-1}\\mathbf x_t)^T$$\n",
       "*$\\!$*\n",
       "\n",
       "|$\\!$| **Type** | **Details** |\n",
       "| -- | -------- | ----------- |\n",
       "| Ptm | Float[Array, 'N N'] | $\\mathbf P_{t/t-1}$ |\n",
       "| w | Float[Array, 'N'] | $\\hat{\\mathbf w}_{t/t-1}$ |\n",
       "| x | Float[Array, 'N'] | $\\mathbf x_t$ |\n",
       "| **Returns** | **Float[Array, 'N N']** | **$\\mathbf P_{t/t}$** |"
      ],
      "text/plain": [
       "<IPython.core.display.Markdown object>"
      ]
     },
     "execution_count": null,
     "metadata": {},
     "output_type": "execute_result"
    }
   ],
   "source": [
    "#| hide\n",
    "sp.reshow_doc(Ptt)"
   ]
  },
  {
   "cell_type": "code",
   "execution_count": null,
   "id": "0eaa43b6",
   "metadata": {},
   "outputs": [],
   "source": [
    "#| export\n",
    "@jax.jit\n",
    "def wtt(\n",
    "    Ptm: Float[Array, \"N N\"], # $\\mathbf P_{t/t-1}$\n",
    "    w: Float[Array, \"N\"],   # $\\hat{\\mathbf w}_{t/t-1}$\n",
    "    x: Float[Array, \"N\"],   # $\\mathbf x_t$\n",
    "    y: Float[Array, \"N\"],   # $y_t$\n",
    ") -> Float[Array, \"N\"]: # $\\hat{\\mathbf w}_{t/t}$\n",
    "  r\"\"\"$\\!$*\n",
    "  濾波推定値 $\\hat{\\mathbf w}_{t/t}$\n",
    "  $$\\hat{\\mathbf w}_{t/t}=\\hat{\\mathbf w}_{t/t-1}+\\frac{1}{1+\\sigma_t(1-\\sigma_t)\\mathbf x_t^T\\mathbf P_{t/t-1}\\mathbf x_t}\\mathbf P_{t/t-1}\\mathbf x_t(y_t-\\sigma_t)$$\n",
    "  *$\\!$\"\"\"\n",
    "  dsigma = sp.dxlosi(w @ x)\n",
    "  Ptmx = Ptm @ x\n",
    "  return w + ((y - sp.losi(w @ x)) / (1 + dsigma * (x @ Ptmx))) * Ptmx"
   ]
  },
  {
   "cell_type": "code",
   "execution_count": null,
   "id": "95a56251",
   "metadata": {},
   "outputs": [
    {
     "data": {
      "text/markdown": [
       "---\n",
       "\n",
       "[source](https://github.com/SuzuSys/KalmanPaper/blob/main/KalmanPaper/EKF.py#L33){target=\"_blank\" style=\"float:right; font-size:smaller\"}\n",
       "\n",
       "### wtt\n",
       "\n",
       ">      wtt (Ptm:jaxtyping.Float[Array,'NN'], w:jaxtyping.Float[Array,'N'],\n",
       ">           x:jaxtyping.Float[Array,'N'], y:jaxtyping.Float[Array,'N'])\n",
       "\n",
       "*$\\!$*\n",
       "濾波推定値 $\\hat{\\mathbf w}_{t/t}$\n",
       "$$\\hat{\\mathbf w}_{t/t}=\\hat{\\mathbf w}_{t/t-1}+\\frac{1}{1+\\sigma_t(1-\\sigma_t)\\mathbf x_t^T\\mathbf P_{t/t-1}\\mathbf x_t}\\mathbf P_{t/t-1}\\mathbf x_t(y_t-\\sigma_t)$$\n",
       "*$\\!$*\n",
       "\n",
       "|$\\!$| **Type** | **Details** |\n",
       "| -- | -------- | ----------- |\n",
       "| Ptm | Float[Array, 'N N'] | $\\mathbf P_{t/t-1}$ |\n",
       "| w | Float[Array, 'N'] | $\\hat{\\mathbf w}_{t/t-1}$ |\n",
       "| x | Float[Array, 'N'] | $\\mathbf x_t$ |\n",
       "| y | Float[Array, 'N'] | $y_t$ |\n",
       "| **Returns** | **Float[Array, 'N']** | **$\\hat{\\mathbf w}_{t/t}$** |"
      ],
      "text/plain": [
       "<IPython.core.display.Markdown object>"
      ]
     },
     "execution_count": null,
     "metadata": {},
     "output_type": "execute_result"
    }
   ],
   "source": [
    "#| hide\n",
    "sp.reshow_doc(wtt)"
   ]
  },
  {
   "cell_type": "code",
   "execution_count": null,
   "id": "50674da5",
   "metadata": {},
   "outputs": [],
   "source": [
    "#| export\n",
    "@partial(jax.jit, static_argnames=['N', 'T'])\n",
    "def EKF(\n",
    "    N: int, # $N$\n",
    "    T: int, # $T$\n",
    "    x: Float[Array, \"{T} {N}\"], # $\\{ \\mathbf x_t \\}_{t=0,\\ldots,T-1}$\n",
    "    y: Float[Array, \"{T} {N}\"], # $\\{ y_t \\}_{t=0,\\ldots,T-1}$\n",
    "    G: Float[Array, \"{N} {N}\"], # $\\boldsymbol\\Gamma$\n",
    "    w0: Float[Array, \"{N}\"], # $\\hat{\\mathbf w}_{0/-1}$\n",
    "    P0: Float[Array, \"{N} {N}\"], # $\\mathbf P_{0/-1}$\n",
    ") -> Tuple[Float[Array, \"{T} {N}\"], Float[Array, \"{T} {N} {N}\"]]: # $\\{\\hat{\\mathbf w}_{t/t}\\}_{t=0,\\ldots,T-1},\\{\\mathbf P_{t/t}\\}_{t=0,\\ldots,T-1}$\n",
    "    r\"\"\"$\\!$*\n",
    "    拡張カルマンフィルタ\n",
    "    *$\\!$\"\"\"\n",
    "    def step(carry, inputs):\n",
    "        Ptm, wtm = carry\n",
    "        xt, yt = inputs\n",
    "        Ptt_ = Ptt(Ptm, wtm, xt)\n",
    "        wtt_ = wtt(Ptm, wtm, xt, yt)\n",
    "        return (Ptt_ + G, wtt_), (wtt_, Ptt_)\n",
    "    \n",
    "    _, (W, P) = lax.scan(\n",
    "        step,\n",
    "        (P0, w0),\n",
    "        (x, y),\n",
    "        length=T\n",
    "    )\n",
    "    return W, P"
   ]
  },
  {
   "cell_type": "code",
   "execution_count": null,
   "id": "5b8f483b",
   "metadata": {},
   "outputs": [
    {
     "data": {
      "text/markdown": [
       "---\n",
       "\n",
       "[source](https://github.com/SuzuSys/KalmanPaper/blob/main/KalmanPaper/EKF.py#L45){target=\"_blank\" style=\"float:right; font-size:smaller\"}\n",
       "\n",
       "### EKF\n",
       "\n",
       ">      EKF (N:int, T:int, x:jaxtyping.Float[Array,'{T}{N}'],\n",
       ">           y:jaxtyping.Float[Array,'{T}{N}'],\n",
       ">           G:jaxtyping.Float[Array,'{N}{N}'], w0:jaxtyping.Float[Array,'{N}'],\n",
       ">           P0:jaxtyping.Float[Array,'{N}{N}'])\n",
       "\n",
       "*$\\!$*\n",
       "拡張カルマンフィルタ\n",
       "*$\\!$*\n",
       "\n",
       "|$\\!$| **Type** | **Details** |\n",
       "| -- | -------- | ----------- |\n",
       "| N | int | $N$ |\n",
       "| T | int | $T$ |\n",
       "| x | Float[Array, '{T} {N}'] | $\\{ \\mathbf x_t \\}_{t=0,\\ldots,T-1}$ |\n",
       "| y | Float[Array, '{T} {N}'] | $\\{ y_t \\}_{t=0,\\ldots,T-1}$ |\n",
       "| G | Float[Array, '{N} {N}'] | $\\boldsymbol\\Gamma$ |\n",
       "| w0 | Float[Array, '{N}'] | $\\hat{\\mathbf w}_{0/-1}$ |\n",
       "| P0 | Float[Array, '{N} {N}'] | $\\mathbf P_{0/-1}$ |\n",
       "| **Returns** | **Tuple** | **$\\{\\hat{\\mathbf w}_{t/t}\\}_{t=0,\\ldots,T-1},\\{\\mathbf P_{t/t}\\}_{t=0,\\ldots,T-1}$** |"
      ],
      "text/plain": [
       "<IPython.core.display.Markdown object>"
      ]
     },
     "execution_count": null,
     "metadata": {},
     "output_type": "execute_result"
    }
   ],
   "source": [
    "#| hide\n",
    "sp.reshow_doc(EKF)"
   ]
  },
  {
   "cell_type": "code",
   "execution_count": null,
   "id": "3c671448",
   "metadata": {},
   "outputs": [],
   "source": [
    "#| hide\n",
    "import nbdev; nbdev.nbdev_export()"
   ]
  }
 ],
 "metadata": {
  "kernelspec": {
   "display_name": "python3",
   "language": "python",
   "name": "python3"
  }
 },
 "nbformat": 4,
 "nbformat_minor": 5
}
