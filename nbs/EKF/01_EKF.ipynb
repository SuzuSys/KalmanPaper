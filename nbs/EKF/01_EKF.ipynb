{
 "cells": [
  {
   "cell_type": "code",
   "execution_count": null,
   "id": "7e84409f",
   "metadata": {},
   "outputs": [],
   "source": [
    "#| hide\n",
    "%load_ext autoreload\n",
    "%autoreload 2"
   ]
  },
  {
   "cell_type": "markdown",
   "id": "5a15864e",
   "metadata": {},
   "source": [
    "# Extended Kalman Filter\n",
    "\n",
    "> Dynamic Logistic Regression で導出された拡張カルマンフィルタ"
   ]
  },
  {
   "cell_type": "code",
   "execution_count": null,
   "id": "a5fe6432",
   "metadata": {},
   "outputs": [],
   "source": [
    "#| default_exp EKF"
   ]
  },
  {
   "cell_type": "code",
   "execution_count": null,
   "id": "8f041fc2",
   "metadata": {},
   "outputs": [],
   "source": [
    "#| hide\n",
    "#| exporti\n",
    "import jax.numpy as jnp\n",
    "import jax.lax as lax\n",
    "import jax\n",
    "from jaxtyping import Array, Float\n",
    "from KalmanPaper import simple as sp\n",
    "from typing import Tuple, NamedTuple\n",
    "from functools import partial"
   ]
  },
  {
   "cell_type": "markdown",
   "id": "1f7832a6",
   "metadata": {},
   "source": [
    "## 概要\n",
    "\n",
    "濾波推定値 $\\hat{\\mathbf w}_{t/t}$\n",
    "$$\\hat{\\mathbf w}_{t/t}=\\hat{\\mathbf w}_{t/t-1}+\\frac{1}{1+\\sigma_t(1-\\sigma_t)\\mathbf x_t^T\\mathbf P_{t/t-1}\\mathbf x_t}\\mathbf P_{t/t-1}\\mathbf x_t(y_t-\\sigma_t)$$\n",
    "\n",
    "推定誤差共分散行列 $\\mathbf P_{t/t}$\n",
    "  $$\\sigma_t=\\sigma(\\hat{\\mathbf w}_{t/t-1}^T\\mathbf x_t)$$\n",
    "  $$\\mathbf P_{t/t}=\\mathbf P_{t/t-1}-\\frac{\\sigma_t(1-\\sigma_t)}{1+\\sigma_t(1-\\sigma_t)\\mathbf x_t^T\\mathbf P_{t/t-1}\\mathbf x_t}(\\mathbf P_{t/t-1}\\mathbf x_t)(\\mathbf P_{t/t-1}\\mathbf x_t)^T$$\n",
    "\n",
    "各変数の情報の利用\n",
    "\n",
    "| $\\!$ | $\\mathbf P_{t/t}$ | $\\hat{\\mathbf w}_{t/t}$ | $\\mathbf P_{t/t-1}$ | $\\hat{\\mathbf w}_{t/t-1}$ | $\\mathbf x_t$ | $y_t$ |\n",
    "| -- | -- | -- | -- | -- | -- | -- |\n",
    "| $\\mathbf P_{t/t}$ | $\\!$ | $\\!$ | $\\bigcirc$ | $\\bigcirc$ | $\\bigcirc$ | $\\!$ |\n",
    "| $\\hat{\\mathbf w}_{t/t}$ | $\\!$ | $\\!$ | $\\bigcirc$ | $\\bigcirc$ | $\\bigcirc$ | $\\bigcirc$ |\n"
   ]
  },
  {
   "cell_type": "markdown",
   "id": "40cbb086",
   "metadata": {},
   "source": [
    "## ラプラス近似による導出"
   ]
  },
  {
   "cell_type": "markdown",
   "id": "45db88a9",
   "metadata": {},
   "source": [
    "### 1. $p(\\mathbf w_t\\mid\\mathbf Y_t)$\n",
    "\n",
    "$$\n",
    "p(\\mathbf w_t\\mid \\mathbf Y_t)=\\frac{p(y_t\\mid\\mathbf w_t)p(\\mathbf w_t\\mid\\mathbf Y_{t-1})}{p(y_t\\mid\\mathbf Y_{t-1})}\n",
    "$$\n",
    "\n",
    "$$p(\\mathbf w_t\\mid\\mathbf Y_{t-1})=\\mathcal N(\\mathbf w_t\\mid\\hat{\\mathbf w}_{t/t-1},\\mathbf P_{t/t-1})$$\n",
    "\n",
    "よって、\n",
    "\n",
    "$$\n",
    "\\begin{equation*}\n",
    "p(\\mathbf w_t\\mid \\mathbf Y_t)=\n",
    "\\begin{cases}\n",
    "\\sigma(\\mathbf w_t^T\\mathbf x_t)\\mathcal N(\\mathbf w_t\\mid\\hat{\\mathbf w}_{t/t-1},\\mathbf P_{t/t-1}) &( y_t=1) \\\\\n",
    "\\{1-\\sigma(\\mathbf w_t^T\\mathbf x_t)\\}\\mathcal N(\\mathbf w_t\\mid\\hat{\\mathbf w}_{t/t-1},\\mathbf P_{t/t-1}) & (y_t=0)\n",
    "\\end{cases}\n",
    "\\end{equation*}\n",
    "$$"
   ]
  },
  {
   "cell_type": "markdown",
   "id": "5a5bfde2",
   "metadata": {},
   "source": [
    "### 2. $\\hat{\\mathbf w}_{t/t}$\n",
    "\n",
    "$\\mathbf w_{t}$ をMAP推定する。 $\\ln p(\\mathbf w_t\\mid\\mathbf Y_t)$ の微分を $\\mathbf 0$ と置く。\n",
    "\n",
    "$$\n",
    "\\begin{split}\n",
    "&\\phantom{=}\\frac{\\partial}{\\partial \\mathbf w_t}\\ln p(\\mathbf w_t\\mid\\mathbf Y_t) \\\\\n",
    "&= \\frac{\\partial}{\\partial \\mathbf w_t}\\ln\\left[\\sigma(\\mathbf w_t^T\\mathbf x_t)^{y_t}\\{1-\\sigma(\\mathbf w_t^T\\mathbf x_t)\\}^{1-y_t}\\mathcal N(\\mathbf w_t\\mid\\hat{\\mathbf w}_{t/t-1},\\mathbf P_{t/t-1})\\right] \\\\\n",
    "&= \\frac{\\partial}{\\partial \\mathbf w_t}y_t\\ln\\sigma(\\mathbf w_t^T\\mathbf x_t)+\\frac{\\partial}{\\partial\\mathbf w_t}(1-y_t)\\ln\\{1-\\sigma(\\mathbf w_t^T\\mathbf x_t)\\} \\\\\n",
    "&\\phantom{=} +\\frac{\\partial}{\\partial\\mathbf w_t}\\ln\\mathcal N(\\mathbf w_t\\mid\\hat{\\mathbf w}_{t/t-1},\\mathbf P_{t/t-1}) \\\\\n",
    "&= \\left\\{y_t-\\sigma(\\mathbf w_t^T\\mathbf x_t)\\right\\}\\mathbf x_t-\\mathbf P_{t/t-1}^{-1}(\\mathbf w_t-\\hat{\\mathbf w}_{t/t-1})\n",
    "\\end{split}\n",
    "$$\n",
    "\n",
    "ここで、$\\sigma(\\mathbf w_t^T\\mathbf x_t)$ をテイラー展開で一次近似する。\n",
    "\n",
    "$\\sigma_t=\\sigma(\\hat{\\mathbf w}_{t/t-1}^T\\mathbf x_t)$ とする。\n",
    "\n",
    "$$\n",
    "\\begin{split}\n",
    "\\sigma(\\mathbf w_t^T\\mathbf x_t) &\\simeq \\sigma_t+\\left.\\frac{\\partial\\sigma(\\mathbf w_t^T\\mathbf x_t)}{\\partial \\mathbf w_t}\\right|_{\\mathbf w_t=\\hat{\\mathbf w}_{t/t-1}}(\\mathbf w_t-\\hat{\\mathbf w}_{t/t-1}) \\\\\n",
    "&\\phantom{00}=\\sigma_t+\\sigma_t\\{1-\\sigma_t\\}(\\mathbf w_t-\\hat{\\mathbf w}_{t/t-1})^T\\mathbf x_t\n",
    "\\end{split}\n",
    "$$\n",
    "\n",
    "$\\sigma(\\mathbf w_t^T\\mathbf x_t)$ を $\\sigma_t$ に置き換え、$\\mathbf 0$ とおく。\n",
    "\n",
    "$$\n",
    "\\begin{split}\n",
    "&\\phantom{=}\\frac{\\partial}{\\partial \\mathbf w_t}\\ln p(\\mathbf w_t\\mid\\mathbf Y_t) \\\\\n",
    "&=\\left[ y_t-\\sigma_t-\\sigma_t\\left\\{1-\\sigma_t\\right\\}(\\mathbf w_t-\\hat{\\mathbf w}_{t/t-1})^T\\mathbf x_t \\right]\\mathbf x_t-\\mathbf P_{t/t-1}^{-1}(\\mathbf w_t-\\hat{\\mathbf w}_{t/t-1}) \\\\\n",
    "&=(y_t-\\sigma_t)\\mathbf x_t-\\left[\\mathbf P_{t/t-1}^{-1}+\\sigma_t(1-\\sigma_t)\\mathbf x_t\\mathbf x_t^T\\right](\\mathbf w_t-\\hat{\\mathbf w}_{t/t-1}) \\\\\n",
    "&=\\mathbf 0\n",
    "\\end{split}\n",
    "$$\n",
    "\n",
    "$$\n",
    "\\begin{split}\n",
    "\\mathbf w_t &= \\hat{\\mathbf w}_{t/t-1}+\\left[\\mathbf P_{t/t-1}^{-1}+\\sigma_t\\left\\{1-\\sigma_t\\right\\}\\mathbf x_t\\mathbf x_t^T\\right]^{-1}\\mathbf x_t(y_t-\\sigma_t) \\\\\n",
    "&=\\hat{\\mathbf w}_{t/t-1}+\\left[\\mathbf P_{t/t-1}-\\frac{\\sigma_t(1-\\sigma_t)\\mathbf P_{t/t-1}\\mathbf x_t\\mathbf x_t^T\\mathbf P_{t/t-1}}{1+\\sigma_t(1-\\sigma_t)\\mathbf x_t^T\\mathbf P_{t/t-1}\\mathbf x_t}\\right]\\mathbf x_t(y_t-\\sigma_t) \\\\\n",
    "&=\\hat{\\mathbf w}_{t/t-1}+\\left[\\mathbf P_{t/t-1}\\mathbf x_t-\\frac{\\sigma_t(1-\\sigma_t)\\mathbf P_{t/t-1}\\mathbf x_t\\mathbf x_t^T\\mathbf P_{t/t-1}\\mathbf x_t}{1+\\sigma_t(1-\\sigma_t)\\mathbf x_t^T\\mathbf P_{t/t-1}\\mathbf x_t}\\right](y_t-\\sigma_t) \\\\\n",
    "&=\\hat{\\mathbf w}_{t/t-1}+\\left[1-\\frac{\\sigma_t(1-\\sigma_t)\\mathbf x_t^T\\mathbf P_{t/t-1}\\mathbf x_t}{1+\\sigma_t(1-\\sigma_t)\\mathbf x_t^T\\mathbf P_{t/t-1}\\mathbf x_t}\\right]\\mathbf P_{t/t-1}\\mathbf x_t(y_t-\\sigma_t) \\\\\n",
    "&=\\hat{\\mathbf w}_{t/t-1}+\\frac{1}{1+\\sigma_t(1-\\sigma_t)\\mathbf x_t^T\\mathbf P_{t/t-1}\\mathbf x_t}\\mathbf P_{t/t-1}\\mathbf x_t(y_t-\\sigma_t)\n",
    "\\end{split}\n",
    "$$\n",
    "\n",
    "よって $\\mathbf w_t$ のMAP推定値 $\\hat{\\mathbf w}_{t/t}$ は\n",
    "\n",
    "$$\\hat{\\mathbf w}_{t/t}=\\hat{\\mathbf w}_{t/t-1}+\\frac{1}{1+\\sigma_t(1-\\sigma_t)\\mathbf x_t^T\\mathbf P_{t/t-1}\\mathbf x_t}\\mathbf P_{t/t-1}\\mathbf x_t(y_t-\\sigma_t)$$\n",
    "\n",
    "となる。"
   ]
  },
  {
   "cell_type": "markdown",
   "id": "f1a6b1f2",
   "metadata": {},
   "source": [
    "### 3. $\\mathbf P_{t/t}$\n",
    "\n",
    "$\\hat{\\mathbf w}_{t/t-1}$ を $p(\\mathbf w_t\\mid\\mathbf Y_t)$ のピークとすると $\\mathbf P_{t/t}$ が得られる。 \n",
    "\n",
    "（ $\\hat{\\mathbf w}_{t/t}$ をピークとするのが本来のラプラス近似）\n",
    "\n",
    "$$\n",
    "\\begin{split}\n",
    "\\mathbf P_{t/t}^{-1} &= \\left.-\\frac{\\partial^2}{\\partial\\mathbf w_t^2} \\ln p(\\mathbf w_t\\mid\\mathbf Y_t)\\right|_{\\mathbf w_t=\\hat{\\mathbf w}_{t/t-1}} \\\\\n",
    "&= \\left. -\\frac{\\partial}{\\partial\\mathbf w_t}\\left[\\left\\{y_t-\\sigma(\\mathbf w_t^T\\mathbf x_t)\\right\\}\\mathbf x_t-\\mathbf P_{t/t-1}^{-1}(\\mathbf w_t-\\hat{\\mathbf w}_{t/t-1})\\right]\\right|_{\\mathbf w_t=\\hat{\\mathbf w}_{t/t-1}} \\\\\n",
    "&= \\mathbf P_{t/t-1}^{-1}+\\sigma_t(1-\\sigma_t)\\mathbf x_t\\mathbf x_t^T\n",
    "\\end{split}\n",
    "$$\n",
    "\n",
    "Sherman-Morrison の公式によって、 $\\mathbf P_{t/t}$ が得られる。\n",
    "\n",
    "$$\n",
    "\\mathbf P_{t/t}=\\mathbf P_{t/t-1}-\\frac{\\sigma_t(1-\\sigma_t)}{1+\\sigma_t(1-\\sigma_t)\\mathbf x_t^T\\mathbf P_{t/t-1}\\mathbf x_t}(\\mathbf P_{t/t-1}\\mathbf x_t)(\\mathbf P_{t/t-1}\\mathbf x_t)^T\n",
    "$$"
   ]
  },
  {
   "cell_type": "markdown",
   "id": "48b3b7c2",
   "metadata": {},
   "source": [
    "## 関数等"
   ]
  },
  {
   "cell_type": "code",
   "execution_count": null,
   "id": "a79b20e4",
   "metadata": {},
   "outputs": [],
   "source": [
    "#| export\n",
    "@jax.jit\n",
    "def Ptt(\n",
    "    Ptm: Float[Array, \"N N\"], # $\\mathbf P_{t/t-1}$\n",
    "    w: Float[Array, \"N\"],   # $\\hat{\\mathbf w}_{t/t-1}$\n",
    "    x: Float[Array, \"N\"],   # $\\mathbf x_t$\n",
    ") -> Float[Array, \"N N\"]:   # $\\mathbf P_{t/t}$\n",
    "  r\"\"\"$\\!$*\n",
    "  推定誤差共分散行列 $\\mathbf P_{t/t}$\n",
    "  $$\\sigma_t=\\sigma(\\hat{\\mathbf w}_{t/t-1}^T\\mathbf x_t)$$\n",
    "  $$\\mathbf P_{t/t}=\\mathbf P_{t/t-1}-\\frac{\\sigma_t(1-\\sigma_t)}{1+\\sigma_t(1-\\sigma_t)\\mathbf x_t^T\\mathbf P_{t/t-1}\\mathbf x_t}(\\mathbf P_{t/t-1}\\mathbf x_t)(\\mathbf P_{t/t-1}\\mathbf x_t)^T$$\n",
    "  *$\\!$\"\"\"\n",
    "  dsigma = sp.dxlosi(w @ x)\n",
    "  Ptmx = Ptm @ x\n",
    "  return Ptm - (dsigma / (1 + dsigma * (x @ Ptmx))) * jnp.outer(Ptmx, Ptmx)"
   ]
  },
  {
   "cell_type": "code",
   "execution_count": null,
   "id": "1b2e1625",
   "metadata": {},
   "outputs": [
    {
     "data": {
      "text/markdown": [
       "---\n",
       "\n",
       "[source](https://github.com/SuzuSys/KalmanPaper/blob/main/KalmanPaper/EKF.py#L17){target=\"_blank\" style=\"float:right; font-size:smaller\"}\n",
       "\n",
       "### Ptt\n",
       "\n",
       ">      Ptt (Ptm:jaxtyping.Float[Array,'NN'], w:jaxtyping.Float[Array,'N'],\n",
       ">           x:jaxtyping.Float[Array,'N'])\n",
       "\n",
       "*$\\!$*\n",
       "推定誤差共分散行列 $\\mathbf P_{t/t}$\n",
       "$$\\sigma_t=\\sigma(\\hat{\\mathbf w}_{t/t-1}^T\\mathbf x_t)$$\n",
       "$$\\mathbf P_{t/t}=\\mathbf P_{t/t-1}-\\frac{\\sigma_t(1-\\sigma_t)}{1+\\sigma_t(1-\\sigma_t)\\mathbf x_t^T\\mathbf P_{t/t-1}\\mathbf x_t}(\\mathbf P_{t/t-1}\\mathbf x_t)(\\mathbf P_{t/t-1}\\mathbf x_t)^T$$\n",
       "*$\\!$*\n",
       "\n",
       "|$\\!$| **Type** | **Details** |\n",
       "| -- | -------- | ----------- |\n",
       "| Ptm | Float[Array, 'N N'] | $\\mathbf P_{t/t-1}$ |\n",
       "| w | Float[Array, 'N'] | $\\hat{\\mathbf w}_{t/t-1}$ |\n",
       "| x | Float[Array, 'N'] | $\\mathbf x_t$ |\n",
       "| **Returns** | **Float[Array, 'N N']** | **$\\mathbf P_{t/t}$** |"
      ],
      "text/plain": [
       "<IPython.core.display.Markdown object>"
      ]
     },
     "execution_count": null,
     "metadata": {},
     "output_type": "execute_result"
    }
   ],
   "source": [
    "#| hide\n",
    "sp.reshow_doc(Ptt)"
   ]
  },
  {
   "cell_type": "code",
   "execution_count": null,
   "id": "0eaa43b6",
   "metadata": {},
   "outputs": [],
   "source": [
    "#| export\n",
    "@jax.jit\n",
    "def wtt(\n",
    "    Ptm: Float[Array, \"N N\"], # $\\mathbf P_{t/t-1}$\n",
    "    w: Float[Array, \"N\"],   # $\\hat{\\mathbf w}_{t/t-1}$\n",
    "    x: Float[Array, \"N\"],   # $\\mathbf x_t$\n",
    "    y: Float[Array, \"N\"],   # $y_t$\n",
    ") -> Float[Array, \"N\"]: # $\\hat{\\mathbf w}_{t/t}$\n",
    "  r\"\"\"$\\!$*\n",
    "  濾波推定値 $\\hat{\\mathbf w}_{t/t}$\n",
    "  $$\\hat{\\mathbf w}_{t/t}=\\hat{\\mathbf w}_{t/t-1}+\\frac{1}{1+\\sigma_t(1-\\sigma_t)\\mathbf x_t^T\\mathbf P_{t/t-1}\\mathbf x_t}\\mathbf P_{t/t-1}\\mathbf x_t(y_t-\\sigma_t)$$\n",
    "  *$\\!$\"\"\"\n",
    "  dsigma = sp.dxlosi(w @ x)\n",
    "  Ptmx = Ptm @ x\n",
    "  return w + ((y - sp.losi(w @ x)) / (1 + dsigma * (x @ Ptmx))) * Ptmx"
   ]
  },
  {
   "cell_type": "code",
   "execution_count": null,
   "id": "95a56251",
   "metadata": {},
   "outputs": [
    {
     "data": {
      "text/markdown": [
       "---\n",
       "\n",
       "[source](https://github.com/SuzuSys/KalmanPaper/blob/main/KalmanPaper/EKF.py#L33){target=\"_blank\" style=\"float:right; font-size:smaller\"}\n",
       "\n",
       "### wtt\n",
       "\n",
       ">      wtt (Ptm:jaxtyping.Float[Array,'NN'], w:jaxtyping.Float[Array,'N'],\n",
       ">           x:jaxtyping.Float[Array,'N'], y:jaxtyping.Float[Array,'N'])\n",
       "\n",
       "*$\\!$*\n",
       "濾波推定値 $\\hat{\\mathbf w}_{t/t}$\n",
       "$$\\hat{\\mathbf w}_{t/t}=\\hat{\\mathbf w}_{t/t-1}+\\frac{1}{1+\\sigma_t(1-\\sigma_t)\\mathbf x_t^T\\mathbf P_{t/t-1}\\mathbf x_t}\\mathbf P_{t/t-1}\\mathbf x_t(y_t-\\sigma_t)$$\n",
       "*$\\!$*\n",
       "\n",
       "|$\\!$| **Type** | **Details** |\n",
       "| -- | -------- | ----------- |\n",
       "| Ptm | Float[Array, 'N N'] | $\\mathbf P_{t/t-1}$ |\n",
       "| w | Float[Array, 'N'] | $\\hat{\\mathbf w}_{t/t-1}$ |\n",
       "| x | Float[Array, 'N'] | $\\mathbf x_t$ |\n",
       "| y | Float[Array, 'N'] | $y_t$ |\n",
       "| **Returns** | **Float[Array, 'N']** | **$\\hat{\\mathbf w}_{t/t}$** |"
      ],
      "text/plain": [
       "<IPython.core.display.Markdown object>"
      ]
     },
     "execution_count": null,
     "metadata": {},
     "output_type": "execute_result"
    }
   ],
   "source": [
    "#| hide\n",
    "sp.reshow_doc(wtt)"
   ]
  },
  {
   "cell_type": "code",
   "execution_count": null,
   "id": "8d5f629b",
   "metadata": {},
   "outputs": [],
   "source": [
    "#| export\n",
    "class EKF_out(NamedTuple):\n",
    "  r\"\"\"$\\!$*\n",
    "  `EKF` 関数の返り値\n",
    "\n",
    "  table\n",
    "  W: $\\{\\hat{\\mathbf w}_{t/t}\\}_{t=0,\\ldots,T-1}$\n",
    "  P: $\\{\\mathbf P_{t/t}\\}_{t=0,\\ldots,T-1}$\n",
    "  \n",
    "  *$\\!$\"\"\"\n",
    "  W: Float[Array, \"T N\"]\n",
    "  P: Float[Array, \"T N N\"]\n",
    "\n",
    "sp.rewrite_nt(EKF_out)"
   ]
  },
  {
   "cell_type": "code",
   "execution_count": null,
   "id": "9d13b39c",
   "metadata": {},
   "outputs": [
    {
     "data": {
      "text/markdown": [
       "---\n",
       "\n",
       "[source](https://github.com/SuzuSys/KalmanPaper/blob/main/KalmanPaper/EKF.py#L48){target=\"_blank\" style=\"float:right; font-size:smaller\"}\n",
       "\n",
       "### EKF_out\n",
       "\n",
       ">      EKF_out (W:jaxtyping.Float[Array,'TN'], P:jaxtyping.Float[Array,'TNN'])\n",
       "\n",
       "*$\\!$*\n",
       "  `EKF` 関数の返り値\n",
       "\n",
       "  | $\\!$ | Type | Details |\n",
       "|--|--|--|\n",
       "  | W | Float[Array, 'T N'] | $\\{\\hat{\\mathbf w}_{t/t}\\}_{t=0,\\ldots,T-1}$\n",
       "  | P | Float[Array, 'T N N'] | $\\{\\mathbf P_{t/t}\\}_{t=0,\\ldots,T-1}$\n",
       "\n",
       "  *$\\!$*"
      ],
      "text/plain": [
       "<IPython.core.display.Markdown object>"
      ]
     },
     "execution_count": null,
     "metadata": {},
     "output_type": "execute_result"
    }
   ],
   "source": [
    "#| hide\n",
    "sp.reshow_doc(EKF_out)"
   ]
  },
  {
   "cell_type": "code",
   "execution_count": null,
   "id": "50674da5",
   "metadata": {},
   "outputs": [],
   "source": [
    "#| export\n",
    "@partial(jax.jit, static_argnames=['N', 'T'])\n",
    "def EKF(\n",
    "    N: int, # $N$\n",
    "    T: int, # $T$\n",
    "    x: Float[Array, \"{T} {N}\"], # $\\{ \\mathbf x_t \\}_{t=0,\\ldots,T-1}$\n",
    "    y: Float[Array, \"{T} {N}\"], # $\\{ y_t \\}_{t=0,\\ldots,T-1}$\n",
    "    G: Float[Array, \"{N} {N}\"], # $\\boldsymbol\\Gamma$\n",
    "    w0: Float[Array, \"{N}\"], # $\\hat{\\mathbf w}_{0/-1}$\n",
    "    P0: Float[Array, \"{N} {N}\"], # $\\mathbf P_{0/-1}$\n",
    ") -> EKF_out:\n",
    "    r\"\"\"$\\!$*\n",
    "    拡張カルマンフィルタ\n",
    "    *$\\!$\"\"\"\n",
    "\n",
    "    class Carry(NamedTuple):\n",
    "        Ptm: Float[Array, \"{N} {N}\"]\n",
    "        wtm: Float[Array, \"{N}\"]\n",
    "    \n",
    "    class Input(NamedTuple):\n",
    "        xt: Float[Array, \"{N}\"]\n",
    "        yt: Float[Array, \"\"]\n",
    "\n",
    "    class Output(NamedTuple):\n",
    "        wtt_: Float[Array, \"{N}\"]\n",
    "        Ptt_: Float[Array, \"{N} {N}\"]\n",
    "\n",
    "    def step(carry: Carry, inputs: Input) -> Tuple[Carry, Output]:\n",
    "        Ptm, wtm = carry\n",
    "        xt, yt = inputs\n",
    "        Ptt_ = Ptt(Ptm, wtm, xt)\n",
    "        wtt_ = wtt(Ptm, wtm, xt, yt)\n",
    "        return Carry(Ptt_ + G, wtt_), Output(wtt_, Ptt_)\n",
    "    \n",
    "    _, (W, P) = lax.scan(\n",
    "        step,\n",
    "        Carry(P0, w0),\n",
    "        Input(x, y),\n",
    "        length=T\n",
    "    )\n",
    "    return EKF_out(W, P)"
   ]
  },
  {
   "cell_type": "code",
   "execution_count": null,
   "id": "5b8f483b",
   "metadata": {},
   "outputs": [
    {
     "data": {
      "text/markdown": [
       "---\n",
       "\n",
       "[source](https://github.com/SuzuSys/KalmanPaper/blob/main/KalmanPaper/EKF.py#L64){target=\"_blank\" style=\"float:right; font-size:smaller\"}\n",
       "\n",
       "### EKF\n",
       "\n",
       ">      EKF (N:int, T:int, x:jaxtyping.Float[Array,'{T}{N}'],\n",
       ">           y:jaxtyping.Float[Array,'{T}{N}'],\n",
       ">           G:jaxtyping.Float[Array,'{N}{N}'], w0:jaxtyping.Float[Array,'{N}'],\n",
       ">           P0:jaxtyping.Float[Array,'{N}{N}'])\n",
       "\n",
       "*$\\!$*\n",
       "拡張カルマンフィルタ\n",
       "*$\\!$*\n",
       "\n",
       "|$\\!$| **Type** | **Details** |\n",
       "| -- | -------- | ----------- |\n",
       "| N | int | $N$ |\n",
       "| T | int | $T$ |\n",
       "| x | Float[Array, '{T} {N}'] | $\\{ \\mathbf x_t \\}_{t=0,\\ldots,T-1}$ |\n",
       "| y | Float[Array, '{T} {N}'] | $\\{ y_t \\}_{t=0,\\ldots,T-1}$ |\n",
       "| G | Float[Array, '{N} {N}'] | $\\boldsymbol\\Gamma$ |\n",
       "| w0 | Float[Array, '{N}'] | $\\hat{\\mathbf w}_{0/-1}$ |\n",
       "| P0 | Float[Array, '{N} {N}'] | $\\mathbf P_{0/-1}$ |\n",
       "| **Returns** | **EKF_out** |$\\!$|"
      ],
      "text/plain": [
       "<IPython.core.display.Markdown object>"
      ]
     },
     "execution_count": null,
     "metadata": {},
     "output_type": "execute_result"
    }
   ],
   "source": [
    "#| hide\n",
    "sp.reshow_doc(EKF)"
   ]
  },
  {
   "cell_type": "code",
   "execution_count": null,
   "id": "3c671448",
   "metadata": {},
   "outputs": [],
   "source": [
    "#| hide\n",
    "import nbdev; nbdev.nbdev_export()"
   ]
  }
 ],
 "metadata": {
  "kernelspec": {
   "display_name": "python3",
   "language": "python",
   "name": "python3"
  }
 },
 "nbformat": 4,
 "nbformat_minor": 5
}
