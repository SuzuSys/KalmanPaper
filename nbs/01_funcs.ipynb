{
 "cells": [
  {
   "cell_type": "code",
   "execution_count": null,
   "metadata": {},
   "outputs": [],
   "source": [
    "#| hide\n",
    "%load_ext autoreload\n",
    "%autoreload 2"
   ]
  },
  {
   "cell_type": "markdown",
   "metadata": {},
   "source": [
    "# 簡単な関数等\n",
    "\n",
    "> simple functions"
   ]
  },
  {
   "cell_type": "code",
   "execution_count": null,
   "metadata": {},
   "outputs": [],
   "source": [
    "#| default_exp simple"
   ]
  },
  {
   "cell_type": "code",
   "execution_count": null,
   "metadata": {},
   "outputs": [],
   "source": [
    "#| hide\n",
    "#| export\n",
    "import jax.numpy as jnp\n",
    "from jaxtyping import Array, Float\n",
    "from nbdev.showdoc import show_doc\n",
    "from IPython.display import Markdown\n",
    "import re"
   ]
  },
  {
   "cell_type": "code",
   "execution_count": null,
   "metadata": {},
   "outputs": [],
   "source": [
    "#| export\n",
    "#| hide\n",
    "def fill_empty_md_table_cells(md: str, filler: str = r\"$\\!$\") -> str:\n",
    "    \"\"\"\n",
    "    Markdown のテーブル文字列（複数行含む）中で、\n",
    "    セルが空（`|   |` や `| |` など）になっている部分を見つけ、\n",
    "    filler（デフォルト \"$\\\\!$\"）を挿入する。\n",
    "\n",
    "    注意：'|' の前後のスペースの扱いなどで誤検知する可能性があるので、\n",
    "    実際の入力パターンに応じて調整してください。\n",
    "    \"\"\"\n",
    "    lines = md.splitlines()\n",
    "    out_lines = []\n",
    "    # 正規表現：セル区切りのパイプ | … | で、セル中が空白または空\n",
    "    # 例：|   | Column2 |\n",
    "    # 改良：セル間の空白を許す\n",
    "    cell_pattern = re.compile(r\"(?<=\\|)\\s*(?=\\|)\")\n",
    "    for ln in lines:\n",
    "        # 各行で空セルパターンを filler に置き換え\n",
    "        # `|   |` にマッチする部分を `| filler |` に置換\n",
    "        newln = cell_pattern.sub(filler, ln)\n",
    "        out_lines.append(newln)\n",
    "    return \"\\n\".join(out_lines)"
   ]
  },
  {
   "cell_type": "code",
   "execution_count": null,
   "metadata": {},
   "outputs": [],
   "source": [
    "#| export\n",
    "#| hide\n",
    "def reshow_doc(sym):\n",
    "  fixed = fill_empty_md_table_cells(show_doc(sym).__str__())\n",
    "  return Markdown(fixed)"
   ]
  },
  {
   "cell_type": "code",
   "execution_count": null,
   "metadata": {},
   "outputs": [],
   "source": [
    "#| export\n",
    "def losi(\n",
    "    x: Float[Array, \"\"] # $x$\n",
    ") -> Float[Array, \"\"]: # $\\sigma(x)=1/(1+ e\\\\^{-x})$\n",
    "  r\"\"\"$\\!$*\n",
    "  Logistic sigmoid 関数\n",
    "  $$\\sigma(x)=\\frac{1}{1+e^{-x}}$$\n",
    "  *$\\!$\"\"\"\n",
    "  return 1/(1+jnp.exp(-x))"
   ]
  },
  {
   "cell_type": "code",
   "execution_count": null,
   "metadata": {},
   "outputs": [
    {
     "data": {
      "text/markdown": [
       "---\n",
       "\n",
       "[source](https://github.com/SuzuSys/KalmanPaper/blob/main/KalmanPaper/simple.py#L21){target=\"_blank\" style=\"float:right; font-size:smaller\"}\n",
       "\n",
       "### losi\n",
       "\n",
       ">      losi (x:jaxtyping.Float[Array,''])\n",
       "\n",
       "*$\\!$*\n",
       "Logistic sigmoid 関数\n",
       "$$\\sigma(x)=\\frac{1}{1+e^{-x}}$$\n",
       "*$\\!$*\n",
       "\n",
       "|$\\!$| **Type** | **Details** |\n",
       "| -- | -------- | ----------- |\n",
       "| x | Float[Array, ''] | $x$ |\n",
       "| **Returns** | **Float[Array, '']** | **$\\sigma(x)=1/(1+ e\\\\^{-x})$** |"
      ],
      "text/plain": [
       "<IPython.core.display.Markdown object>"
      ]
     },
     "execution_count": null,
     "metadata": {},
     "output_type": "execute_result"
    }
   ],
   "source": [
    "#| hide\n",
    "reshow_doc(losi)"
   ]
  },
  {
   "cell_type": "code",
   "execution_count": null,
   "metadata": {},
   "outputs": [],
   "source": [
    "#| export\n",
    "def dxlosi(\n",
    "    x: Float[Array, \"\"] # $x$\n",
    ") -> Float[Array, \"\"]: # $(d/dx)\\sigma(x)$\n",
    "  r\"\"\"$\\!$*\n",
    "  Logistic sigmoid 関数の導関数\n",
    "  $$\\frac{d}{dx}\\sigma(x)=\\sigma(x)\\{1-\\sigma(x)\\}$$\n",
    "  *$\\!$\"\"\"\n",
    "  return losi(x) * (1 - losi(x))"
   ]
  },
  {
   "cell_type": "code",
   "execution_count": null,
   "metadata": {},
   "outputs": [
    {
     "data": {
      "text/markdown": [
       "---\n",
       "\n",
       "[source](https://github.com/SuzuSys/KalmanPaper/blob/main/KalmanPaper/EKF.py#L18){target=\"_blank\" style=\"float:right; font-size:smaller\"}\n",
       "\n",
       "### dxlosi\n",
       "\n",
       ">      dxlosi (x:jaxtyping.Float[Array,''])\n",
       "\n",
       "*$\\!$*\n",
       "Logistic sigmoid 関数の導関数\n",
       "$$\\frac{d}{dx}\\sigma(x)=\\sigma(x)\\{1-\\sigma(x)\\}$$\n",
       "*$\\!$*\n",
       "\n",
       "|$\\!$| **Type** | **Details** |\n",
       "| -- | -------- | ----------- |\n",
       "| x | Float[Array, ''] | $x$ |\n",
       "| **Returns** | **Float[Array, '']** | **$(d/dx)\\sigma(x)$** |"
      ],
      "text/plain": [
       "<IPython.core.display.Markdown object>"
      ]
     },
     "execution_count": null,
     "metadata": {},
     "output_type": "execute_result"
    }
   ],
   "source": [
    "#| hide\n",
    "reshow_doc(dxlosi)"
   ]
  },
  {
   "cell_type": "code",
   "execution_count": null,
   "metadata": {},
   "outputs": [],
   "source": [
    "#| hide\n",
    "import nbdev; nbdev.nbdev_export()"
   ]
  },
  {
   "cell_type": "markdown",
   "metadata": {},
   "source": []
  }
 ],
 "metadata": {
  "kernelspec": {
   "display_name": "python3",
   "language": "python",
   "name": "python3"
  }
 },
 "nbformat": 4,
 "nbformat_minor": 4
}
