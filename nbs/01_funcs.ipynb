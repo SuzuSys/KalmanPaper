{
 "cells": [
  {
   "cell_type": "code",
   "execution_count": null,
   "metadata": {},
   "outputs": [
    {
     "name": "stdout",
     "output_type": "stream",
     "text": [
      "The autoreload extension is already loaded. To reload it, use:\n",
      "  %reload_ext autoreload\n"
     ]
    }
   ],
   "source": [
    "#| hide\n",
    "%load_ext autoreload\n",
    "%autoreload 2"
   ]
  },
  {
   "cell_type": "markdown",
   "metadata": {},
   "source": [
    "# 簡単な関数等\n",
    "\n",
    "> simple functions"
   ]
  },
  {
   "cell_type": "code",
   "execution_count": null,
   "metadata": {},
   "outputs": [],
   "source": [
    "#| default_exp simple"
   ]
  },
  {
   "cell_type": "code",
   "execution_count": null,
   "metadata": {},
   "outputs": [],
   "source": [
    "#| hide\n",
    "#| exporti\n",
    "import jax.numpy as jnp\n",
    "import jax\n",
    "from jaxtyping import Array, Float\n",
    "from nbdev.showdoc import show_doc\n",
    "from IPython.display import Markdown\n",
    "import re\n",
    "from typing import NamedTuple, Type, Tuple"
   ]
  },
  {
   "cell_type": "code",
   "execution_count": null,
   "metadata": {},
   "outputs": [],
   "source": [
    "#| exporti\n",
    "#| hide\n",
    "def fill_empty_md_table_cells(md: str, filler: str = r\"$\\!$\") -> str:\n",
    "    \"\"\"\n",
    "    Markdown のテーブル文字列（複数行含む）中で、\n",
    "    セルが空（`|   |` や `| |` など）になっている部分を見つけ、\n",
    "    filler（デフォルト \"$\\\\!$\"）を挿入する。\n",
    "\n",
    "    注意：'|' の前後のスペースの扱いなどで誤検知する可能性があるので、\n",
    "    実際の入力パターンに応じて調整してください。\n",
    "    \"\"\"\n",
    "    lines = md.splitlines()\n",
    "    out_lines = []\n",
    "    # 正規表現：セル区切りのパイプ | … | で、セル中が空白または空\n",
    "    # 例：|   | Column2 |\n",
    "    # 改良：セル間の空白を許す\n",
    "    cell_pattern = re.compile(r\"(?<=\\|)\\s*(?=\\|)\")\n",
    "    for ln in lines:\n",
    "        # 各行で空セルパターンを filler に置き換え\n",
    "        # `|   |` にマッチする部分を `| filler |` に置換\n",
    "        newln = cell_pattern.sub(filler, ln)\n",
    "        out_lines.append(newln)\n",
    "    return \"\\n\".join(out_lines)"
   ]
  },
  {
   "cell_type": "code",
   "execution_count": null,
   "metadata": {},
   "outputs": [],
   "source": [
    "#| export\n",
    "def reshow_doc(\n",
    "    sym: object # 定義した関数等\n",
    "  ):\n",
    "  r\"\"\"$\\!$*\n",
    "  VSCode で Quarto 拡張機能 (nbdev 拡張機能の Extention pack) を有効にすると\n",
    "  空セルを含むテーブルが表示されないというバグを解決する(空セルを `$\\!$` で埋める)。\n",
    "  \n",
    "  `show_doc` の代わりに使用すること。\n",
    "  *$\\!$\"\"\"\n",
    "  fixed = fill_empty_md_table_cells(show_doc(sym).__str__())\n",
    "  return Markdown(fixed)"
   ]
  },
  {
   "cell_type": "code",
   "execution_count": null,
   "metadata": {},
   "outputs": [
    {
     "data": {
      "text/markdown": [
       "---\n",
       "\n",
       "[source](https://github.com/SuzuSys/KalmanPaper/blob/main/KalmanPaper/simple.py#L41){target=\"_blank\" style=\"float:right; font-size:smaller\"}\n",
       "\n",
       "### reshow_doc\n",
       "\n",
       ">      reshow_doc (sym:object)\n",
       "\n",
       "*$\\!$*\n",
       "VSCode で Quarto 拡張機能 (nbdev 拡張機能の Extention pack) を有効にすると\n",
       "空セルを含むテーブルが表示されないというバグを解決する(空セルを `$\\!$` で埋める)。\n",
       "\n",
       "`show_doc` の代わりに使用すること。\n",
       "*$\\!$*\n",
       "\n",
       "|$\\!$| **Type** | **Details** |\n",
       "| -- | -------- | ----------- |\n",
       "| sym | object | 定義した関数等 |"
      ],
      "text/plain": [
       "<IPython.core.display.Markdown object>"
      ]
     },
     "execution_count": null,
     "metadata": {},
     "output_type": "execute_result"
    }
   ],
   "source": [
    "#| hide\n",
    "reshow_doc(reshow_doc)"
   ]
  },
  {
   "cell_type": "code",
   "execution_count": null,
   "metadata": {},
   "outputs": [],
   "source": [
    "#| export\n",
    "def rewrite_nt(\n",
    "    nt: Type[NamedTuple] # NamedTuple を継承したクラス\n",
    "):\n",
    "  r\"\"\"$\\!$*\n",
    "  `NamedTuple` のメンバがテーブルで表示されるように `__doc__` を書き換える。\n",
    "  \n",
    "  定義した `NamedTuple` と同じセルで実行すること。\n",
    "\n",
    "  コメントは下記のように、`table` と記載した後下に引数とコメントを列挙し、上下を空行で挟むこと。\n",
    "\n",
    "  ```\n",
    "\n",
    "  table\n",
    "  {arg1}: {comment1}\n",
    "  {arg2}: {comment2}\n",
    "\n",
    "  ```\n",
    "  *$\\!$\"\"\"\n",
    "  annos = nt.__annotations__\n",
    "  src = nt.__doc__\n",
    "  if not src:\n",
    "    return\n",
    "  if len(nt._field_defaults) > 0:\n",
    "    src = re.sub(r\"table\\n\", \"| $\\\\!$ | Type | Default | Details |\\n|--|--|--|--|\\n\", src)\n",
    "    for arg, anno in annos.items():\n",
    "      if arg in nt._field_defaults:\n",
    "        src = re.sub(rf\"{arg}:\\s\", f\"| {arg} | {anno.__name__} | {nt._field_defaults[arg]} | \", src)\n",
    "      else:\n",
    "        src = re.sub(rf\"{arg}:\\s\", f\"| {arg} | {anno.__name__} | $\\\\!$ | \", src)\n",
    "  else:\n",
    "    src = re.sub(r\"table\\n\", \"| $\\\\!$ | Type | Details |\\n|--|--|--|\\n\", src)\n",
    "    for arg, anno in annos.items():\n",
    "      src = re.sub(rf\"{arg}:\\s\", f\"| {arg} | {anno.__name__} | \", src)\n",
    "  nt.__doc__ = src\n"
   ]
  },
  {
   "cell_type": "code",
   "execution_count": null,
   "metadata": {},
   "outputs": [
    {
     "data": {
      "text/markdown": [
       "---\n",
       "\n",
       "[source](https://github.com/SuzuSys/KalmanPaper/blob/main/KalmanPaper/simple.py#L54){target=\"_blank\" style=\"float:right; font-size:smaller\"}\n",
       "\n",
       "### rewrite_nt\n",
       "\n",
       ">      rewrite_nt (nt:Type[NamedTuple])\n",
       "\n",
       "*$\\!$*\n",
       "`NamedTuple` のメンバがテーブルで表示されるように `__doc__` を書き換える。\n",
       "\n",
       "定義した `NamedTuple` と同じセルで実行すること。\n",
       "\n",
       "コメントは下記のように、`table` と記載した後下に引数とコメントを列挙し、上下を空行で挟むこと。\n",
       "\n",
       "```\n",
       "\n",
       "table\n",
       "{arg1}: {comment1}\n",
       "{arg2}: {comment2}\n",
       "\n",
       "```\n",
       "*$\\!$*\n",
       "\n",
       "|$\\!$| **Type** | **Details** |\n",
       "| -- | -------- | ----------- |\n",
       "| nt | Type | NamedTuple を継承したクラス |"
      ],
      "text/plain": [
       "<IPython.core.display.Markdown object>"
      ]
     },
     "execution_count": null,
     "metadata": {},
     "output_type": "execute_result"
    }
   ],
   "source": [
    "#| hide\n",
    "reshow_doc(rewrite_nt)"
   ]
  },
  {
   "cell_type": "code",
   "execution_count": null,
   "metadata": {},
   "outputs": [],
   "source": [
    "#| export\n",
    "def hex_to_rgb(\n",
    "      hex_color: str # #123456 のような形式\n",
    "    ) -> str: # rgb(14, 35, 54) のような形式\n",
    "    r\"\"\"$\\!$*\n",
    "    6桁カラーコード(#xxyyzz)を形式 \"rgb(XX, YY, ZZ)\" にして出力する\n",
    "    *$\\!$\"\"\"\n",
    "    # 「#」があれば外す\n",
    "    hex_color = hex_color.lstrip('#')\n",
    "    # 6 桁前提；R, G, B を 2 桁ずつ取り出して 16 進 → 整数変換\n",
    "    r = int(hex_color[0:2], 16)\n",
    "    g = int(hex_color[2:4], 16)\n",
    "    b = int(hex_color[4:6], 16)\n",
    "    return f\"rgb({r}, {g}, {b})\""
   ]
  },
  {
   "cell_type": "code",
   "execution_count": null,
   "metadata": {},
   "outputs": [
    {
     "data": {
      "text/markdown": [
       "---\n",
       "\n",
       "### hex_to_rgb\n",
       "\n",
       ">      hex_to_rgb (hex_color:str)\n",
       "\n",
       "*$\\!$*\n",
       "6桁カラーコード(#xxyyzz)を形式 \"rgb(XX, YY, ZZ)\" にして出力する\n",
       "*$\\!$*\n",
       "\n",
       "|$\\!$| **Type** | **Details** |\n",
       "| -- | -------- | ----------- |\n",
       "| hex_color | str | #123456 のような形式 |\n",
       "| **Returns** | **str** | **rgb(14, 35, 54) のような形式** |"
      ],
      "text/plain": [
       "<IPython.core.display.Markdown object>"
      ]
     },
     "execution_count": null,
     "metadata": {},
     "output_type": "execute_result"
    }
   ],
   "source": [
    "#| hide\n",
    "reshow_doc(hex_to_rgb)"
   ]
  },
  {
   "cell_type": "code",
   "execution_count": null,
   "metadata": {},
   "outputs": [],
   "source": [
    "#| export\n",
    "def losi(\n",
    "    x: Float[Array, \"\"] # $x$\n",
    ") -> Float[Array, \"\"]: # $\\sigma(x)=1/(1+ e\\\\^{-x})$\n",
    "  r\"\"\"$\\!$*\n",
    "  Logistic sigmoid 関数\n",
    "  $$\\sigma(x)=\\frac{1}{1+e^{-x}}$$\n",
    "  *$\\!$\"\"\"\n",
    "  return 1/(1+jnp.exp(-x))"
   ]
  },
  {
   "cell_type": "code",
   "execution_count": null,
   "metadata": {},
   "outputs": [
    {
     "data": {
      "text/markdown": [
       "---\n",
       "\n",
       "[source](https://github.com/SuzuSys/KalmanPaper/blob/main/KalmanPaper/simple.py#L91){target=\"_blank\" style=\"float:right; font-size:smaller\"}\n",
       "\n",
       "### losi\n",
       "\n",
       ">      losi (x:jaxtyping.Float[Array,''])\n",
       "\n",
       "*$\\!$*\n",
       "Logistic sigmoid 関数\n",
       "$$\\sigma(x)=\\frac{1}{1+e^{-x}}$$\n",
       "*$\\!$*\n",
       "\n",
       "|$\\!$| **Type** | **Details** |\n",
       "| -- | -------- | ----------- |\n",
       "| x | Float[Array, ''] | $x$ |\n",
       "| **Returns** | **Float[Array, '']** | **$\\sigma(x)=1/(1+ e\\\\^{-x})$** |"
      ],
      "text/plain": [
       "<IPython.core.display.Markdown object>"
      ]
     },
     "execution_count": null,
     "metadata": {},
     "output_type": "execute_result"
    }
   ],
   "source": [
    "#| hide\n",
    "reshow_doc(losi)"
   ]
  },
  {
   "cell_type": "code",
   "execution_count": null,
   "metadata": {},
   "outputs": [],
   "source": [
    "#| export\n",
    "def dxlosi(\n",
    "    x: Float[Array, \"\"] # $x$\n",
    ") -> Float[Array, \"\"]: # $(d/dx)\\sigma(x)$\n",
    "  r\"\"\"$\\!$*\n",
    "  Logistic sigmoid 関数の導関数\n",
    "  $$\\frac{d}{dx}\\sigma(x)=\\sigma(x)\\{1-\\sigma(x)\\}$$\n",
    "  *$\\!$\"\"\"\n",
    "  return losi(x) * (1 - losi(x))"
   ]
  },
  {
   "cell_type": "code",
   "execution_count": null,
   "metadata": {},
   "outputs": [
    {
     "data": {
      "text/markdown": [
       "---\n",
       "\n",
       "[source](https://github.com/SuzuSys/KalmanPaper/blob/main/KalmanPaper/simple.py#L101){target=\"_blank\" style=\"float:right; font-size:smaller\"}\n",
       "\n",
       "### dxlosi\n",
       "\n",
       ">      dxlosi (x:jaxtyping.Float[Array,''])\n",
       "\n",
       "*$\\!$*\n",
       "Logistic sigmoid 関数の導関数\n",
       "$$\\frac{d}{dx}\\sigma(x)=\\sigma(x)\\{1-\\sigma(x)\\}$$\n",
       "*$\\!$*\n",
       "\n",
       "|$\\!$| **Type** | **Details** |\n",
       "| -- | -------- | ----------- |\n",
       "| x | Float[Array, ''] | $x$ |\n",
       "| **Returns** | **Float[Array, '']** | **$(d/dx)\\sigma(x)$** |"
      ],
      "text/plain": [
       "<IPython.core.display.Markdown object>"
      ]
     },
     "execution_count": null,
     "metadata": {},
     "output_type": "execute_result"
    }
   ],
   "source": [
    "#| hide\n",
    "reshow_doc(dxlosi)"
   ]
  },
  {
   "cell_type": "code",
   "execution_count": null,
   "metadata": {},
   "outputs": [],
   "source": [
    "#| hide\n",
    "import nbdev; nbdev.nbdev_export()"
   ]
  },
  {
   "cell_type": "markdown",
   "metadata": {},
   "source": []
  }
 ],
 "metadata": {
  "kernelspec": {
   "display_name": "python3",
   "language": "python",
   "name": "python3"
  }
 },
 "nbformat": 4,
 "nbformat_minor": 4
}
