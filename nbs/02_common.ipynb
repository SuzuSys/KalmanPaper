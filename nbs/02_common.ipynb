{
 "cells": [
  {
   "cell_type": "code",
   "execution_count": null,
   "metadata": {},
   "outputs": [],
   "source": [
    "#| hide\n",
    "%load_ext autoreload\n",
    "%autoreload 2"
   ]
  },
  {
   "cell_type": "markdown",
   "metadata": {},
   "source": [
    "# 共通概念・表記\n",
    "\n",
    "> 共通概念・表記等\n"
   ]
  },
  {
   "cell_type": "markdown",
   "metadata": {},
   "source": [
    "## 環境\n",
    "$$\n",
    "\\begin{split}\n",
    "p(y_t=1\\mid\\mathbf w_t) &= \\sigma(\\mathbf w_t^T\\mathbf x_t) \\\\\n",
    "p(\\mathbf w_{t+1}\\mid\\mathbf w_t) &= \\mathcal N(\\mathbf w_{t+1}\\mid\\mathbf w_t,\\mathbf \\Gamma)\n",
    "\\end{split}\n",
    "$$"
   ]
  },
  {
   "cell_type": "markdown",
   "metadata": {},
   "source": [
    "## 記法\n",
    "\n",
    "$$\n",
    "\\begin{split}\n",
    "p(\\mathbf w_t\\mid\\mathbf Y_t) &= \\mathcal N(\\mathbf w_t\\mid\\hat{\\mathbf w}_{t/t},\\mathbf P_{t/t}) \\\\\n",
    "p(\\mathbf w_{t+1}\\mid\\mathbf Y_t) &= \\mathcal N(\\mathbf w_{t+1}\\mid\\hat{\\mathbf w}_{t+1/t},\\mathbf P_{t+1/t})\n",
    "\\end{split}\n",
    "$$\n",
    "\n",
    "- $\\hat{\\mathbf w}_{t/t}$ : 濾波推定値\n",
    "- $\\hat{\\mathbf w}_{t+1/t}$ : 一段予測推定値\n",
    "- $\\mathbf P_{t/t}$, $\\mathbf P_{t+1/t}$ : 推定誤差共分散行列"
   ]
  },
  {
   "cell_type": "markdown",
   "metadata": {},
   "source": [
    "## Logistic sigmoid func. と Softmax func.\n",
    "\n",
    "クラスの条件付き確率密度がガウス分布であると仮定する。このとき、共分散行列が各クラスに共有されるとする。\n",
    "\n",
    "$$p(\\mathbf x_t\\mid y_t=\\mathcal C_1)=\\mathcal N(\\mathbf x_t\\mid\\boldsymbol \\mu_{\\mathcal C_1},\\boldsymbol\\Sigma)$$\n",
    "\n",
    "このとき、決定境界は $\\mathbf x_t$ に対して線形となる。\n",
    "\n",
    "共分散行列が各クラスに共有されないとすると、決定境界は２次判別関数となる $\\mathbf x_t$ の２次関数を得る。"
   ]
  },
  {
   "cell_type": "markdown",
   "metadata": {},
   "source": [
    "## 状態推定問題\n",
    "\n",
    "観測データ $\\mathbf Y_t$ に基づいて、ベイズリスク\n",
    "\n",
    "$$\n",
    "J=\\mathbb E[\\|\\mathbf w_{t+m}-\\hat{\\mathbf w}_{t+m/t}\\|^2],\\ m=0,1\n",
    "$$\n",
    "\n",
    "を最小にする最適推定値 $\\hat{\\mathbf w}_{t+m/t}$ は\n",
    "\n",
    "$$\n",
    "\\hat{\\mathbf w}_{t+m/t}=\\mathbb E_{\\mathbf w_{t+m}\\mid\\mathbf Y_t}[\\mathbf w_{t+m}]\n",
    "$$\n",
    "\n",
    "で与えられる。次式で説明される。\n",
    "\n",
    "$$\\frac{\\partial}{\\partial \\hat{\\mathbf w}_{t+m/t}}J=\\int 2(\\mathbf w_{t+m}-\\hat{\\mathbf w}_{t+m/t})p(\\mathbf w\\mid y)d\\mathbf w=0$$"
   ]
  },
  {
   "cell_type": "markdown",
   "metadata": {},
   "source": [
    "## Logistic Sigmoid 関数\n",
    "\n",
    "$$\\sigma(\\mathbf w^T\\mathbf x)=\\frac{1}{1+e^{-\\mathbf w^T\\mathbf x}}$$"
   ]
  },
  {
   "cell_type": "markdown",
   "metadata": {},
   "source": [
    "$$\\frac{\\partial}{\\partial \\mathbf w}\\sigma(\\mathbf w^T\\mathbf x)=\\sigma(\\mathbf w^T\\mathbf x)\\{1-\\sigma(\\mathbf w^T\\mathbf x)\\}\\mathbf x$$"
   ]
  },
  {
   "cell_type": "markdown",
   "metadata": {},
   "source": [
    "$$\\frac{\\partial}{\\partial \\mathbf w}\\ln\\sigma(\\mathbf w^T\\mathbf x)=[1-\\sigma(\\mathbf w^T\\mathbf x)]\\mathbf x$$"
   ]
  },
  {
   "cell_type": "markdown",
   "metadata": {},
   "source": [
    "$$\\frac{\\partial^2}{\\partial \\mathbf w^2}=-\\sigma(\\mathbf w^T\\mathbf x)(1-\\sigma(\\mathbf w^T\\mathbf x))\\mathbf x\\mathbf x^T$$"
   ]
  },
  {
   "cell_type": "markdown",
   "metadata": {},
   "source": [
    "$$\\frac{\\partial}{\\partial \\mathbf w}\\ln\\{1-\\sigma(\\mathbf w^T\\mathbf x)\\}=-\\sigma(\\mathbf w^T\\mathbf x)\\mathbf x$$"
   ]
  },
  {
   "cell_type": "markdown",
   "metadata": {},
   "source": [
    "$$\\frac{\\partial^2}{\\partial \\mathbf w^2}\\ln\\{1-\\sigma(\\mathbf w^T\\mathbf x)\\}=-\\sigma(\\mathbf w^T\\mathbf x)(1-\\sigma(\\mathbf w^T\\mathbf x))\\mathbf x\\mathbf x^T$$"
   ]
  }
 ],
 "metadata": {
  "kernelspec": {
   "display_name": "python3",
   "language": "python",
   "name": "python3"
  }
 },
 "nbformat": 4,
 "nbformat_minor": 4
}
