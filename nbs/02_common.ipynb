{
 "cells": [
  {
   "cell_type": "code",
   "execution_count": null,
   "metadata": {},
   "outputs": [],
   "source": [
    "#| hide\n",
    "%load_ext autoreload\n",
    "%autoreload 2"
   ]
  },
  {
   "cell_type": "markdown",
   "metadata": {},
   "source": [
    "# 共通概念・表記\n",
    "\n",
    "> 共通概念・表記等\n"
   ]
  },
  {
   "cell_type": "markdown",
   "metadata": {},
   "source": [
    "\n",
    "$$\n",
    "\\begin{split}\n",
    "p(y_t=1\\mid\\mathbf w_t) &= \\sigma(\\mathbf w_t^T\\mathbf x_t) \\\\\n",
    "p(\\mathbf w_{t+1}\\mid\\mathbf w_t) &= \\mathcal N(\\mathbf w_{t+1}\\mid\\mathbf w_t,\\mathbf \\Gamma)\n",
    "\\end{split}\n",
    "$$\n",
    "\n",
    "- 潜在変数予測結果: $\\hat{\\mathbf w}_t$\n",
    "\n",
    "$$\n",
    "\\begin{split}\n",
    "p(\\mathbf w_t\\mid\\mathbf Y_t) &= \\mathcal N(\\mathbf w_t\\mid\\hat{\\mathbf w}_{t/t},\\mathbf P_{t/t}) \\\\\n",
    "p(\\mathbf w_{t+1}\\mid\\mathbf Y_t) &= \\mathcal N(\\mathbf w_{t+1}\\mid\\hat{\\mathbf w}_{t+1/t},\\mathbf P_{t+1/t})\n",
    "\\end{split}\n",
    "$$"
   ]
  },
  {
   "cell_type": "markdown",
   "metadata": {},
   "source": [
    "## Logistic sigmoid func. と Softmax func.\n",
    "\n",
    "クラスの条件付き確率密度がガウス分布であると仮定する。このとき、共分散行列が各クラスに共有されるとする。\n",
    "\n",
    "$$p(\\mathbf x_t\\mid y_t=\\mathcal C_1)=\\mathcal N(\\mathbf x_t\\mid\\boldsymbol \\mu_{\\mathcal C_1},\\boldsymbol\\Sigma)$$\n",
    "\n",
    "このとき、決定境界は $\\mathbf x_t$ に対して線形となる。\n",
    "\n",
    "共分散行列が各クラスに共有されないとすると、決定境界は２次判別関数となる $\\mathbf x_t$ の２次関数を得る。"
   ]
  },
  {
   "cell_type": "markdown",
   "metadata": {},
   "source": []
  }
 ],
 "metadata": {
  "kernelspec": {
   "display_name": "python3",
   "language": "python",
   "name": "python3"
  }
 },
 "nbformat": 4,
 "nbformat_minor": 4
}
