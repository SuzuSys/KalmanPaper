{
 "cells": [
  {
   "cell_type": "code",
   "execution_count": null,
   "id": "ec368407",
   "metadata": {},
   "outputs": [
    {
     "name": "stdout",
     "output_type": "stream",
     "text": [
      "The autoreload extension is already loaded. To reload it, use:\n",
      "  %reload_ext autoreload\n"
     ]
    }
   ],
   "source": [
    "#| hide\n",
    "%load_ext autoreload\n",
    "%autoreload 2"
   ]
  },
  {
   "cell_type": "markdown",
   "id": "8eb22897",
   "metadata": {},
   "source": [
    "# 実験関数\n",
    "\n",
    "> YAML ファイルの生成等"
   ]
  },
  {
   "cell_type": "code",
   "execution_count": null,
   "id": "25abe372",
   "metadata": {},
   "outputs": [],
   "source": [
    "#|default_exp ExpFunc"
   ]
  },
  {
   "cell_type": "code",
   "execution_count": null,
   "id": "f3290c4e",
   "metadata": {},
   "outputs": [],
   "source": [
    "#| hide\n",
    "import nbdev; nbdev.nbdev_export()"
   ]
  }
 ],
 "metadata": {
  "kernelspec": {
   "display_name": "python3",
   "language": "python",
   "name": "python3"
  }
 },
 "nbformat": 4,
 "nbformat_minor": 5
}
