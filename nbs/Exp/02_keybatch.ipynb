{
 "cells": [
  {
   "cell_type": "code",
   "execution_count": null,
   "id": "2aca10a0",
   "metadata": {},
   "outputs": [],
   "source": [
    "#N=2\n",
    "#T=1000 \n",
    "#G = jnp.array([[1/2**6, 0], [0, 1/2**6]], dtype=jnp.float32)\n",
    "#Sigma = jnp.array([[0.5, 0], [0, 0.5]], dtype=jnp.float32)\n",
    "#w0 = jnp.array([1,1], dtype=jnp.float32)\n",
    "#P0 = G\n",
    "#propy1 = 0.5\n",
    "#\n",
    "#batched_exper = jax.vmap(\n",
    "#  lambda key: exper(key, N, T, G, w0, Sigma, P0, propy1)\n",
    "#)\n",
    "#\n",
    "#master_key = jrd.PRNGKey(0)\n",
    "#keys = jrd.split(master_key, 100)\n",
    "#\n",
    "#W_norms, RMS_EKF, RMS_VA = batched_exper(keys)"
   ]
  }
 ],
 "metadata": {},
 "nbformat": 4,
 "nbformat_minor": 5
}
