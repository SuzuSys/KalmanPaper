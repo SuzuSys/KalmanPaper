{
 "cells": [
  {
   "cell_type": "code",
   "execution_count": null,
   "id": "73a47473",
   "metadata": {},
   "outputs": [
    {
     "name": "stdout",
     "output_type": "stream",
     "text": [
      "The autoreload extension is already loaded. To reload it, use:\n",
      "  %reload_ext autoreload\n"
     ]
    }
   ],
   "source": [
    "#| hide\n",
    "%load_ext autoreload\n",
    "%autoreload 2"
   ]
  },
  {
   "cell_type": "markdown",
   "id": "19f37a27",
   "metadata": {},
   "source": [
    "# 分析00\n",
    "\n",
    "> 00_Gen によって生成されたデータに対して各種モデルを適用する"
   ]
  },
  {
   "cell_type": "code",
   "execution_count": null,
   "id": "a0bad21a",
   "metadata": {},
   "outputs": [],
   "source": [
    "#| hide\n",
    "from typing import NamedTuple\n",
    "from KalmanPaper import gen00, simple as sp\n",
    "import jax.random as jrd\n",
    "import jax.numpy as jnp\n",
    "import jax.random as jrd\n",
    "import jax\n",
    "from jaxtyping import Float, Int, Array, PRNGKeyArray\n",
    "from KalmanPaper import gen00, EKF, VA, simple\n",
    "from matplotlib import pyplot as plt\n",
    "from typing import Tuple, Callable\n",
    "from functools import partial\n",
    "import h5py"
   ]
  },
  {
   "cell_type": "markdown",
   "id": "3dbd5578",
   "metadata": {},
   "source": [
    "## 関数定義"
   ]
  },
  {
   "cell_type": "code",
   "execution_count": null,
   "id": "7250c26b",
   "metadata": {},
   "outputs": [],
   "source": [
    "FILENAME = \"00_Data.h5\"\n",
    "N_SEED = 1000\n",
    "T = 1000"
   ]
  },
  {
   "cell_type": "code",
   "execution_count": null,
   "id": "21232c6d",
   "metadata": {},
   "outputs": [],
   "source": [
    "#| hide\n",
    "class Parameter(NamedTuple):\n",
    "  r\"\"\"$\\!$*\n",
    "  00_Gen によって生成するときのパラメータ。\n",
    "\n",
    "  table\n",
    "  G: $\\boldsymbol\\Gamma$\n",
    "  S: $\\boldsymbol\\Sigma$\n",
    "  w0: $\\mathbf w_{-1}$\n",
    "  P0: $\\mathbf P_{-1}$\n",
    "  epsilon: $\\epsilon$\n",
    "\n",
    "  *$\\!$\"\"\"\n",
    "\n",
    "  G: Float[Array, \"{N} {N}\"]\n",
    "  S: Float[Array, \"{N} {N}\"]\n",
    "  w0: Float[Array, \"{N}\"]\n",
    "  P0: Float[Array, \"{N} {N}\"]\n",
    "  epsilon: Float[Array, \"\"] = jnp.array(2**-16)\n",
    "\n",
    "sp.rewrite_nt(Parameter)"
   ]
  },
  {
   "cell_type": "code",
   "execution_count": null,
   "id": "5d1efbc5",
   "metadata": {},
   "outputs": [
    {
     "data": {
      "text/markdown": [
       "---\n",
       "\n",
       "### Parameter\n",
       "\n",
       ">      Parameter (G:jaxtyping.Float[Array,'{N}{N}'],\n",
       ">                 S:jaxtyping.Float[Array,'{N}{N}'],\n",
       ">                 w0:jaxtyping.Float[Array,'{N}'],\n",
       ">                 P0:jaxtyping.Float[Array,'{N}{N}'],\n",
       ">                 epsilon:jaxtyping.Float[Array,'']=Array(1.5258789e-05,\n",
       ">                 dtype=float32, weak_type=True))\n",
       "\n",
       "*$\\!$*\n",
       "00_Gen によって生成するときのパラメータ。\n",
       "\n",
       "| $\\!$ | Type | Default | Details |\n",
       "|--|--|--|--|\n",
       "| G | Float[Array, '{N} {N}'] | $\\!$ | $\\boldsymbol\\Gamma$\n",
       "| S | Float[Array, '{N} {N}'] | $\\!$ | $\\boldsymbol\\Sigma$\n",
       "| w0 | Float[Array, '{N}'] | $\\!$ | $\\mathbf w_{-1}$\n",
       "| P0 | Float[Array, '{N} {N}'] | $\\!$ | $\\mathbf P_{-1}$\n",
       "| epsilon | Float[Array, ''] | 1.52587890625e-05 | $\\epsilon$\n",
       "\n",
       "*$\\!$*"
      ],
      "text/plain": [
       "<IPython.core.display.Markdown object>"
      ]
     },
     "execution_count": null,
     "metadata": {},
     "output_type": "execute_result"
    }
   ],
   "source": [
    "#| echo: false\n",
    "sp.reshow_doc(Parameter)"
   ]
  },
  {
   "cell_type": "code",
   "execution_count": null,
   "id": "fd158587",
   "metadata": {},
   "outputs": [],
   "source": [
    "#| hide\n",
    "class Param(NamedTuple):\n",
    "  r\"\"\"$\\!$*\n",
    "  可変パラメータ。各パラメータは次のように定義される。\n",
    "\n",
    "  - $N$\n",
    "  - $T=1000$\n",
    "  - $\\boldsymbol\\Gamma=2^p\\mathbf I$\n",
    "  - $\\boldsymbol\\Sigma=2^q\\mathbf I$\n",
    "  - $\\mathbf w_{-1}=(r/2)(1,\\ldots,1)^T/\\sqrt{N}$\n",
    "  - $\\mathbf P_{-1}=\\boldsymbol\\Gamma$\n",
    "  - $\\epsilon=2^{-16}$\n",
    "\n",
    "  table\n",
    "  N: $N$\n",
    "  p: $p$\n",
    "  q: $q$\n",
    "  r: $r$\n",
    "\n",
    "  *$\\!$\"\"\"\n",
    "  N: int\n",
    "  p: int\n",
    "  q: int\n",
    "  r: int\n",
    "\n",
    "sp.rewrite_nt(Param)"
   ]
  },
  {
   "cell_type": "code",
   "execution_count": null,
   "id": "169b07bf",
   "metadata": {},
   "outputs": [
    {
     "data": {
      "text/markdown": [
       "---\n",
       "\n",
       "### Param\n",
       "\n",
       ">      Param (N:int, p:int, q:int, r:int)\n",
       "\n",
       "*$\\!$*\n",
       "可変パラメータ。各パラメータは次のように定義される。\n",
       "\n",
       "- $N$\n",
       "- $T=1000$\n",
       "- $\\boldsymbol\\Gamma=2^p\\mathbf I$\n",
       "- $\\boldsymbol\\Sigma=2^q\\mathbf I$\n",
       "- $\\mathbf w_{-1}=(r/2)(1,\\ldots,1)^T/\\sqrt{N}$\n",
       "- $\\mathbf P_{-1}=\\boldsymbol\\Gamma$\n",
       "- $\\epsilon=2^{-16}$\n",
       "\n",
       "| $\\!$ | Type | Details |\n",
       "|--|--|--|\n",
       "| N | int | $N$\n",
       "| p | int | $p$\n",
       "| q | int | $q$\n",
       "| r | int | $r$\n",
       "\n",
       "*$\\!$*"
      ],
      "text/plain": [
       "<IPython.core.display.Markdown object>"
      ]
     },
     "execution_count": null,
     "metadata": {},
     "output_type": "execute_result"
    }
   ],
   "source": [
    "#| echo: false\n",
    "sp.reshow_doc(Param)"
   ]
  },
  {
   "cell_type": "code",
   "execution_count": null,
   "id": "518580db",
   "metadata": {},
   "outputs": [],
   "source": [
    "#| hide\n",
    "def restore_param(\n",
    "    param: Param # Param\n",
    ") -> Tuple[int, int, Parameter]: # $N$, $T$, Parameter\n",
    "  r\"\"\"$\\!$*\n",
    "  Param から Parameter に変換する。\n",
    "  *$\\!$\"\"\"\n",
    "  return param.N, T, Parameter(\n",
    "    2.0**param.p * jnp.identity(param.N),\n",
    "    2.0**param.q * jnp.identity(param.N),\n",
    "    (param.r/(2.0*jnp.sqrt(param.N)))*jnp.ones(param.N),\n",
    "    2.0**param.p * jnp.identity(param.N),\n",
    "  )"
   ]
  },
  {
   "cell_type": "code",
   "execution_count": null,
   "id": "d0d435fb",
   "metadata": {},
   "outputs": [
    {
     "data": {
      "text/markdown": [
       "---\n",
       "\n",
       "### restore_param\n",
       "\n",
       ">      restore_param (param:__main__.Param)\n",
       "\n",
       "*$\\!$*\n",
       "Param から Parameter に変換する。\n",
       "*$\\!$*\n",
       "\n",
       "|$\\!$| **Type** | **Details** |\n",
       "| -- | -------- | ----------- |\n",
       "| param | Param | Param |\n",
       "| **Returns** | **Tuple** | **$N$, $T$, Parameter** |"
      ],
      "text/plain": [
       "<IPython.core.display.Markdown object>"
      ]
     },
     "execution_count": null,
     "metadata": {},
     "output_type": "execute_result"
    }
   ],
   "source": [
    "#| echo: false\n",
    "sp.reshow_doc(restore_param)"
   ]
  },
  {
   "cell_type": "code",
   "execution_count": null,
   "id": "b8eb92ec",
   "metadata": {},
   "outputs": [],
   "source": [
    "#| hide\n",
    "def save_data(\n",
    "    param: Param, # Param\n",
    "    name: str, # Model name (Gen, EKF, etc.)\n",
    "    data: dict, # dataset_name: jnp.array\n",
    ") -> None:\n",
    "  r\"\"\"$\\!$*\n",
    "  `00_Data.h5` にデータを格納する\n",
    "\n",
    "  ```\n",
    ".\n",
    "├───param1\n",
    "│   ├───Gen\n",
    "│   │       W (seed, T, N)\n",
    "│   │       X (seed, T, N)\n",
    "│   │       Y (seed, T)\n",
    "│   │\n",
    "│   ├───Model1\n",
    "│   │       W (seed, T, N)\n",
    "│   │       P (seed, T, N, N)\n",
    "│   │\n",
    "│   ├───Model2\n",
    "│\n",
    "├───param2\n",
    "```\n",
    "\n",
    "  *$\\!$\"\"\"\n",
    "\n",
    "  with h5py.File(FILENAME, mode=\"a\") as f:\n",
    "    dirparam = f\"/p{param.N}{param.p}{param.q}{param.r}\"\n",
    "    groupparam = f.require_group(name=dirparam)\n",
    "    paramdict = param._asdict()\n",
    "    for k, v in paramdict.items():\n",
    "      groupparam.attrs[k] = v\n",
    "    groupmodel = groupparam.require_group(name=name)\n",
    "    for k, v in data.items():\n",
    "      try:\n",
    "        groupmodel.create_dataset(name=k, data=v, compression=\"gzip\")\n",
    "      except ValueError as e:\n",
    "        print(e)"
   ]
  },
  {
   "cell_type": "code",
   "execution_count": null,
   "id": "4a726723",
   "metadata": {},
   "outputs": [
    {
     "data": {
      "text/markdown": [
       "---\n",
       "\n",
       "### save_data\n",
       "\n",
       ">      save_data (param:__main__.Param, name:str, data:dict)\n",
       "\n",
       "*$\\!$*\n",
       "  `00_Data.h5` にデータを格納する\n",
       "\n",
       "  ```\n",
       ".\n",
       "├───param1\n",
       "│   ├───Gen\n",
       "│   │       W (seed, T, N)\n",
       "│   │       X (seed, T, N)\n",
       "│   │       Y (seed, T)\n",
       "│   │\n",
       "│   ├───Model1\n",
       "│   │       W (seed, T, N)\n",
       "│   │       P (seed, T, N, N)\n",
       "│   │\n",
       "│   ├───Model2\n",
       "│\n",
       "├───param2\n",
       "```\n",
       "\n",
       "  *$\\!$*\n",
       "\n",
       "|$\\!$| **Type** | **Details** |\n",
       "| -- | -------- | ----------- |\n",
       "| param | Param | Param |\n",
       "| name | str | Model name (Gen, EKF, etc.) |\n",
       "| data | dict | dataset_name: jnp.array |\n",
       "| **Returns** | **None** |$\\!$|"
      ],
      "text/plain": [
       "<IPython.core.display.Markdown object>"
      ]
     },
     "execution_count": null,
     "metadata": {},
     "output_type": "execute_result"
    }
   ],
   "source": [
    "#| echo: false\n",
    "sp.reshow_doc(save_data)"
   ]
  },
  {
   "cell_type": "code",
   "execution_count": null,
   "id": "d4b63954",
   "metadata": {},
   "outputs": [],
   "source": [
    "#| hide\n",
    "class WXY(NamedTuple):\n",
    "  r\"\"\"$\\!$*\n",
    "  \n",
    "  table\n",
    "  W: $\\{\\mathbf w_t\\}_{t=0,\\ldots,T-1}$\n",
    "  X: $\\{\\mathbf x_t\\}_{t=0,\\ldots,T-1}$\n",
    "  Y: $\\{y_t\\}_{t=0,\\ldots,T-1}$\n",
    "\n",
    "  *$\\!$\"\"\"\n",
    "  W: Float[Array, \"T N\"]\n",
    "  X: Float[Array, \"T N\"]\n",
    "  Y: Float[Array, \"T\"]\n",
    "\n",
    "sp.rewrite_nt(WXY)"
   ]
  },
  {
   "cell_type": "code",
   "execution_count": null,
   "id": "3e0caa89",
   "metadata": {},
   "outputs": [
    {
     "data": {
      "text/markdown": [
       "---\n",
       "\n",
       "### WXY\n",
       "\n",
       ">      WXY (W:jaxtyping.Float[Array,'TN'], X:jaxtyping.Float[Array,'TN'],\n",
       ">           Y:jaxtyping.Float[Array,'T'])\n",
       "\n",
       "*$\\!$*\n",
       "\n",
       "| $\\!$ | Type | Details |\n",
       "|--|--|--|\n",
       "| W | Float[Array, 'T N'] | $\\{\\mathbf w_t\\}_{t=0,\\ldots,T-1}$\n",
       "| X | Float[Array, 'T N'] | $\\{\\mathbf x_t\\}_{t=0,\\ldots,T-1}$\n",
       "| Y | Float[Array, 'T'] | $\\{y_t\\}_{t=0,\\ldots,T-1}$\n",
       "\n",
       "*$\\!$*"
      ],
      "text/plain": [
       "<IPython.core.display.Markdown object>"
      ]
     },
     "execution_count": null,
     "metadata": {},
     "output_type": "execute_result"
    }
   ],
   "source": [
    "#| echo: false\n",
    "sp.reshow_doc(WXY)"
   ]
  },
  {
   "cell_type": "code",
   "execution_count": null,
   "id": "a01a8c8a",
   "metadata": {},
   "outputs": [],
   "source": [
    "#| hide\n",
    "@partial(jax.jit, static_argnames=['N', 'T'])\n",
    "def generate(\n",
    "    key: PRNGKeyArray, # PRNGKeyArray\n",
    "    N: int, # $N$\n",
    "    T: int, # $T$\n",
    "    p: Parameter # Parameter\n",
    ") -> WXY:\n",
    "  key_w, key_xy = jrd.split(key, 2)\n",
    "  W = gen00.gen_w(key_w, N, T, p.G, p.w0)\n",
    "  X, Y = gen00.gen_xy(key_xy, N, T, p.S, W)\n",
    "  return WXY(W, X, Y)"
   ]
  },
  {
   "cell_type": "code",
   "execution_count": null,
   "id": "2c60bae2",
   "metadata": {},
   "outputs": [
    {
     "data": {
      "text/markdown": [
       "---\n",
       "\n",
       "### generate\n",
       "\n",
       ">      generate (key:Union[jaxtyping.Key[Array,''],jaxtyping.UInt32[Array,'2']],\n",
       ">                N:int, T:int, p:__main__.Parameter)\n",
       "\n",
       "|$\\!$| **Type** | **Details** |\n",
       "| -- | -------- | ----------- |\n",
       "| key | Union | PRNGKeyArray |\n",
       "| N | int | $N$ |\n",
       "| T | int | $T$ |\n",
       "| p | Parameter | Parameter |\n",
       "| **Returns** | **WXY** |$\\!$|"
      ],
      "text/plain": [
       "<IPython.core.display.Markdown object>"
      ]
     },
     "execution_count": null,
     "metadata": {},
     "output_type": "execute_result"
    }
   ],
   "source": [
    "#| echo: false\n",
    "sp.reshow_doc(generate)"
   ]
  },
  {
   "cell_type": "code",
   "execution_count": null,
   "id": "b98da7d4",
   "metadata": {},
   "outputs": [],
   "source": [
    "#| hide\n",
    "def generate_main(\n",
    "    param: Param, # Param\n",
    "    seed: int # seed値\n",
    "):\n",
    "  r\"\"\"$\\!$*\n",
    "  データを生成し、00_Data.h5 に保存する。\n",
    "  *$\\!$\"\"\"\n",
    "  N, T, p = restore_param(param)\n",
    "  batched_generate = jax.vmap(\n",
    "    lambda key: generate(key, N, T, p)\n",
    "  )\n",
    "  master_key = jrd.PRNGKey(seed)\n",
    "  keys = jrd.split(master_key, N_SEED)\n",
    "  wxy = batched_generate(keys)\n",
    "  save_data(param, \"Gen\", wxy._asdict())"
   ]
  },
  {
   "cell_type": "code",
   "execution_count": null,
   "id": "00e2a229",
   "metadata": {},
   "outputs": [
    {
     "data": {
      "text/markdown": [
       "---\n",
       "\n",
       "### generate_main\n",
       "\n",
       ">      generate_main (param:__main__.Param, seed:int)\n",
       "\n",
       "*$\\!$*\n",
       "データを生成し、00_Data.h5 に保存する。\n",
       "*$\\!$*\n",
       "\n",
       "|$\\!$| **Type** | **Details** |\n",
       "| -- | -------- | ----------- |\n",
       "| param | Param | Param |\n",
       "| seed | int | seed値 |"
      ],
      "text/plain": [
       "<IPython.core.display.Markdown object>"
      ]
     },
     "execution_count": null,
     "metadata": {},
     "output_type": "execute_result"
    }
   ],
   "source": [
    "#| echo: false\n",
    "sp.reshow_doc(generate_main)"
   ]
  },
  {
   "cell_type": "code",
   "execution_count": null,
   "id": "60673e1a",
   "metadata": {},
   "outputs": [],
   "source": [
    "#| hide\n",
    "def predict_main(\n",
    "    param: Param, # Param\n",
    "    model_name: str, # EKF, etc.\n",
    "    func: Callable[[int, int, Float[Array, \"T N\"], Float[Array, \"T\"], Parameter], NamedTuple] # $N,T,\\{\\mathbf x_t\\}_{t=0,\\ldots,T-1},\\{y_t\\}_{t=0,\\ldots,T-1},\\mathrm{p}\\to\\{\\hat{\\mathbf w_t}\\}_{t=0,\\ldots,T-1},\\{\\mathbf P_{t/t}\\}_{t=0,\\ldots,T-1},\\ldots$\n",
    "):\n",
    "  r\"\"\"$\\!$*\n",
    "  00_Data.h5 のデータ $X,Y$ に対して `func` で $W$ 等を推論し、保存する。\n",
    "  *$\\!$\"\"\"\n",
    "  N, T, p = restore_param(param)\n",
    "  batched_predict = jax.vmap(\n",
    "    lambda X, Y: func(N, T, X, Y, p)\n",
    "  )\n",
    "  with h5py.File(FILENAME, mode=\"r\") as f:\n",
    "    dirparam = f\"/p{param.N}{param.p}{param.q}{param.r}/Gen\"\n",
    "    groupparam = f.require_group(name=dirparam)\n",
    "    X = groupparam.require_dataset(name=\"X\", shape=(N_SEED, T, N), dtype=jnp.float32)[...]\n",
    "    Y = groupparam.require_dataset(name=\"Y\", shape=(N_SEED, T), dtype=jnp.float32)[...]\n",
    "  WP = batched_predict(X, Y)\n",
    "  save_data(param, model_name, WP._asdict())"
   ]
  },
  {
   "cell_type": "code",
   "execution_count": null,
   "id": "54f88838",
   "metadata": {},
   "outputs": [
    {
     "data": {
      "text/markdown": [
       "---\n",
       "\n",
       "### predict_main\n",
       "\n",
       ">      predict_main (param:__main__.Param, model_name:str, func:Callable[[int,in\n",
       ">                    t,jaxtyping.Float[Array,'TN'],jaxtyping.Float[Array,'T'],__\n",
       ">                    main__.Parameter],NamedTuple])\n",
       "\n",
       "*$\\!$*\n",
       "00_Data.h5 のデータ $X,Y$ に対して `func` で $W$ 等を推論し、保存する。\n",
       "*$\\!$*\n",
       "\n",
       "|$\\!$| **Type** | **Details** |\n",
       "| -- | -------- | ----------- |\n",
       "| param | Param | Param |\n",
       "| model_name | str | EKF, etc. |\n",
       "| func | Callable | $N,T,\\{\\mathbf x_t\\}_{t=0,\\ldots,T-1},\\{y_t\\}_{t=0,\\ldots,T-1},\\mathrm{p}\\to\\{\\hat{\\mathbf w_t}\\}_{t=0,\\ldots,T-1},\\{\\mathbf P_{t/t}\\}_{t=0,\\ldots,T-1},\\ldots$ |"
      ],
      "text/plain": [
       "<IPython.core.display.Markdown object>"
      ]
     },
     "execution_count": null,
     "metadata": {},
     "output_type": "execute_result"
    }
   ],
   "source": [
    "#| echo: false\n",
    "sp.reshow_doc(predict_main)"
   ]
  },
  {
   "cell_type": "markdown",
   "id": "888eb1e1",
   "metadata": {},
   "source": [
    "## 関数のテスト"
   ]
  },
  {
   "cell_type": "code",
   "execution_count": null,
   "id": "23044e8b",
   "metadata": {},
   "outputs": [],
   "source": [
    "LOCK = True"
   ]
  },
  {
   "cell_type": "code",
   "execution_count": null,
   "id": "97f226b7",
   "metadata": {},
   "outputs": [],
   "source": [
    "#| eval: false\n",
    "#| hide\n",
    "if not LOCK:\n",
    "  generate_main(Param(2, -3, -3, 0), 0)"
   ]
  },
  {
   "cell_type": "code",
   "execution_count": null,
   "id": "2bfaf2a1",
   "metadata": {},
   "outputs": [],
   "source": [
    "#| eval: false\n",
    "#| hide\n",
    "if not LOCK:\n",
    "  predict_main(\n",
    "    Param(2, -3, -3, 0), \n",
    "    \"EKF\", \n",
    "    lambda N, T, x, y, p: EKF.EKF(N, T, x, y, p.G, p.w0, p.P0)\n",
    "  )"
   ]
  },
  {
   "cell_type": "code",
   "execution_count": null,
   "id": "f0de631f",
   "metadata": {},
   "outputs": [],
   "source": [
    "#| eval: false\n",
    "#| hide\n",
    "if not LOCK:\n",
    "  predict_main(\n",
    "    Param(2, -3, -3, 0), \n",
    "    \"VApre\", \n",
    "    lambda N, T, x, y, p: VA.VApre(N, T, x, y, p.G, p.w0, p.P0)\n",
    "  )"
   ]
  },
  {
   "cell_type": "code",
   "execution_count": null,
   "id": "70817b65",
   "metadata": {},
   "outputs": [],
   "source": [
    "#| eval: false\n",
    "#| hide\n",
    "if not LOCK:\n",
    "  predict_main(\n",
    "    Param(2, -3, -3, 0), \n",
    "    \"VAEM\", \n",
    "    lambda N, T, x, y, p: VA.VAEM(N, T, x, y, p.G, p.w0, p.P0, p.epsilon)\n",
    "  )"
   ]
  },
  {
   "cell_type": "code",
   "execution_count": null,
   "id": "b3be7891",
   "metadata": {},
   "outputs": [],
   "source": [
    "#| eval: false\n",
    "#| hide\n",
    "if not LOCK:\n",
    "  with h5py.File(FILENAME, mode=\"w\") as f:\n",
    "    param = Param(2, -3, -3, 0)\n",
    "    try:\n",
    "      del f[f\"/p{param.N}{param.p}{param.q}{param.r}\"]\n",
    "    except:\n",
    "      pass"
   ]
  },
  {
   "cell_type": "markdown",
   "id": "dfdbfd3b",
   "metadata": {},
   "source": [
    "## データ生成"
   ]
  },
  {
   "cell_type": "code",
   "execution_count": null,
   "id": "c50cae75",
   "metadata": {},
   "outputs": [],
   "source": [
    "#| hide\n",
    "SEED = 0\n",
    "Ns = [2, 4, 8]\n",
    "ps = jnp.array([-4, -6, -8, -10, -12], dtype=jnp.int32)\n",
    "qs = jnp.array([-2, -1, 0, 1, 2, 3, 4], dtype=jnp.int32)\n",
    "rs = jnp.array([0, 1, 2], dtype=jnp.int32)\n",
    "func_dict: dict[str, Callable[[int, int, Float[Array, \"T N\"], Float[Array, \"T\"], Parameter], NamedTuple]] = {\n",
    "  \"EKF\": lambda N, T, x, y, p: EKF.EKF(N, T, x, y, p.G, p.w0, p.P0),\n",
    "  \"VApre\": lambda N, T, x, y, p: VA.VApre(N, T, x, y, p.G, p.w0, p.P0),\n",
    "  \"VAEM\": lambda N, T, x, y, p: VA.VAEM(N, T, x, y, p.G, p.w0, p.P0, p.epsilon)\n",
    "}"
   ]
  },
  {
   "cell_type": "code",
   "execution_count": null,
   "id": "1c22fa3c",
   "metadata": {},
   "outputs": [],
   "source": [
    "#| eval: false\n",
    "#| hide\n",
    "if not LOCK:\n",
    "  count = 0\n",
    "  total = len(ps) * len(qs) * len(rs) * len(Ns) * len(func_dict)\n",
    "  for p in ps:\n",
    "    for q in qs:\n",
    "      for r in rs:\n",
    "        for N in Ns:\n",
    "          param = Param(N, p, q, r)\n",
    "          generate_main(param, SEED)\n",
    "          for n, f in func_dict.items():\n",
    "            count += 1\n",
    "            print(f\"[{count}/{total}] p={p}, q={q}, r={r}, N={N}, func={n}\")\n",
    "            predict_main(param, n, f)"
   ]
  },
  {
   "cell_type": "markdown",
   "id": "945ea8ec",
   "metadata": {},
   "source": [
    "## 分析"
   ]
  },
  {
   "cell_type": "markdown",
   "id": "1abc09f6",
   "metadata": {},
   "source": [
    "### 推論結果の様子"
   ]
  },
  {
   "cell_type": "code",
   "execution_count": null,
   "id": "ff065fa3",
   "metadata": {},
   "outputs": [
    {
     "data": {
      "image/png": "[encoded data removed]",
      "text/plain": [
       "<Figure size 640x480 with 1 Axes>"
      ]
     },
     "metadata": {},
     "output_type": "display_data"
    }
   ],
   "source": [
    "#| eval: false\n",
    "#| echo: false\n",
    "with h5py.File(FILENAME, mode=\"r\") as f:\n",
    "  k = list(f.keys())[0]\n",
    "  pg = f.require_group(k)\n",
    "  N = pg.attrs[\"N\"]\n",
    "  ds_W = pg.require_dataset(name=\"Gen/W\", shape=(N_SEED, T, N), dtype=jnp.float32)\n",
    "  plt.plot(ds_W[0,:,0], label=r\"$w_{0,t}$\")\n",
    "  for n in func_dict.keys():\n",
    "    ds_W_hat = pg.require_dataset(name=f\"{n}/W\", shape=(N_SEED, T, N), dtype=jnp.float32)\n",
    "    plt.plot(ds_W_hat[0,:,0], label=r\"$\\hat{w}_{0,t}$\" + f\" ({n})\")\n",
    "  plt.xlabel(\"$t$\")\n",
    "  plt.title(r\"$\\text{rk} = 0$\")\n",
    "  plt.legend()\n"
   ]
  },
  {
   "cell_type": "code",
   "execution_count": null,
   "id": "e8b27080",
   "metadata": {},
   "outputs": [],
   "source": [
    "#| hide\n",
    "import plotly.express as px\n",
    "# import plotly.io as pio\n",
    "# pio.renderers.default = 'plotly_mimetype+notebook_connected'\n",
    "# pio.renderers.default = 'notebook'\n",
    "import pandas as pd"
   ]
  },
  {
   "cell_type": "markdown",
   "id": "7c98332e",
   "metadata": {},
   "source": [
    "### 結果"
   ]
  },
  {
   "cell_type": "code",
   "execution_count": null,
   "id": "64fb2d6b",
   "metadata": {},
   "outputs": [],
   "source": [
    "#| eval: false\n",
    "#| echo: false\n",
    "with h5py.File(FILENAME, mode=\"r\") as f:\n",
    "  k = list(f.keys())[0]\n",
    "  pg = f.require_group(k)\n",
    "  N = pg.attrs[\"N\"]\n",
    "  df = dict()\n",
    "  ds_W = pg.require_dataset(name=\"Gen/W\", shape=(N_SEED, T, N), dtype=jnp.float32)\n",
    "  df[\"w_0\"] = ds_W[0,:,0]\n",
    "  for n in func_dict.keys():\n",
    "    ds_W_hat = pg.require_dataset(name=f\"{n}/W\", shape=(N_SEED, T, N), dtype=jnp.float32)\n",
    "    df[f\" ({n})\"] = ds_W_hat[0,:,0]\n",
    "  df = pd.DataFrame(df)\n",
    "  df[\"$t$\"] = jnp.arange(T)\n",
    "  df = df.set_index(\"$t$\")\n",
    "  df.to_csv(\"data.csv\")\n",
    "  "
   ]
  },
  {
   "cell_type": "code",
   "execution_count": null,
   "id": "781536cb",
   "metadata": {},
   "outputs": [
    {
     "data": {
      "application/vnd.plotly.v1+json": {
       "config": {
        "plotlyServerURL": "https://plot.ly"
       },
       "data": [
        {
         "hovertemplate": "variable=w_0<br>$t$=%{x}<br>value=%{y}<extra></extra>",
         "legendgroup": "w_0",
         "line": {
          "color": "#636efa",
          "dash": "solid"
         },
         "marker": {
          "symbol": "circle"
         },
         "mode": "lines",
         "name": "w_0",
         "showlegend": true,
         "type": "scattergl",
         "x": {
          "bdata": "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",
          "dtype": "i2"
         },
         "xaxis": "x",
         "y": {
          "bdata": "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",
          "dtype": "f8"
         },
         "yaxis": "y"
        },
        {
         "hovertemplate": "variable= (EKF)<br>$t$=%{x}<br>value=%{y}<extra></extra>",
         "legendgroup": " (EKF)",
         "line": {
          "color": "#EF553B",
          "dash": "solid"
         },
         "marker": {
          "symbol": "circle"
         },
         "mode": "lines",
         "name": " (EKF)",
         "showlegend": true,
         "type": "scattergl",
         "x": {
          "bdata": "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",
          "dtype": "i2"
         },
         "xaxis": "x",
         "y": {
          "bdata": "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",
          "dtype": "f8"
         },
         "yaxis": "y"
        }
       ],
       "layout": {
        "legend": {
         "title": {
          "text": "variable"
         },
         "tracegroupgap": 0
        },
        "margin": {
         "t": 60
        },
        "template": {
         "data": {
          "bar": [
           {
            "error_x": {
             "color": "#2a3f5f"
            },
            "error_y": {
             "color": "#2a3f5f"
            },
            "marker": {
             "line": {
              "color": "#E5ECF6",
              "width": 0.5
             },
             "pattern": {
              "fillmode": "overlay",
              "size": 10,
              "solidity": 0.2
             }
            },
            "type": "bar"
           }
          ],
          "barpolar": [
           {
            "marker": {
             "line": {
              "color": "#E5ECF6",
              "width": 0.5
             },
             "pattern": {
              "fillmode": "overlay",
              "size": 10,
              "solidity": 0.2
             }
            },
            "type": "barpolar"
           }
          ],
          "carpet": [
           {
            "aaxis": {
             "endlinecolor": "#2a3f5f",
             "gridcolor": "white",
             "linecolor": "white",
             "minorgridcolor": "white",
             "startlinecolor": "#2a3f5f"
            },
            "baxis": {
             "endlinecolor": "#2a3f5f",
             "gridcolor": "white",
             "linecolor": "white",
             "minorgridcolor": "white",
             "startlinecolor": "#2a3f5f"
            },
            "type": "carpet"
           }
          ],
          "choropleth": [
           {
            "colorbar": {
             "outlinewidth": 0,
             "ticks": ""
            },
            "type": "choropleth"
           }
          ],
          "contour": [
           {
            "colorbar": {
             "outlinewidth": 0,
             "ticks": ""
            },
            "colorscale": [
             [
              0,
              "#0d0887"
             ],
             [
              0.1111111111111111,
              "#46039f"
             ],
             [
              0.2222222222222222,
              "#7201a8"
             ],
             [
              0.3333333333333333,
              "#9c179e"
             ],
             [
              0.4444444444444444,
              "#bd3786"
             ],
             [
              0.5555555555555556,
              "#d8576b"
             ],
             [
              0.6666666666666666,
              "#ed7953"
             ],
             [
              0.7777777777777778,
              "#fb9f3a"
             ],
             [
              0.8888888888888888,
              "#fdca26"
             ],
             [
              1,
              "#f0f921"
             ]
            ],
            "type": "contour"
           }
          ],
          "contourcarpet": [
           {
            "colorbar": {
             "outlinewidth": 0,
             "ticks": ""
            },
            "type": "contourcarpet"
           }
          ],
          "heatmap": [
           {
            "colorbar": {
             "outlinewidth": 0,
             "ticks": ""
            },
            "colorscale": [
             [
              0,
              "#0d0887"
             ],
             [
              0.1111111111111111,
              "#46039f"
             ],
             [
              0.2222222222222222,
              "#7201a8"
             ],
             [
              0.3333333333333333,
              "#9c179e"
             ],
             [
              0.4444444444444444,
              "#bd3786"
             ],
             [
              0.5555555555555556,
              "#d8576b"
             ],
             [
              0.6666666666666666,
              "#ed7953"
             ],
             [
              0.7777777777777778,
              "#fb9f3a"
             ],
             [
              0.8888888888888888,
              "#fdca26"
             ],
             [
              1,
              "#f0f921"
             ]
            ],
            "type": "heatmap"
           }
          ],
          "histogram": [
           {
            "marker": {
             "pattern": {
              "fillmode": "overlay",
              "size": 10,
              "solidity": 0.2
             }
            },
            "type": "histogram"
           }
          ],
          "histogram2d": [
           {
            "colorbar": {
             "outlinewidth": 0,
             "ticks": ""
            },
            "colorscale": [
             [
              0,
              "#0d0887"
             ],
             [
              0.1111111111111111,
              "#46039f"
             ],
             [
              0.2222222222222222,
              "#7201a8"
             ],
             [
              0.3333333333333333,
              "#9c179e"
             ],
             [
              0.4444444444444444,
              "#bd3786"
             ],
             [
              0.5555555555555556,
              "#d8576b"
             ],
             [
              0.6666666666666666,
              "#ed7953"
             ],
             [
              0.7777777777777778,
              "#fb9f3a"
             ],
             [
              0.8888888888888888,
              "#fdca26"
             ],
             [
              1,
              "#f0f921"
             ]
            ],
            "type": "histogram2d"
           }
          ],
          "histogram2dcontour": [
           {
            "colorbar": {
             "outlinewidth": 0,
             "ticks": ""
            },
            "colorscale": [
             [
              0,
              "#0d0887"
             ],
             [
              0.1111111111111111,
              "#46039f"
             ],
             [
              0.2222222222222222,
              "#7201a8"
             ],
             [
              0.3333333333333333,
              "#9c179e"
             ],
             [
              0.4444444444444444,
              "#bd3786"
             ],
             [
              0.5555555555555556,
              "#d8576b"
             ],
             [
              0.6666666666666666,
              "#ed7953"
             ],
             [
              0.7777777777777778,
              "#fb9f3a"
             ],
             [
              0.8888888888888888,
              "#fdca26"
             ],
             [
              1,
              "#f0f921"
             ]
            ],
            "type": "histogram2dcontour"
           }
          ],
          "mesh3d": [
           {
            "colorbar": {
             "outlinewidth": 0,
             "ticks": ""
            },
            "type": "mesh3d"
           }
          ],
          "parcoords": [
           {
            "line": {
             "colorbar": {
              "outlinewidth": 0,
              "ticks": ""
             }
            },
            "type": "parcoords"
           }
          ],
          "pie": [
           {
            "automargin": true,
            "type": "pie"
           }
          ],
          "scatter": [
           {
            "fillpattern": {
             "fillmode": "overlay",
             "size": 10,
             "solidity": 0.2
            },
            "type": "scatter"
           }
          ],
          "scatter3d": [
           {
            "line": {
             "colorbar": {
              "outlinewidth": 0,
              "ticks": ""
             }
            },
            "marker": {
             "colorbar": {
              "outlinewidth": 0,
              "ticks": ""
             }
            },
            "type": "scatter3d"
           }
          ],
          "scattercarpet": [
           {
            "marker": {
             "colorbar": {
              "outlinewidth": 0,
              "ticks": ""
             }
            },
            "type": "scattercarpet"
           }
          ],
          "scattergeo": [
           {
            "marker": {
             "colorbar": {
              "outlinewidth": 0,
              "ticks": ""
             }
            },
            "type": "scattergeo"
           }
          ],
          "scattergl": [
           {
            "marker": {
             "colorbar": {
              "outlinewidth": 0,
              "ticks": ""
             }
            },
            "type": "scattergl"
           }
          ],
          "scattermap": [
           {
            "marker": {
             "colorbar": {
              "outlinewidth": 0,
              "ticks": ""
             }
            },
            "type": "scattermap"
           }
          ],
          "scattermapbox": [
           {
            "marker": {
             "colorbar": {
              "outlinewidth": 0,
              "ticks": ""
             }
            },
            "type": "scattermapbox"
           }
          ],
          "scatterpolar": [
           {
            "marker": {
             "colorbar": {
              "outlinewidth": 0,
              "ticks": ""
             }
            },
            "type": "scatterpolar"
           }
          ],
          "scatterpolargl": [
           {
            "marker": {
             "colorbar": {
              "outlinewidth": 0,
              "ticks": ""
             }
            },
            "type": "scatterpolargl"
           }
          ],
          "scatterternary": [
           {
            "marker": {
             "colorbar": {
              "outlinewidth": 0,
              "ticks": ""
             }
            },
            "type": "scatterternary"
           }
          ],
          "surface": [
           {
            "colorbar": {
             "outlinewidth": 0,
             "ticks": ""
            },
            "colorscale": [
             [
              0,
              "#0d0887"
             ],
             [
              0.1111111111111111,
              "#46039f"
             ],
             [
              0.2222222222222222,
              "#7201a8"
             ],
             [
              0.3333333333333333,
              "#9c179e"
             ],
             [
              0.4444444444444444,
              "#bd3786"
             ],
             [
              0.5555555555555556,
              "#d8576b"
             ],
             [
              0.6666666666666666,
              "#ed7953"
             ],
             [
              0.7777777777777778,
              "#fb9f3a"
             ],
             [
              0.8888888888888888,
              "#fdca26"
             ],
             [
              1,
              "#f0f921"
             ]
            ],
            "type": "surface"
           }
          ],
          "table": [
           {
            "cells": {
             "fill": {
              "color": "#EBF0F8"
             },
             "line": {
              "color": "white"
             }
            },
            "header": {
             "fill": {
              "color": "#C8D4E3"
             },
             "line": {
              "color": "white"
             }
            },
            "type": "table"
           }
          ]
         },
         "layout": {
          "annotationdefaults": {
           "arrowcolor": "#2a3f5f",
           "arrowhead": 0,
           "arrowwidth": 1
          },
          "autotypenumbers": "strict",
          "coloraxis": {
           "colorbar": {
            "outlinewidth": 0,
            "ticks": ""
           }
          },
          "colorscale": {
           "diverging": [
            [
             0,
             "#8e0152"
            ],
            [
             0.1,
             "#c51b7d"
            ],
            [
             0.2,
             "#de77ae"
            ],
            [
             0.3,
             "#f1b6da"
            ],
            [
             0.4,
             "#fde0ef"
            ],
            [
             0.5,
             "#f7f7f7"
            ],
            [
             0.6,
             "#e6f5d0"
            ],
            [
             0.7,
             "#b8e186"
            ],
            [
             0.8,
             "#7fbc41"
            ],
            [
             0.9,
             "#4d9221"
            ],
            [
             1,
             "#276419"
            ]
           ],
           "sequential": [
            [
             0,
             "#0d0887"
            ],
            [
             0.1111111111111111,
             "#46039f"
            ],
            [
             0.2222222222222222,
             "#7201a8"
            ],
            [
             0.3333333333333333,
             "#9c179e"
            ],
            [
             0.4444444444444444,
             "#bd3786"
            ],
            [
             0.5555555555555556,
             "#d8576b"
            ],
            [
             0.6666666666666666,
             "#ed7953"
            ],
            [
             0.7777777777777778,
             "#fb9f3a"
            ],
            [
             0.8888888888888888,
             "#fdca26"
            ],
            [
             1,
             "#f0f921"
            ]
           ],
           "sequentialminus": [
            [
             0,
             "#0d0887"
            ],
            [
             0.1111111111111111,
             "#46039f"
            ],
            [
             0.2222222222222222,
             "#7201a8"
            ],
            [
             0.3333333333333333,
             "#9c179e"
            ],
            [
             0.4444444444444444,
             "#bd3786"
            ],
            [
             0.5555555555555556,
             "#d8576b"
            ],
            [
             0.6666666666666666,
             "#ed7953"
            ],
            [
             0.7777777777777778,
             "#fb9f3a"
            ],
            [
             0.8888888888888888,
             "#fdca26"
            ],
            [
             1,
             "#f0f921"
            ]
           ]
          },
          "colorway": [
           "#636efa",
           "#EF553B",
           "#00cc96",
           "#ab63fa",
           "#FFA15A",
           "#19d3f3",
           "#FF6692",
           "#B6E880",
           "#FF97FF",
           "#FECB52"
          ],
          "font": {
           "color": "#2a3f5f"
          },
          "geo": {
           "bgcolor": "white",
           "lakecolor": "white",
           "landcolor": "#E5ECF6",
           "showlakes": true,
           "showland": true,
           "subunitcolor": "white"
          },
          "hoverlabel": {
           "align": "left"
          },
          "hovermode": "closest",
          "mapbox": {
           "style": "light"
          },
          "paper_bgcolor": "white",
          "plot_bgcolor": "#E5ECF6",
          "polar": {
           "angularaxis": {
            "gridcolor": "white",
            "linecolor": "white",
            "ticks": ""
           },
           "bgcolor": "#E5ECF6",
           "radialaxis": {
            "gridcolor": "white",
            "linecolor": "white",
            "ticks": ""
           }
          },
          "scene": {
           "xaxis": {
            "backgroundcolor": "#E5ECF6",
            "gridcolor": "white",
            "gridwidth": 2,
            "linecolor": "white",
            "showbackground": true,
            "ticks": "",
            "zerolinecolor": "white"
           },
           "yaxis": {
            "backgroundcolor": "#E5ECF6",
            "gridcolor": "white",
            "gridwidth": 2,
            "linecolor": "white",
            "showbackground": true,
            "ticks": "",
            "zerolinecolor": "white"
           },
           "zaxis": {
            "backgroundcolor": "#E5ECF6",
            "gridcolor": "white",
            "gridwidth": 2,
            "linecolor": "white",
            "showbackground": true,
            "ticks": "",
            "zerolinecolor": "white"
           }
          },
          "shapedefaults": {
           "line": {
            "color": "#2a3f5f"
           }
          },
          "ternary": {
           "aaxis": {
            "gridcolor": "white",
            "linecolor": "white",
            "ticks": ""
           },
           "baxis": {
            "gridcolor": "white",
            "linecolor": "white",
            "ticks": ""
           },
           "bgcolor": "#E5ECF6",
           "caxis": {
            "gridcolor": "white",
            "linecolor": "white",
            "ticks": ""
           }
          },
          "title": {
           "x": 0.05
          },
          "xaxis": {
           "automargin": true,
           "gridcolor": "white",
           "linecolor": "white",
           "ticks": "",
           "title": {
            "standoff": 15
           },
           "zerolinecolor": "white",
           "zerolinewidth": 2
          },
          "yaxis": {
           "automargin": true,
           "gridcolor": "white",
           "linecolor": "white",
           "ticks": "",
           "title": {
            "standoff": 15
           },
           "zerolinecolor": "white",
           "zerolinewidth": 2
          }
         }
        },
        "xaxis": {
         "anchor": "y",
         "domain": [
          0,
          1
         ],
         "title": {
          "text": "$t$"
         }
        },
        "yaxis": {
         "anchor": "x",
         "domain": [
          0,
          1
         ],
         "title": {
          "text": "value"
         }
        }
       }
      },
      "text/html": [
       "<div>            <script src=\"https://cdnjs.cloudflare.com/ajax/libs/mathjax/2.7.5/MathJax.js?config=TeX-AMS-MML_SVG\"></script><script type=\"text/javascript\">if (window.MathJax && window.MathJax.Hub && window.MathJax.Hub.Config) {window.MathJax.Hub.Config({SVG: {font: \"STIX-Web\"}});}</script>                <script type=\"text/javascript\">window.PlotlyConfig = {MathJaxConfig: 'local'};</script>\n",
       "        <script charset=\"utf-8\" src=\"https://cdn.plot.ly/plotly-3.1.1.min.js\" integrity=\"sha256-HUEFyfiTnZJxCxur99FjbKYTvKSzwDaD3/x5TqHpFu4=\" crossorigin=\"anonymous\"></script>                <div id=\"c88d7c5c-2612-4e01-adbf-632ae50c3a29\" class=\"plotly-graph-div\" style=\"height:525px; width:100%;\"></div>            <script type=\"text/javascript\">                window.PLOTLYENV=window.PLOTLYENV || {};                                if (document.getElementById(\"c88d7c5c-2612-4e01-adbf-632ae50c3a29\")) {                    Plotly.newPlot(                        \"c88d7c5c-2612-4e01-adbf-632ae50c3a29\",                        [{\"hovertemplate\":\"variable=w_0\\u003cbr\\u003e$t$=%{x}\\u003cbr\\u003evalue=%{y}\\u003cextra\\u003e\\u003c\\u002fextra\\u003e\",\"legendgroup\":\"w_0\",\"line\":{\"color\":\"#636efa\",\"dash\":\"solid\"},\"marker\":{\"symbol\":\"circle\"},\"mode\":\"lines\",\"name\":\"w_0\",\"showlegend\":true,\"x\":{\"dtype\":\"i2\",\"bdata\":\"AAABAAIAAwAEAAUABgAHAAgACQAKAAsADAANAA4ADwAQABEAEgATABQAFQAWABcAGAAZABoAGwAcAB0AHgAfACAAIQAiACMAJAAlACYAJwAoACkAKgArACwALQAuAC8AMAAxADIAMwA0ADUANgA3ADgAOQA6ADsAPAA9AD4APwBAAEEAQgBDAEQARQBGAEcASABJAEoASwBMAE0ATgBPAFAAUQBSAFMAVABVAFYAVwBYAFkAWgBbAFwAXQBeAF8AYABhAGIAYwBkAGUAZgBnAGgAaQBqAGsAbABtAG4AbwBwAHEAcgBzAHQAdQB2AHcAeAB5AHoAewB8AH0AfgB\\u002fAIAAgQCCAIMAhACFAIYAhwCIAIkAigCLAIwAjQCOAI8AkACRAJIAkwCUAJUAlgCXAJgAmQCaAJsAnACdAJ4AnwCgAKEAogCjAKQApQCmAKcAqACpAKoAqwCsAK0ArgCvALAAsQCyALMAtAC1ALYAtwC4ALkAugC7ALwAvQC+AL8AwADBAMIAwwDEAMUAxgDHAMgAyQDKAMsAzADNAM4AzwDQANEA0gDTANQA1QDWANcA2ADZANoA2wDcAN0A3gDfAOAA4QDiAOMA5ADlAOYA5wDoAOkA6gDrAOwA7QDuAO8A8ADxAPIA8wD0APUA9gD3APgA+QD6APsA\\u002fAD9AP4A\\u002fwAAAQEBAgEDAQQBBQEGAQcBCAEJAQoBCwEMAQ0BDgEPARABEQESARMBFAEVARYBFwEYARkBGgEbARwBHQEeAR8BIAEhASIBIwEkASUBJgEnASgBKQEqASsBLAEtAS4BLwEwATEBMgEzATQBNQE2ATcBOAE5AToBOwE8AT0BPgE\\u002fAUABQQFCAUMBRAFFAUYBRwFIAUkBSgFLAUwBTQFOAU8BUAFRAVIBUwFUAVUBVgFXAVgBWQFaAVsBXAFdAV4BXwFgAWEBYgFjAWQBZQFmAWcBaAFpAWoBawFsAW0BbgFvAXABcQFyAXMBdAF1AXYBdwF4AXkBegF7AXwBfQF+AX8BgAGBAYIBgwGEAYUBhgGHAYgBiQGKAYsBjAGNAY4BjwGQAZEBkgGTAZQBlQGWAZcBmAGZAZoBmwGcAZ0BngGfAaABoQGiAaMBpAGlAaYBpwGoAakBqgGrAawBrQGuAa8BsAGxAbIBswG0AbUBtgG3AbgBuQG6AbsBvAG9Ab4BvwHAAcEBwgHDAcQBxQHGAccByAHJAcoBywHMAc0BzgHPAdAB0QHSAdMB1AHVAdYB1wHYAdkB2gHbAdwB3QHeAd8B4AHhAeIB4wHkAeUB5gHnAegB6QHqAesB7AHtAe4B7wHwAfEB8gHzAfQB9QH2AfcB+AH5AfoB+wH8Af0B\\u002fgH\\u002fAQACAQICAgMCBAIFAgYCBwIIAgkCCgILAgwCDQIOAg8CEAIRAhICEwIUAhUCFgIXAhgCGQIaAhsCHAIdAh4CHwIgAiECIgIjAiQCJQImAicCKAIpAioCKwIsAi0CLgIvAjACMQIyAjMCNAI1AjYCNwI4AjkCOgI7AjwCPQI+Aj8CQAJBAkICQwJEAkUCRgJHAkgCSQJKAksCTAJNAk4CTwJQAlECUgJTAlQCVQJWAlcCWAJZAloCWwJcAl0CXgJfAmACYQJiAmMCZAJlAmYCZwJoAmkCagJrAmwCbQJuAm8CcAJxAnICcwJ0AnUCdgJ3AngCeQJ6AnsCfAJ9An4CfwKAAoECggKDAoQChQKGAocCiAKJAooCiwKMAo0CjgKPApACkQKSApMClAKVApYClwKYApkCmgKbApwCnQKeAp8CoAKhAqICowKkAqUCpgKnAqgCqQKqAqsCrAKtAq4CrwKwArECsgKzArQCtQK2ArcCuAK5AroCuwK8Ar0CvgK\\u002fAsACwQLCAsMCxALFAsYCxwLIAskCygLLAswCzQLOAs8C0ALRAtIC0wLUAtUC1gLXAtgC2QLaAtsC3ALdAt4C3wLgAuEC4gLjAuQC5QLmAucC6ALpAuoC6wLsAu0C7gLvAvAC8QLyAvMC9AL1AvYC9wL4AvkC+gL7AvwC\\u002fQL+Av8CAAMBAwIDAwMEAwUDBgMHAwgDCQMKAwsDDAMNAw4DDwMQAxEDEgMTAxQDFQMWAxcDGAMZAxoDGwMcAx0DHgMfAyADIQMiAyMDJAMlAyYDJwMoAykDKgMrAywDLQMuAy8DMAMxAzIDMwM0AzUDNgM3AzgDOQM6AzsDPAM9Az4DPwNAA0EDQgNDA0QDRQNGA0cDSANJA0oDSwNMA00DTgNPA1ADUQNSA1MDVANVA1YDVwNYA1kDWgNbA1wDXQNeA18DYANhA2IDYwNkA2UDZgNnA2gDaQNqA2sDbANtA24DbwNwA3EDcgNzA3QDdQN2A3cDeAN5A3oDewN8A30DfgN\\u002fA4ADgQOCA4MDhAOFA4YDhwOIA4kDigOLA4wDjQOOA48DkAORA5IDkwOUA5UDlgOXA5gDmQOaA5sDnAOdA54DnwOgA6EDogOjA6QDpQOmA6cDqAOpA6oDqwOsA60DrgOvA7ADsQOyA7MDtAO1A7YDtwO4A7kDugO7A7wDvQO+A78DwAPBA8IDwwPEA8UDxgPHA8gDyQPKA8sDzAPNA84DzwPQA9ED0gPTA9QD1QPWA9cD2APZA9oD2wPcA90D3gPfA+AD4QPiA+MD5APlA+YD5wM=\"},\"xaxis\":\"x\",\"y\":{\"dtype\":\"f8\",\"bdata\":\"KpXoExZop7\\u002f\\u002f16w\\u002fMc62v6a+RYp1aMC\\u002fT\\u002fNExlnHwb8RaQLiAae7v934o0BQgry\\u002fRKE1pCm5qb\\u002fGczJILO+jvwGwqQ\\u002f+J4I\\u002fTS40go4QZb8d70T\\u002fuomIP5amfX3xaK4\\u002ftOU7fMKnoT8YhZx4gIeTP6Q8kEgdFbE\\u002fkaygwkHdrj8ruMQ2Ti\\u002fBP9OkNYJkbME\\u002fjhVGxN7Vyj+KmdjXFQ7HP0diOI2jKMs\\u002fhu1AAB0kyj8RZZioGMbLP7ZiwfUPP8Y\\u002fNBgboTx\\u002fyD9CrAZ6C5jHP9qHo0hKvMM\\u002f\\u002fWdRyGPAxT9GA\\u002fxDyLPCP2pSRGVHU8c\\u002fhawTPCojxD9v7MDW+I7BP\\u002fUWSZrD3r8\\u002fMPRnw4powD8hhT6a4tjAP+mwZ3Ss98E\\u002fBsReB1JSwT8q+DPdZ2zHPzPhVd6njcg\\u002fiNTVmVLJxz9xzwxFLnbLP+ZNbqm958s\\u002fuERo4wzu0D\\u002f3tx19QF7QP2k4AkQDKdA\\u002f34J0ygZGzz+gRb5kRqzQP9crj+LaWM4\\u002fGvlAG05T0D9Bv4y1AdDMP7PqGPyiqdI\\u002fpZO2AlRC0D\\u002f3LL5XY7\\u002fHP1J5v\\u002foNzcs\\u002fDSlx4zeB0T\\u002f8xpWCh4zSPwKXrv3wtdE\\u002fcpYGPDjx0j+vULUnkvnRP2w2PcX9CdI\\u002fGagxxiwgyz98vuKAyOjJP7Ed55Ga0cc\\u002fDrx7\\u002fLWnyj9HnySX3oLHP8dP\\u002fHudksw\\u002fi7D6hja+xz8JzFxDHRTKP8I4NDwobsI\\u002fx4KAhHrdwT9VmTEeCD3EP+yadzl46MM\\u002fQx1WuOWjxD\\u002fIva+A+K\\u002fDP+sXT7Eo9L4\\u002fqNjBVkNBwj96LlsEKSW2P9DEhU2uc7w\\u002fFuHDeA\\u002fIvz93zO0c0sG6P8IDIV55vrw\\u002fGHQIPRcdwT\\u002fn33AXSO3CP+u\\u002flKIRQ8M\\u002f46zCRXKixT\\u002f\\u002fXPJHagTHP50oz90qX8I\\u002fmIKY+GGMwj8S6yK\\u002fXXq\\u002fPzqWd9UD5sE\\u002fpkv3IQyPxD+WphDhwq7PPwe4WgYgXsk\\u002figBMvn6tyz\\u002fccbt+XgTRPwy1IkEjHs8\\u002fNS0t+nVtzj\\u002fvAJF2ivLNP4KcB+ICccY\\u002f6AKPVlJ6xD\\u002fXUZPofjHEPzfi6nxPF8o\\u002fRAUcfEAkxz9GxeaAsBXJPyANhr7klMo\\u002fABzeIBiPzT92W1zCJXDOPyNZNFuBOsc\\u002f2b4Vw7RzyT\\u002f4wBI4p8zJPwDGVHbRws4\\u002f\\u002fkI0X8plzz+aIuH3Rl\\u002fMP\\u002fKYYLwP1dE\\u002f0s0X3ln5zj9uALLnnVDLP\\u002fZHtdtwUMw\\u002fgMiN6L8Dyz9jyrAfnK7IPznx1Y7iHLo\\u002fwcvK\\u002fpI3tT8DeZzAeRO+P0A\\u002fIXUa7bk\\u002fGMCWgi4Uoj+VeuQAklFrP1YRfV3XRpi\\u002foUcQ1\\u002f9zs780HluFg3Ouv2oc\\u002fltIDq2\\u002fm8LOPbngrb9q\\u002f46e3mmtv2HYSK9ZcLm\\u002fJrC1zir5t7+zHZ0EgHSwv5DxNb\\u002fyBKW\\u002fc4d5CWg\\u002fVj+FHjnrtriiP7OU29+hdKI\\u002fsMmtWOJSlj+W\\u002fzXFiOmhvzdXbwJDvpK\\u002fGYItwIjHpL9j+MJDnHeTv8HTZscGBZU\\u002f7C7ZQ771qT\\u002fq5Yl9iGGlP8\\u002fqKeElEqk\\u002fr\\u002fNBXxIYpT8qmlU\\u002fOYGjP4ZJP4F6qqQ\\u002fx03LF80toT+KfkR+w+W2P4oyhv+Vkbc\\u002f7AM9kpqPtz8Z6bz7ICGoP2uLmP2tqaY\\u002f\\u002fj9WCXmxgr9q0UeIDluIPxraHMFvPp8\\u002f4+yts+dTsD8xy029NmehvwEB55wKfrO\\u002fypTFs7qLtr\\u002f48t\\u002fcj3asv0AVfkO97aS\\u002fgSJYTb52tb9DbulFq+LBv\\u002fgnAuZrYMK\\u002feiKAgihrwb8tp8Vf4cSyv1vIChvxprG\\u002fjnyXAgB5Cj\\u002f5CNnS0+KMP5xQswCgnKo\\u002fIdHRmLO4mz\\u002fMyVZa8OmMP+V1Dq81paQ\\u002fSNYPIRaAoj+KpE09ISenPw3muQItBKM\\u002fGJJCQlyFrz+nEQp8CwyJPyIxB2JVlLI\\u002fz7x\\u002foJoatT\\u002fLDALIXFvAPwsY8kIZLrw\\u002foQ7QIoBAtj8ltrOWn6fAP2W9QUm7MMI\\u002f18hkJ3J3xT9aK5gAFXHCP6V3Gv4Nubo\\u002f7Coew9WUrz8IHdczQke1P3t44K09\\u002fbg\\u002fQUbYoa52rj9OuxQuFkyxPxWddkL5zKk\\u002flpb5XcS2sD\\u002fFJ7bl0OC3P9fSaf4UHrw\\u002fwfiSW80ZvD86phdKYFLAP\\u002fV04GJmm8U\\u002fc+Zon9jUwz98QY9BvOjIP0w8+yU9Z8U\\u002fUrxGogLtxj+a4S\\u002f7r1LCP61IEqU5Ccg\\u002fYBV31WYQyj\\u002fWilfVovDJP\\u002ftH+EEK3Mc\\u002fngluIDRtyT8ExRNqGznOP+rbtN\\u002f7F9A\\u002fZ0k+fojwyj+yq164UtPFP0ZS+0ICJck\\u002fbPmS15T1yD+Iv2AWXnLKP3Dv+eW8lMc\\u002fN1vUgnK2xT8lHSd9CMfGP3mrU4rCU84\\u002fm7NXgjm40D+NJ0AcPaHRP\\u002fybYbTYt9E\\u002fddWwnfdY0z8X9ebD9WDZP81zRL5L6do\\u002ffWCFY6+a2j8WCG3\\u002f61jaPyySnyLBs9o\\u002fO1K\\u002fA+rq2D\\u002fUb9Nd4XbWP\\u002fC8+bJZmtY\\u002fLVol\\u002fWJb0z\\u002fQx+fbo7PRP8nQDD29LdI\\u002f5Hz7hP1o0T8vy43Y3fLRP+4CZyHoBdQ\\u002fLS8SPZ1p0z+XgVai5PzQP4qP0wBzZ84\\u002fYh\\u002fwAh2UxD\\u002f4uYiMmvG5P1mbqKAAXLo\\u002fQ0YXBvINwj8aZJoC\\u002fEfDP2pvSz88psE\\u002fYBYDuf68wT8+FnAJnzHBP5ipxbfiKMg\\u002fzLLRgBRRvT\\u002f69JZ6LyG9PxdvO5\\u002fHybs\\u002ftClUwAjduD\\u002fj9QDgT8KtP9ISwb7xQ64\\u002foOMfjXU3rj8wvy4eOS25P7c7lDaPor0\\u002fm82Fv5a\\u002fuj97IyUDYSO3P5ZBtcGJ6Ls\\u002fciiu8E8luT8a+5KNB1uuP3x3M7y8rbQ\\u002fD7Kw0JwvtD+4hxCZ6rC3PwH88H+JcLA\\u002fiGDisLC3oz+vwCCB8LWCv\\u002fNkinskDIS\\u002fI0hQ\\u002fT2Yez8YDS1zOaxQP6tGp5Xf9Z+\\u002fikmPERY2t79siab9IFzAvzGwEhws1sO\\u002fS6M0YRxYyr+vzAC8qtjGvx1FjI0vkM+\\u002fxun72yuU0L8NUhEjW0jQv1TQgoqJUc6\\u002fQBw94ZmOzr9Fi4WEnDXSv\\u002f5Q3RrgW9G\\u002fI4RHG0eszb\\u002fznW92MW7PvxyI+peDpMy\\u002fs0iPtlxDzr\\u002f3mS8GQY3MvxxJ3Sl4Zc+\\u002fl0izw6mg0L\\u002fx79h0qbbRv7I1MvqXxci\\u002fkSK25IYZyr+kuT5BnObOv5o+ffyMKMy\\u002f\\u002fwLFuLAozr+LKDeb2I3Mv8ZOV\\u002ftk2s+\\u002fNKDejJqv0L+nh\\u002fQd9FPRv5r0Mf4B\\u002f9G\\u002fcypbHHz+0L\\u002fwMbubZR7Rv54PCb7tstC\\u002fZZbze1Ex0r8xt\\u002feAq4LRv\\u002fihmN0Pz8+\\u002f4coCu9Rn0L+aOSwmmcnPv2dLsf4qm82\\u002fay6z30Ul0b8jNtT\\u002fpOfPv5j\\u002fqRucxs6\\u002f6zBwithxyr\\u002fgIbUe+PfMv9OD5XxvW8q\\u002fckPfH+dkzL8QK5Jld7fEv0MdNar8gMC\\u002ffQaSf38txb8u7MRAMvjAv+e3nteOGMG\\u002f92G14OK0ur+lt0xBD5mpv2Xfgl0ukaK\\u002f6c38+Lgneb+wH+8IeKhevxB+y2SELIU\\u002fxueIW4lpgL+rEqz7lb9rP8UyCj3zVps\\u002fBtqUYK6brz8DjcLD7hqiP\\u002fzevgCWK3Q\\u002fmUH737Gioj\\u002f1wLV9CcGmPxc7CqVpL7U\\u002f6k25gJ8Ksz+iDNH48PK8P7jWzXtS3L8\\u002fYdA6kf1\\u002fvT\\u002fnfhwHPR+7P\\u002fM4TgKC1sI\\u002f2ewG2csZxT\\u002faYq9e4hu\\u002fP7QtVhZ97MY\\u002f0r3zMFmByj\\u002fWyK60jNTKPz7O0TZAYco\\u002fsbecZA72yj8b5le1nLLJP01\\u002fOEAXqsg\\u002fOCebF8wExj9twTnAH8DGP9\\u002f+OyZ7Gcc\\u002flBzqVlOCxT\\u002fIIm7K7F7HP2JF0\\u002frXycc\\u002fa6IqAYzCyT\\u002f8HEA7t7vKPyk4YWevY8M\\u002fyKKfX0oTvD9Hl7NOxymyP2fPK7+IjbY\\u002fAIcW+tzgsj+UQ5PdLxOoP5LUhubh1JI\\u002f6hRYvjY0sz9W+0u9NGarP\\u002fSRkTyiBaI\\u002fhpbVcYVCiz90QpwSBiGNP51ta5TAqYU\\u002fDyx3AVf7iT8qEdF9c16jP0v\\u002fMuJ53qQ\\u002fpTKDADJXsD8S043JRSmwP+mMdnx+j4c\\u002f0es9\\u002f7c+ij\\u002fMRVZgwzGtPyv8dJcfE7c\\u002feh5dHsu4sT\\u002fOuWefv7eqP5k7+F6Di5k\\u002fuMXjPzCJqT+z\\u002fCvxocCmPzZOekfcT50\\u002f9L4SxFC5pD\\u002foA5cBRhu3P8oLPDk7AMY\\u002fBfI2gMhsxj909ikiHuS5Pwv05PW7C8Q\\u002fFnyB9nYNxj+gLtZgr2rDP6tg0BmDFMI\\u002f9U7kzQravj8K8vWtvey7P2hGEeJi9rs\\u002fl3AJPAeBwj+ps4PfwMPBP\\u002fceT0fXN8Y\\u002fGxK1PCiLyj8tqFb8MlrJPwnXSLfKOMk\\u002f4eqEwF8GzD\\u002f5HFAdSGrNP\\u002fuHPmnyXs4\\u002ffWFsALpYyj+QPpx25z\\u002fIP+fx5jYCbcQ\\u002fsQNCRpu+wj8P3xUDHCnAPwydjUsLTcA\\u002fpO535u0hxj+owfpgleLDP1rqKCBQqsU\\u002fNcP8y6Q8xz+CU8SOa+jCPwNXZR56BL8\\u002fOB6\\u002f+QWiwT8we8DZOQ\\u002fBP92vI4qgnMU\\u002fjiVJY\\u002fYqxT+BTnO4d4nJP9jq9oLk18k\\u002facEP9yZAyT\\u002f\\u002fGELnmKDEPzhl0ejMxcE\\u002fMxIlShBowj9B2ClWDcLFP7333K487cM\\u002fTd58+jq2wj+81vz9BEW5PzlJkJ35zbk\\u002fZ06wYmXysj\\u002fU55OqJ9KwP0qRQnoG5LM\\u002f\\u002fF47\\u002fxMvvD8A8ICZjLbBP6Rs9N7WZbM\\u002fYB3HD5VGsD+NPUGDyWS\\u002fP\\u002ft9WqA428I\\u002f338SPBEGxT\\u002fxY8xdS0jIP\\u002fPPqbdI0s4\\u002f12R03ee60T\\u002fwzHgZzePPPz4xHQCSZc0\\u002fFp2P35lYzj87y4f7I2fJP20m1\\u002fsqTMk\\u002fEdhi2N0Tyz9WMjr\\u002f+hHJP\\u002fsfosmse8Y\\u002feVZWwxM0yj9t7MhHQSbQP8CpOKMg19A\\u002fMKFhtSL\\u002fzD8Zzk5pcQTNP2k5jieb1cw\\u002fFse7AlXMxT9EfXmeyxbHP4\\u002fNhuOW4sc\\u002fll44Y9ovyz+\\u002f5qjl\\u002fzzKP3XHYptUNM0\\u002fh\\u002fXr870rzz9ft+d9DGvMP1ghgv0Z1so\\u002f3ckrAFsY0T+v74ElcM7NP4wtRlX6Js4\\u002f9FN3wND+zD87cO+WuwHNP7SeMf5DG84\\u002fWRYK4H\\u002fO0T\\u002fHe907zbbRP6+nZ4u1CdM\\u002fYYVCofGG0z9l1ZQiAbzUP7wxTo3he9c\\u002fgPsy\\u002f4Ux1j8nBGFdy9rUP2Wl7m91JdY\\u002fa9elwq\\u002fD2j8ho487ndLdPx0+RP70muE\\u002f1R8GXz3z4D\\u002fp+GAAflniP3UtEPObOOQ\\u002fZBzIH7GC5T\\u002fHCmV+wTDmP7KQb6WNWeY\\u002fX8MduX825j9mjwamie3mP2vKX2sAQOY\\u002fA8pLo24M5j8ANmJeLj\\u002fnP8s1YOutnOc\\u002fxOs8Io2n5j\\u002fqPM9EfbfkP+0\\u002f12PHa+Q\\u002fY63rYXmh5j+nfc44aIrnP5tDCH4KVuc\\u002f2xPJ\\u002fEg25z8Yuisei+vnPzmpedhV0uc\\u002fB5MkAOb35z+6HvlBZVXnPyG7wQb6Oug\\u002f9SxKAVCi5z+8LUd+s8PmP0zyCuEkz+U\\u002fmdAsIu1z5j\\u002fUERuHVRfmP7EbEec8PuY\\u002fCuLyDqbX5z9sPBp\\u002fiRXnP2MHOv8bYOc\\u002f1z7TAf8K5j\\u002fL6JFQRJDoP4uD8A0qVuo\\u002fEgXpGEaw6T\\u002fh8atBsbjqP7oeO1432+k\\u002fy3LIvERr6T\\u002f6WjxhLu7oP2cRaZ+3pug\\u002fFjJXBtUG6D+zJB8\\u002fRBjnPzvwvQFeTec\\u002fcmhXQvNw5z9oUDyAqKjnP67ZJQVxOec\\u002fLiFZn\\u002fbk5T\\u002fsX6P2bGfkP4g2lX8MQeY\\u002fMUEN38L65D9IsCdwoeHkP9NJWwEqQeQ\\u002fWoUouom15D8YEsUeuVnkP7fOZKSDmuU\\u002fh4TWYG2O5T+UclLzsGvmP3Yb1H5rp+Y\\u002fKt3hn+dp5j\\u002fGs5l9\\u002fbTnP9XdyH4O2uc\\u002fYk4r4PnA5z8jkWxkDY3mP7c7tUR4xeY\\u002fX5183ZbG5j\\u002f52F2gpODlP5Y4l4fxf+Q\\u002f4CpPIOx05T9uTiUDQNXlP2uNtX2Xq+Q\\u002fK1FRUOVP5D+oKMkAcbPiP1N81\\u002fvob+E\\u002fPS2aKQi54T\\u002f\\u002fpn9ix3PhP15rSg3I+eE\\u002fWsivYX5V4T8A60hgOQPhP3ui68IPDuI\\u002fMDPHTWht4D85JWJCs0jgP91VWSWi6dw\\u002fjglrQt6b3j9PDlXnByThPxsNhXQdz94\\u002fOOQ0fsCn4D90LXMdV6HhP\\u002fzsNl5wfOI\\u002f71VMIWcs4z\\u002fqa6f3ntviP+iZqO9GMOM\\u002fN1VSglmc4j8pAdZPpKDiPw4viEhNu+I\\u002fM5EtJpFY4j+q7GBphQ7iP0xx0aDTmeI\\u002fZuVuQue25D8Qujq2VNTjP8m1\\u002fBsPUeM\\u002f7ZUe8jvy4j+nFfB8UOHjP+7B90AjP+Q\\u002f9ZVRdkRP5D80QuSZPErkPzG31nLCX+Y\\u002fj8ahfhfW5j9yzGiaZrDmP8bpub9ZbuU\\u002f3UoKhzmc5j9STg9lA0TlP7JMGv4uJ+U\\u002fO4+K\\u002fztC5T\\u002f6m1CIgEPlP0xPmv7TquM\\u002f7fSDukih5D85MBQL137hP8CfEr6UzeE\\u002fAmjv529d4T+nHg636EngP2cDG50U4t0\\u002fBmQSojrl2z\\u002fTGAhdHZvgPzOlWOK\\u002fiOA\\u002fRVSXQtap4D\\u002fTNhfiBQ\\u002fhPy+59qo6kOA\\u002fpzW0nq1F4D9vztJf+R3hPy+rLOE7V+E\\u002fs05LYv\\u002fr4j\\u002fTp4+fEfXjP8JqLGFtjOQ\\u002f0RYhhmeT4z+z6a0m9B\\u002fiP5y\\u002frsuVZuI\\u002fhXsjwtil5D+BDYCfDnfjP5sr98CWMOU\\u002fkjrHofo+5T8H3RRF\\u002fs\\u002flP84FiUiodOY\\u002fUUYBR6fT5T8nbi5h4WLmP+LqW0EurOY\\u002fvIZsYnn+5D\\u002fO6GBgyr7lP0bvVMA9b+U\\u002fwYyMgp6V5T9HFnoOdhTlP1EGWPUD6OU\\u002f4xbzc0PT5D+RvM7htabkP7i14KAYtOM\\u002fxylboLSC5D+jAifbwN3mP4hyWNBq9+Y\\u002fXInlO51Q5z9dKqGBeWTmPznsvmN4LOY\\u002f\\u002fBetSPHW5j8KgVziyGPlP5bw3xfyo+c\\u002ftzBmpg945z+Ky47giKbmPyznnOlvU+c\\u002fvdo4\\u002fwID6D8TKji8IKLnPybrJud6keg\\u002fgVYFD3hF6T\\u002fJ\\u002f+Tv3hHoPzWmFgCZbOk\\u002fZi\\u002fbTltj6T9cDqrDwKnqP4WT2cXZmew\\u002faOif4GJl7D+aahyg6obrP2lsMz5ho+s\\u002fS3AsIJvB6j+wvzYsV4nqPw+TFWgcz+k\\u002fG9pbJbMV6T9AdWLFXwnqP\\u002f5F0JhJlOo\\u002floOPd\\u002f346j\\u002f3\\u002fqszYzbrP+8oxuD+L+o\\u002fq7dhb73B6T9k4vuHmaLoP7lHwgC61ug\\u002fKSnJnUZY6D8VLEChv+znP+BT718PPOc\\u002f+CwZEdaQ6D\\u002feA3RfzgzpP5f0QeCSDek\\u002f5rFmZJC76j\\u002fRQKhilTjpPwvrawKxEeo\\u002ftlxHZj9c6j+eMJvftCnrP+5gxD4BNOw\\u002f\\u002fhHhur2\\u002f7T9qPMc2X9vsP1yTbkvkgu0\\u002fbKIBgloo7T9G2p0gd9LuPyCugyCTDu4\\u002fzp2qjJBL7z9cAUNeKIPvP4T5RAFP2O0\\u002f88r1tpmK7D8LED\\u002feL+\\u002fsPyTBTMIi0us\\u002fzJmK4MHH6T+hdeDeLTfqP7Hkhc8x++o\\u002fjp7PPl6h6z9fOlIiLoXtP5x+3MAVd+w\\u002fl5Ors7VZ7D8BxtA9LffrP\\u002fNqyl9roOw\\u002ftTT5XirT7T\\u002fDk+U9MR\\u002fsP3FNiT0XOus\\u002feo+OBkuQ6j9pE3GEVjHsP3nrV5XYkO0\\u002fK73bYbjf7D9nmm7hkkbuP92n9F1bie8\\u002fBaywdJm17j9nzMkwk83uPy5M8JdgQu4\\u002ftQKeDyoM7j8htcM+hSztP1kNcN6L8ew\\u002fVT1P8tnw7T9fsSvSaYLuP7afjPFhdu0\\u002fqFn7lpSW7T8RMcrYdVTtP+6ffoJRiu0\\u002ft9ScF4K37T8rbtxifm7vP1Abcr+Fbe0\\u002fhgbeoCi27j\\u002f9z4o97truP17GA4AZIu8\\u002fk4NEoBv27j\\u002fGiIa9N6PuP54RAHc0ae4\\u002fT226rxST7T+7VowEZHnvP42h9yHK8u8\\u002fn1voSgRq7z\\u002fqxZrbzsjuP051bRT+ce4\\u002fmTXKXfh\\u002f7j+giEUMOwzvP8sPXOUJRPA\\u002f1XIMbaV87z+rk1QiYH\\u002fuP93vq81ape0\\u002fWqjrPyER7j97PndA4QXsP9hKQ+j7xOs\\u002foMlZM41B7D86+YCCg+TrPz3TKn58t+o\\u002fq3iGHYQI6z+eXb71Yf3qP4Fb2h0QcOk\\u002fBCSz3bFW6T9pGvO+GlXpP5\\u002fgB4yaFOk\\u002f65xVVR6T6D9MXFwd38LnP9cMus7QSec\\u002fDhzIYc0U5z8uAmN9AzPmP7JS97e6UuY\\u002f0pBM4gei5z+sn0hBAWXmP\\u002fSI8oH0H+Y\\u002fJIZ4fxdR5j+MVK2\\u002fBBLlPx2s\\u002f3OYL+U\\u002fZCoWIlSn4z9ZHv9gO9PjPwKc3sX7MeQ\\u002f7Qn5PT244z+nsFJBRVXkPyR1p+CV6eQ\\u002f7xo2womF5j\\u002fACeDBqhXnP6t6+Z0mU+Y\\u002fxbk8jP\\u002fx5j\\u002fOkfAYeXTmP7sxVv4pE+g\\u002fnd8oYNjt5z+eQUP\\u002fBBfnP4x9bg0RXOY\\u002fHUzUHGol5D\\u002fdvCfFfRrmP6sNqf0xyOU\\u002fTQP1HEfi5z9evSdiU1\\u002fnPzZ1gT+6YOc\\u002fQWK7e4Du5z\\u002fq6\\u002fma5bLpP6jQLwBDxek\\u002f8EKEyZ4O6j+aiMj6FxLpP2bdPxaig+k\\u002fJHdcfQoa6T9+GvfmNwzpP9YqC3CLQ+g\\u002fQrCqXn4n6D+8TQugECjnP4JHZdTGIug\\u002fv\\u002fFSPdsb5z+TsMrgg1LoP9WL6ymD9Ok\\u002f8XiD\\u002fRHF6T\\u002f0fBcA9GXpPxJRp5dzxOc\\u002fGoPzTqqi6D9gqvzfz3jpP296H2AQhek\\u002fPejhHUP06T\\u002f572ayJGXrPyfgdB5Xm+o\\u002fKT4+ITsP7T9JPI9AcuHrPyAMPPceLuw\\u002f7jTjftHP6z+FRDWAElrsP4joIWRqXO4\\u002f1eL4RhmW7j8IGERBfCLtP4Q1hBkJY+4\\u002fZrnPnom47T\\u002fnSxTGu8jsP382MMHCrOs\\u002fOB4iJMFK7T9VVi6vt2juP23JR957sO4\\u002fkeItocwQ8D86U40DVP3wP05HADeLd\\u002fE\\u002f4TZkTXY98j8jU5m9x1TyP5pRPeMMT\\u002fI\\u002fsPrIUpAk8j9JvhJIib3xP1AZ\\u002fz7jQvI\\u002f6YoItZWN8j8ArI4c6ezxP7jsa7gjV\\u002fI\\u002fv6Dgvf4\\u002f8j+chqjCn4HyP0gszr0s8vI\\u002fThpZ6Dl48z9JERlW8WbzP1CEeTR62vI\\u002fb2e6MgNQ8z+X+bPEb2\\u002fzPxpNLsbA+vI\\u002fW\\u002f\\u002f4XLey8j9PVrGdlA7zP8fvEkFBzvI\\u002fvepcrAOb8j8ekUoMXcTyP\\u002fuQXKOKR\\u002fI\\u002fy89X2vMG8j\\u002fT7MvjegXyP9p1b0VigvI\\u002ftswzQLMV8z\\u002fvTuODQ3TzP9dV3BN\\u002fD\\u002fM\\u002fJqDTPfym8z82xvO+llzzPw49cyA1N\\u002fQ\\u002fJlEv+DTn8z85pt2e1gP0P45R6AZU6fM\\u002fdnF2xlJ\\u002f9D91xMZh1QX1P3YDYJc8WfQ\\u002fsyWrItyE9D+Iu3oVGb3zP17bNuc7M\\u002fM\\u002f9LFxsy4k8z+hrTn2oqzyP3iPfdrym\\u002fM\\u002fWefOAqMB8z8XuaerO1bzPzcK\\u002f9ja0fM\\u002fqZMi6B5o9D8RUfEkjgH0P0uwOJz5lfQ\\u002fqaZ\\u002fpONF9D\\u002f1yUBU0KPzP59\\u002fcV+9API\\u002fjdVBucjY8j+XZ286E2TyP02d7AuNbPI\\u002fxk\\u002fj3vzm8j9wbCwX4DHzP0+Yi1MI3\\u002fM\\u002faBDVStei9D9m7QCZ51L0P3dzpyojxPQ\\u002fWRmNfF7x9D9yy6ILRdXzP+FO2DSli\\u002fQ\\u002fLuzEQDLY9D+Osn4zMR30P+12B8Jf3fQ\\u002fdP43QHrU9D9eZ0P+meH0PygK9Ik8ifU\\u002fbfvDO2W69T\\u002fGDJ5T2uz1P7NKRFPRk\\u002fY\\u002fl5HVCFjG9j9Zuie0UQL2P1BzTdyFofU\\u002fluJP+Xw59j8c3IyJg3r2P2nhsgqbofU\\u002fNz2D4bdc9T+hxnNs83X1P5n1veGZK\\u002fU\\u002fFNW2vM329D85HRIIhfLzPwOPFDaoovQ\\u002f3w+JjFg19T+kB\\u002fR4EJH1P4whSsUQavY\\u002fDiH4Kdgw9z\\u002fpsj0fCuv2P1\\u002fgA4WLJvc\\u002fNpIE4Qoo9z+6sH\\u002fok4b3PxdZfFQNzPc\\u002f07zjFB1p+D8HswkwLH\\u002f3P17V\\u002fnM9lvc\\u002fVxnXCXmu9z87inPU0VH3PwvT9xqCg\\u002fY\\u002fi6Td6GMe9j\\u002fF+UCXFe\\u002f2P1e+HZcnZvY\\u002fzap0HOS69j9pmJDF7Hv3PyRA8nPoWfc\\u002fr9dPWhOG9z9R4s7gSrH3P0EeCxuvavc\\u002fnkcguZAC9z8vnBDfLgD3P6thGuFIO\\u002fc\\u002fGyK42z+g9z9RLo1feGX3P0Zul0dI7vU\\u002fR6dTwyN29j+XdJSD2YT2P9dcJKO55PY\\u002f4Ry\\u002fAXcK9z+wnw\\u002fgPhz3P+HxSBf2r\\u002fc\\u002fClaLPtX39z8UKSig5An4PwXstH+vcvc\\u002fSoShaeTO9z9TYFwFjCn4P3OjIxS2+vc\\u002fvMM3XsvV9z+4puWs9D\\u002f3P60pNSDnovc\\u002fcwLklTVb+D9b4DzmTS\\u002f4P5Lx3gfWh\\u002fg\\u002fkMB6N3Et+T\\u002fi3wyjxZ74P3CE+7eBMfk\\u002fUp7U8l7w+D80PKwmPo34P6NC0Cxkyfg\\u002f9NYK5COT+D\\u002fgou5eSY34PwfTizW3Pfg\\u002f6Kua1lyk9z+lWvqGePr3P07VPbK5avg\\u002feKEUCJY++D8=\"},\"yaxis\":\"y\",\"type\":\"scattergl\"},{\"hovertemplate\":\"variable= (EKF)\\u003cbr\\u003e$t$=%{x}\\u003cbr\\u003evalue=%{y}\\u003cextra\\u003e\\u003c\\u002fextra\\u003e\",\"legendgroup\":\" (EKF)\",\"line\":{\"color\":\"#EF553B\",\"dash\":\"solid\"},\"marker\":{\"symbol\":\"circle\"},\"mode\":\"lines\",\"name\":\" (EKF)\",\"showlegend\":true,\"x\":{\"dtype\":\"i2\",\"bdata\":\"AAABAAIAAwAEAAUABgAHAAgACQAKAAsADAANAA4ADwAQABEAEgATABQAFQAWABcAGAAZABoAGwAcAB0AHgAfACAAIQAiACMAJAAlACYAJwAoACkAKgArACwALQAuAC8AMAAxADIAMwA0ADUANgA3ADgAOQA6ADsAPAA9AD4APwBAAEEAQgBDAEQARQBGAEcASABJAEoASwBMAE0ATgBPAFAAUQBSAFMAVABVAFYAVwBYAFkAWgBbAFwAXQBeAF8AYABhAGIAYwBkAGUAZgBnAGgAaQBqAGsAbABtAG4AbwBwAHEAcgBzAHQAdQB2AHcAeAB5AHoAewB8AH0AfgB\\u002fAIAAgQCCAIMAhACFAIYAhwCIAIkAigCLAIwAjQCOAI8AkACRAJIAkwCUAJUAlgCXAJgAmQCaAJsAnACdAJ4AnwCgAKEAogCjAKQApQCmAKcAqACpAKoAqwCsAK0ArgCvALAAsQCyALMAtAC1ALYAtwC4ALkAugC7ALwAvQC+AL8AwADBAMIAwwDEAMUAxgDHAMgAyQDKAMsAzADNAM4AzwDQANEA0gDTANQA1QDWANcA2ADZANoA2wDcAN0A3gDfAOAA4QDiAOMA5ADlAOYA5wDoAOkA6gDrAOwA7QDuAO8A8ADxAPIA8wD0APUA9gD3APgA+QD6APsA\\u002fAD9AP4A\\u002fwAAAQEBAgEDAQQBBQEGAQcBCAEJAQoBCwEMAQ0BDgEPARABEQESARMBFAEVARYBFwEYARkBGgEbARwBHQEeAR8BIAEhASIBIwEkASUBJgEnASgBKQEqASsBLAEtAS4BLwEwATEBMgEzATQBNQE2ATcBOAE5AToBOwE8AT0BPgE\\u002fAUABQQFCAUMBRAFFAUYBRwFIAUkBSgFLAUwBTQFOAU8BUAFRAVIBUwFUAVUBVgFXAVgBWQFaAVsBXAFdAV4BXwFgAWEBYgFjAWQBZQFmAWcBaAFpAWoBawFsAW0BbgFvAXABcQFyAXMBdAF1AXYBdwF4AXkBegF7AXwBfQF+AX8BgAGBAYIBgwGEAYUBhgGHAYgBiQGKAYsBjAGNAY4BjwGQAZEBkgGTAZQBlQGWAZcBmAGZAZoBmwGcAZ0BngGfAaABoQGiAaMBpAGlAaYBpwGoAakBqgGrAawBrQGuAa8BsAGxAbIBswG0AbUBtgG3AbgBuQG6AbsBvAG9Ab4BvwHAAcEBwgHDAcQBxQHGAccByAHJAcoBywHMAc0BzgHPAdAB0QHSAdMB1AHVAdYB1wHYAdkB2gHbAdwB3QHeAd8B4AHhAeIB4wHkAeUB5gHnAegB6QHqAesB7AHtAe4B7wHwAfEB8gHzAfQB9QH2AfcB+AH5AfoB+wH8Af0B\\u002fgH\\u002fAQACAQICAgMCBAIFAgYCBwIIAgkCCgILAgwCDQIOAg8CEAIRAhICEwIUAhUCFgIXAhgCGQIaAhsCHAIdAh4CHwIgAiECIgIjAiQCJQImAicCKAIpAioCKwIsAi0CLgIvAjACMQIyAjMCNAI1AjYCNwI4AjkCOgI7AjwCPQI+Aj8CQAJBAkICQwJEAkUCRgJHAkgCSQJKAksCTAJNAk4CTwJQAlECUgJTAlQCVQJWAlcCWAJZAloCWwJcAl0CXgJfAmACYQJiAmMCZAJlAmYCZwJoAmkCagJrAmwCbQJuAm8CcAJxAnICcwJ0AnUCdgJ3AngCeQJ6AnsCfAJ9An4CfwKAAoECggKDAoQChQKGAocCiAKJAooCiwKMAo0CjgKPApACkQKSApMClAKVApYClwKYApkCmgKbApwCnQKeAp8CoAKhAqICowKkAqUCpgKnAqgCqQKqAqsCrAKtAq4CrwKwArECsgKzArQCtQK2ArcCuAK5AroCuwK8Ar0CvgK\\u002fAsACwQLCAsMCxALFAsYCxwLIAskCygLLAswCzQLOAs8C0ALRAtIC0wLUAtUC1gLXAtgC2QLaAtsC3ALdAt4C3wLgAuEC4gLjAuQC5QLmAucC6ALpAuoC6wLsAu0C7gLvAvAC8QLyAvMC9AL1AvYC9wL4AvkC+gL7AvwC\\u002fQL+Av8CAAMBAwIDAwMEAwUDBgMHAwgDCQMKAwsDDAMNAw4DDwMQAxEDEgMTAxQDFQMWAxcDGAMZAxoDGwMcAx0DHgMfAyADIQMiAyMDJAMlAyYDJwMoAykDKgMrAywDLQMuAy8DMAMxAzIDMwM0AzUDNgM3AzgDOQM6AzsDPAM9Az4DPwNAA0EDQgNDA0QDRQNGA0cDSANJA0oDSwNMA00DTgNPA1ADUQNSA1MDVANVA1YDVwNYA1kDWgNbA1wDXQNeA18DYANhA2IDYwNkA2UDZgNnA2gDaQNqA2sDbANtA24DbwNwA3EDcgNzA3QDdQN2A3cDeAN5A3oDewN8A30DfgN\\u002fA4ADgQOCA4MDhAOFA4YDhwOIA4kDigOLA4wDjQOOA48DkAORA5IDkwOUA5UDlgOXA5gDmQOaA5sDnAOdA54DnwOgA6EDogOjA6QDpQOmA6cDqAOpA6oDqwOsA60DrgOvA7ADsQOyA7MDtAO1A7YDtwO4A7kDugO7A7wDvQO+A78DwAPBA8IDwwPEA8UDxgPHA8gDyQPKA8sDzAPNA84DzwPQA9ED0gPTA9QD1QPWA9cD2APZA9oD2wPcA90D3gPfA+AD4QPiA+MD5APlA+YD5wM=\"},\"xaxis\":\"x\",\"y\":{\"dtype\":\"f8\",\"bdata\":\"mVEGp\\u002fK4Nz9ExLxgB\\u002fFNv3UoWYN92Ge\\u002f2E8+vjZ7cb97Nm8AZMZuv\\u002fDp7\\u002f5fyXq\\u002f8tvGVRtSh78b8V9+eZGFv2HJ8gHD6oa\\u002fWV\\u002fWJHWLh7\\u002f\\u002feRV3jpGIvwsOod0w8I2\\u002fACSb93R\\u002fjb\\u002fIQZIky\\u002fOXv9yArgE6YaC\\u002fXUC7habTo78MZZdeUQCkv19Xmxj1vaC\\u002fyFfz\\u002fYMxnr8sdmZINtOgv0ybamC956K\\u002fUGeEPUHwob9q6BM3dqKhv0zKYyHIrqW\\u002fGvRK\\u002fszFpr8xHq2D5uelv2KCGr6FdaO\\u002f5dv1sQYYp78sceKAnWihvx0wm0LfxKa\\u002fY6LM\\u002fCbxrL8cRIxThAawv7AzSyPiva+\\u002f0Dar\\u002fDqJsb8LTQUhyF2yv+\\u002fmyhyiPLO\\u002ft+pbYjy1sL\\u002fQX2xKR3O1v9Ccsw31Hq+\\u002fUZ1QgA97sb\\u002fhxhRJR3u3v5jGzJHXe7S\\u002fvPSjn3hnuL+Q\\u002fBx65kC6v5rmX8O6jr6\\u002fJSZFt6DvwL9kStpDscvAv1CwEx8eEL6\\u002fvytA49sewL\\u002f1zD+4CnvAv8u8Vdehmry\\u002fbfjqns2OsL8gmpqANqSxv2LuQaWd3LS\\u002ftq2+ntUgrb+oKuHHoCyvvw96v5ycS6q\\u002fAbnRuwmio7+jPfsdzB6jvyFT40riUau\\u002fVhyhe+Nfmr80ZnUfPriwv6DmYA2CVKu\\u002fkmt1\\u002f3kWsr9XDV+yM32rv\\u002fmDWyA8OK2\\u002fWkF4WbhRtb+NKj+Ad7i1v00X\\u002f8qMr7K\\u002frboWRt17uL8tVn5gYZ26v9G5kWi4t7W\\u002fBMGIIkm1tL9kfV5Mjpa1vxgu5VujDr2\\u002fnmx3zbOrvr8taZy44gO1v97t1SL90cC\\u002fXTLxu6f6wr+WYy6AW724vxnUChUU7bm\\u002fejyI+OLmt783W7N0iRO0v2pE0JsBY6m\\u002f54G4QLyNq7+Cglolu0a0v7XtB35M0ra\\u002fEG5bKT4dwL9ZX25BALq+v7rVGBmJdbu\\u002f7f38rVObwL8hrCk9kS+3vxKBaZ8uVb2\\u002fYTGwr\\u002fFwt7+CbnY+GIW2v5b7EmErt66\\u002fz1pdkCVaq7\\u002fVnIQepoenv9y8\\u002f\\u002fyvVJ6\\u002ft8\\u002f1QNUvoL+JL03w0Qusv9DQ6cAMoqe\\u002fqz2bPgM2gD9pDAjnMrmrPyaUtp8px60\\u002fxfFYQFzKtz\\u002f+dgIvbRezPy1FLEHKeLY\\u002fQKG\\u002fTOuhuT+GST+Beqq\\u002fP3Fec3k5jcE\\u002fqDvLA8P\\u002fwj8OEC\\u002f8nmDEP0sVtckbv8M\\u002fwS3MAB9VwT\\u002fmp0B\\u002fBPLBP6B2UyUlGMQ\\u002fcSu6fox8vT\\u002fo9P433U+8P+ubQIAocr0\\u002fRur2v0fwtj+ANXte+cW3P\\u002fX85WqWkbQ\\u002ft5UD4hpEtz\\u002fKJHavi4mxP8fm9AapJbQ\\u002fMTVvwNpdtT8YiqHALs+vP\\u002fWFb+UVHak\\u002fR3aqHl5HsT\\u002f+ooDE4ZK5P3Qkl\\u002f+Qfq0\\u002f5omZ3ZDPpj9PhldQIAW0P5H\\u002f8l7vXbA\\u002f2tm9AO6+lj+kQpiCBZV0vxv\\u002fRZ2npKK\\u002f5vE1fdYyor8O++T4Bv6SP5rIjaHq958\\u002fCz91AlMzrj8WAz034Ry2PwKUTG\\u002f79bw\\u002fX\\u002fNHpK8Ywj9wcoWYx\\u002fHCP6\\u002fqzSTBBsY\\u002f2Yom5SifxT9OR98oonTLPwVrez9e3ck\\u002fwBpONnG0yT8pLfG6XbPKPyjfIuZIHdA\\u002fd0EKv1AX0j\\u002fZx6\\u002fEqBDTPxC+QcWCjNI\\u002f\\u002fDiaIyu\\u002f0z8kEAqlin3VP4SjHoHDtNU\\u002fr8L75Acy0j\\u002funcnl3HnLP5jcKLLWUMw\\u002fHX+aQRk2wz96tOUablnCPxZ6L4S9BcQ\\u002fdh1H\\u002fw1Sxz+c0k2kLCrGPz5x518e9Mk\\u002fJB0O4Ge7yj8AB8RWlgnLP7opqwqJi8s\\u002flncXILjnzD8vVxa3l9XNP5Dmfj0VZtA\\u002f6sVYv\\u002fxC0D+7K7tgcI3QP8tSBJvnRtE\\u002fRyz3PF5M0j+Rsqj8Kd3RPxJ19gCj7NU\\u002fc6K4Pgfx1j+GSo4B+nnTPy9B\\u002fLJqxsw\\u002fVS5U\\u002frU8zj\\u002fT+lsC8M\\u002fQP8dVPGDkhs8\\u002fq\\u002f0IidUbxT\\u002fyrXIVScPHP1+Tdwb0X8I\\u002fD17cwsrTvD+yKbqiUvS7PzFQY4xZQL4\\u002fmqEK4rDywz8LfAObjA3CP+0T3Qb3+7o\\u002fG7Ncnh1csT+naxFEItyrP52iAqsTZbE\\u002ftpGAC5FXoj9\\u002fqPf+TcK3P65GdqVlpLw\\u002fOtoGKOwmxD805bemSNfCP5XkLRUjZLg\\u002fk3MEnutjtD\\u002fPL4zsMS6cP3wTX35CVX8\\u002fvQO4MD0ntD8on9y+YBq0P4NdwfTF97U\\u002fVdy4xfzcvT8ggw02EnTAP3QsSmR6Hbs\\u002fS7fb5Ka8vT8o1PRVyTK3PzDqQd7+HsA\\u002fAgUHSdkBvD8X+CdEAj6+P6iHdZ4JMbg\\u002fKiXbK7mrvz\\u002fdiu2DZrbAP4nAaMFRE78\\u002fjKE5Ppw4xT9pDoAgj8y\\u002fP0Gw9OuYBMM\\u002fWGmcl9SaxD+7HnUJwYnCP97nGXda6cc\\u002f0cDZ9\\u002fJMyT93DV39lojFPxIYqf\\u002fFFsE\\u002fpsP5iiQwwD9rBROgIt66P8oVYh7HSb8\\u002fEclTANM8vj8hZuVNNP68P5g\\u002ftpf6msA\\u002fGMhYEkXtvj+uSXUJoHvFP0sKyVVuGsQ\\u002fFkyAinilyD9FbTTj4XvDPyEAWQTWXMU\\u002f9EMZaEbYxT\\u002fERc3bAWzFP3TxMwWd1sc\\u002fnPKNjeUCyT8UwnKdqYS3P8jKG59Kf7k\\u002ff5pn4NiXtT8u9X9QD7i+P8ea013AaMM\\u002fkz9zMWGPxj8IXPShTYbJP7dOVB0PicQ\\u002fcz8SvEKbyD8MwO2m5x\\u002fIP1t14\\u002f6fmsg\\u002fn6qEH4Myxz9poraqeGXHP8kVSYEmvsg\\u002fZwaWyKotwz98VuO2x5zBP0eKbfcXZsE\\u002fi5KI15JhwT8NSyy+2xu5P2JnCp3XWMM\\u002fcxYPUmRruz\\u002f7Ah8oXDS\\u002fPxCHGdgyMr8\\u002fQA2lFzHDuj+PTZdqC3S2P9tuYWGxm7E\\u002f1vBf5lwGsD+i19lvcX2wP2iVNqg\\u002f870\\u002fStn56QVAwT\\u002ffabYbEjG4P+saThVjy8A\\u002fAJ5AGkYoyD\\u002fsgNLteNW0Py01rdpWL7g\\u002ffzQ5CHx2tD\\u002fXeg1h\\u002f+y5Pz+iz2gnWrM\\u002fTd6+Fg18vD+qxuCbhcHAP6UvpargIrE\\u002fwQxlX7Tymz9arc955hWWv+TwzV+2162\\u002fldfGr4r9ub9r896cOiSyv3qVFcAdc7a\\u002fNqJdgNvls7\\u002ftXQf3mIKkvwO+sj1AGLC\\u002feC7Gnywlt7\\u002fqDZkgWpOzvzhKoLk1hrm\\u002fRgvxxIMYxL\\u002fI1SNoJ97Fv2sjQzP09My\\u002fB14MaX3fyb9GM8MEPe3Iv4w2InPACcu\\u002fGOt+wpcRxr+pq3XBZNPAv9LGrkA2Qb+\\u002fJ77aUZyjxL97eAG8JiDFv5f+Rrc1VMq\\u002fciPZ4be6y7\\u002fz0qgbgynMv651NbvmvMy\\u002fjWx8YKbxzr+PjLTYFrPOv4aSyamdYcm\\u002f+9M+BPJ4z78mW9kVZfzOv8Ha\\u002f51AGsm\\u002fI8n\\u002fJgyxx78YBBxjowPIv0NKu+pkncG\\u002fd\\u002fhKpF0aub8ndAsbbW66v6+7Lx0pEbu\\u002fyMPOVlYBwr8sDR23byC\\u002fv8L2OHjLesS\\u002f5\\u002fVxftTwwL\\u002f18ypbudHBv3\\u002fgCUE3ycW\\u002fztueQb\\u002fGyL82bCHpT\\u002fLFv2une9d\\u002fIca\\u002fQTOAnqNhyL8OwS\\u002f9ZO\\u002fIv\\u002fxhOmNOhsu\\u002fhQV7PMKjx79LF0lYp4zPv8DLLSlOoM2\\u002fXTY656e4yb9laOFXUajKv9GHeDWKdsS\\u002fdevzIFbisr8bmIFvP4W3v75wbfwXdZS\\u002fauWYC+BWoT\\u002fLgCAxW2GHP7WNdEOpdqK\\u002fTfvPYnUgpb88XVK\\u002fT3iuv9vidVg8ULG\\u002f4c9TkchGob\\u002fucNvB\\u002f4uxv6qzBGDWoLy\\u002ftv5tgcoZvr83FASwfdi3vxcckErSMcC\\u002fE\\u002fwlmCBZwr\\u002fdtQBELKjEv9VmEN27H8e\\u002fAPGpUml6yr\\u002fLVHcbivHLvyrMtUfzcMu\\u002fSQUdxgdqx79VPtvVcR3Lv\\u002fgLqP333NG\\u002fJerDghQfz79scAldFSrQv0ujE1MztdC\\u002fsg0engyr0b+47oN\\u002fU5DSv85Ex8ScVtC\\u002fkhZ4OMt20r8\\u002foYWhYfPRv6fWsQBc\\u002f9C\\u002fjfUF2yV90b80SCR+g\\u002f7Mv4tzDn37482\\u002fF6R0RBmFzb\\u002fRTe65RFzLvxB39SoyOs2\\u002fFtc6acgVxr9RYVOEJzbHv3mCs0qfjMm\\u002f1J7tLNVgxr+4SkWdmPnEv\\u002f6Y1qaxvcW\\u002fjvt\\u002favafwr9vHhwm+RXBv1pip1DEv76\\u002ffEZDQmuwv7+qHKTxVTzCv60QPcZoX8W\\u002f1IC9mQNKyb+yaQDKOnfKv28+vzlt186\\u002ffvoRt\\u002fHEyr\\u002f7M2pbIIPRv4Dsu0MGSdK\\u002ftrQigz8w078b2ZWWkXrPv3Ao12+B39C\\u002fdayUlnhdzb\\u002f0gYnk0EfNv1LFIsDIz82\\u002f5Fk4\\u002f2Vt0L\\u002feYAN9fUjRvxNhJv7mjdK\\u002fr3Dcc6rGz79ABuHAmjnNvwFHp1PDI9K\\u002f\\u002fgQfnLIH1b9w7URJSCTWv8SymUNSi9e\\u002f2Ikmq30V2L\\u002fYjAQBz0nVv0O2Rfw37dO\\u002f++qqQC0G1L+UgaigR7HUvzAvwD46ddK\\u002f1Bc6XbOo07+qeRIBHLXQvyAnTBjNysW\\u002fZE7ARPagwb+I2CN+DPC7vy4FYuE9ary\\u002fJNAFmnQAu7\\u002fhODU\\u002fGiizv7qWuY6rcKe\\u002ffDI5lCVjt79JGGHlK9zCv7745FkwDsW\\u002fwVmEQR1\\u002fx787thJ4LxDHv8tmUGX\\u002fWci\\u002fbxOseadlxL\\u002ffbigA77LEv1bC6vrLD8i\\u002fjq2pJJnyw79uPRq5NJ\\u002fFvyPWRX67dLe\\u002fegRQ71ZUtb8uORRcsWGqv8pi1wDpvqu\\u002fTylW3YjGob\\u002fdw2XiRF6av2uQ9v2jCLC\\u002fOgawPb2Wp7877JqdABukvwckznt9XKi\\u002fgg\\u002f9kSQzd78KY7VAVWGgP54o6HrLaqS\\u002fZFWWfkgTrb9Wi1\\u002fjwMylv8qqhP50yaW\\u002f5JWd3sJDtL\\u002f\\u002fiuNdgaqwv\\u002fPQTjiBCqm\\u002fEQskRNO7rb9ALpLyauu8v\\u002fr4nYldmbi\\u002fbRvKeZSEwr\\u002f+skFHJyLFv5uvko\\u002fdBcu\\u002f\\u002fk1B4WAtxb\\u002fnI0KGAnTFv6EekaXFT8W\\u002fPMiAJqF4w79cABqlS\\u002f\\u002fFv8TA50X1b8e\\u002fJ+Zy5stJwr+qxbfiqP3Gv8mH6vcOSMS\\u002f\\u002fajhthGqwr\\u002fy9KUS+YnCv5Zt8TosHsC\\u002f98wOyJCpwb+tNSc+XS6vv\\u002fRPcLGiBre\\u002fuIxhb94Pvb\\u002fo\\u002fBmAO8Czv57ImxW0Pbq\\u002fj18NisXzsb+PQmnai4m9v60brXK6j7e\\u002ft\\u002f2fgWCnqL\\u002f4kQLbJrSVP\\u002fYTCBq3waA\\u002fT\\u002fBFYh\\u002fwsj9NlRPgAKK0P95LRyT9Aqo\\u002fIi2dKGyzpT+FTO2dtQG8P+Ftc50lTME\\u002fIirg4AMiwz\\u002fnWBgBmUbIP+ZMZv7Jxsk\\u002f8A6V6xJ60D+sOWE+MLLRP2o+neG8LtM\\u002fPyON4Rw70j8jpVUEanfUP7vHRt5BhdU\\u002fUMWNW8wP0z9msDWdlZvUPxFFN7F2StU\\u002feEwXQede1z\\u002fiEjbyL7jXPz+8197hVdg\\u002fmkcX\\u002foCF1j81b+ahAFvZP8+j4v+O6Ng\\u002fiVaTTPMz2z8b5njDhVXcP3jhez1n5No\\u002fk6bmF8qu2T8Q9CdcVRfcP202VmKeFd0\\u002fMStvovFf3j++RGG8i1zfP78LfMF+GuA\\u002fZy94JKB63T8j+3uE9VrcP5HrS9tkedw\\u002fDbVc7KxM3T+pwEX+y3vdP\\u002fTtE\\u002fajF9w\\u002fpHXQ\\u002fJxI3T8yHTo978beP\\u002fK\\u002fCUPsZd4\\u002fv4cBASHI3T8vPVBdr1\\u002ffP3+HokCfiN4\\u002fr687\\u002fofL3T9LKgk\\u002fJxPgP0XDvY0oSOA\\u002f6v0tns2s3T\\u002f0LVodjFreP\\u002f+6qh72498\\u002fYfO7+sK13z\\u002fr3SdgnkLfP7YY2SFAft8\\u002f6G+d2nQf4D\\u002fUlXQ5ymbdPwWXGuO7e98\\u002fjEJ5vBz43j\\u002fhNDPppVjgPy4FYuE96uA\\u002fi0puPdg84j8l58Qe2ufgP716qn0ZsOE\\u002fL59RXztd4T9Sw68\\u002fJiXiP91F81vPq+I\\u002fGis5QJOx4j9nN8hezvDdP8PHcfEBS98\\u002fnx1wXTFj4D\\u002fY0kjwK\\u002fvgP4YDnSAcGeE\\u002fY5+dX9Z84T+Poec\\u002fOaTiP3CO34A7VeM\\u002fSDP1Pn4k5D\\u002fZkvpX+6DkP50OZD21+uQ\\u002fAyUFFsCU5T\\u002fbjgR1JZ3mPzZdqi3QSec\\u002fSu8bX3sG6D8fUJGefWDnP6IrbGFxM+g\\u002fVw6IaxBB6T+k0j4MY0HnP4RFRZxOsuY\\u002fwmosYW0s5j8aS\\u002f1h8NXmP\\u002fen+c8\\u002f5uU\\u002fllKf\\u002fav75D\\u002fYP\\u002fRJk\\u002ffiP25e5oWFZOM\\u002fX+v3aYHi4z\\u002fl+5jFelnkP6zkY3eBkuQ\\u002fg64zdKLT4z8gHP15ZL3jP8ok2dlG8uQ\\u002fenzOH8sp4z\\u002fmfqA\\u002f4SrkP4P9lZ2XreQ\\u002fjCvT1Fd85T\\u002f3AEDC7oPlP2YQH9jxX+U\\u002f3CPlOAGX5j8VO3VAbY\\u002fnP5YNxuP9U+g\\u002fvZQVHo806T+WWcZ+\\u002fa3pP7f1qgClIuo\\u002fRprTwOqj6j97QVWWMjrrP71BasmZ3Ok\\u002fYQVTKGYY6T\\u002f4lb1bD5XpP6hIjSLO9+k\\u002fW4kvybct6j9gOUIG8izrP2Xhyl105+s\\u002feJj2zf1V7D+bNV\\u002fC9H\\u002foPwH4Cn9EW+Y\\u002fYVPnUfE\\u002f5z+30ozBmlXoP1qiUKJnK+k\\u002fHXUyQLvm6D9RGqS\\u002fG9vpPyextQjWQuo\\u002f3nleAbfU6j8NLfwqCkXqP2LgFLHj2uo\\u002fyRsFLcmm6z9f0a3X9GDsP196Xp6MOe0\\u002ftJ1j\\u002ftko7j\\u002fzdK4oJYTuP37zLFJy2O4\\u002f4YFcPYJW7j9y0dp+Q7LuP4unuz61su4\\u002fyyQ0k7lD7z8fil02leDvP5IlzuVh\\u002fO8\\u002f7cCU3Lws8D+KcDiY8mbwP9pVSPlJlfA\\u002fV6qwvibQ7z+fxmJAmwHwP5M+xj\\u002fg\\u002f+0\\u002fUSfqFsv+7T9G6qC\\u002fjgfvP6PVf4xvnu8\\u002f1lrzPukf7z9NieJdR3\\u002fvPzs836pGiu8\\u002fC74fbdKj7D8RqrPemNPsP2n7\\u002fJwnA+w\\u002fUUAkjRuI7D9tTspJzYPsPxdB5171muw\\u002fN5Jfmn357D9epj9evF3sP8Wt\\u002ft9Db+s\\u002f1FQFWQUg6T9g86JdImrpP3K1X4jmy+k\\u002f5Jh2e1pP6D8K94igg1HoP+ID+eE5\\u002fug\\u002foB0uQV9d6T\\u002fhlo+kpAfqP2gyLfu\\u002fNOg\\u002fjMf7J27L6D\\u002fCD3PuG8TnP1ha47+CrOc\\u002fpse+fYBi5z9fJFks6njkPzuRu2MMB+U\\u002f6tyC32Xq5D\\u002fVJxR9mQPlP+WokrcSsOQ\\u002f5WN3gZLi5T+gSQeQRirmP+oPKPYr+OY\\u002fZ+zwfKta5z++amXCL7XlP\\u002fz5W6c2XeU\\u002fp4U\\u002fgX9j5T9uLmHh4nDmP+EvHL47SOY\\u002fhdyY4MwW5z8lYmPBcVfnP8uTGMI5\\u002fOc\\u002fnOHEX6yS5T8e5A7+8kfmP0O7t+AU7+c\\u002f8O87n2Rf6D9reYrBaLvmP\\u002fuVzodnSeY\\u002fTaGx\\u002fuj+5j9eU1pePXfnPydIz6HK+Oc\\u002fMV7zqs4q6D950h0fiMfpPzW5c7xdCuo\\u002fk5nBzgOO6j\\u002f0xb19RpfoPycrTAB6keg\\u002fci\\u002f2f4pa6T8Gsujnl5LpP6MvzikS3ek\\u002f\\u002f2RCgpga6j+kth7PeCzrPw3e\\u002fCvQ0+o\\u002fCO9h5YbV6z8oCMMlbGTrP42S\\u002fC2mPus\\u002fNK4LgVTx6z8BP5k1Z\\u002fPqP1XD2QgfJes\\u002fxRW8jXKV6T8Enf8NkJ7qP148zRMZ5+o\\u002fcjRHVn4Z6j+oXQKmwk7qP\\u002fILCt7rH+s\\u002fnURr4nCo6z8Aj6hQ3ZzrP9z2mKMiKew\\u002f9ciTYk9U7D9pEVm9JpjrP\\u002f4pl76+M+k\\u002fRugMMQM66D8lf+Ziwl7nPztwa14XtuY\\u002fScRKu4d65T9oSqHi7sLkP\\u002fjZbbzgeOM\\u002ftEGB0qtc4z+DNpQ1RRvkPx6wYTw5ueQ\\u002fPYW3YtoS5T9k\\u002fAP+U57kP8ExsgFk6uM\\u002fcumQgkSm5D\\u002fMhSV5CWnkPynxFM1e0eM\\u002f0VDtHX+z5D+nx1tTxfnlP4t0mmCT0OY\\u002fM2Goge4k5T\\u002f80\\u002fznH3PlP0iphCf0+uU\\u002fHDdG\\u002fNSC5j9OBYE6iljlPwTXJl8acOQ\\u002fxST5nWiP5T+Ba928J8XmPzrvGIElVec\\u002fS2L\\u002fK+E\\u002f5T9sPxnjw2zlP14h3gBUDeU\\u002fuMzpspjY5D9qs\\u002fufDSrmPyikkL8PwuU\\u002finJp\\u002fMKr5j8JqdvZV97nP2HcsuhCEeg\\u002f2bW93ZI86D+1Dx4SY77oP\\u002f\\u002fet2tTRug\\u002fSAvh4vJp6T8zgjIybaTpP33jEBa6N+o\\u002f+D5uIqct6D+L2w1H\\u002fK\\u002fnP2y9U7\\u002faaug\\u002fYsBxnW\\u002f56D9KbgMtEzTpP+r964H7huo\\u002fC+B3Hbt16j97E2SAG\\u002fTpPxPCWQAJGeo\\u002flEaSQWoK6T98nGnC9jPqP5eIvz8INeo\\u002fqY+XoEyk6j8MHHUZo1rqP8l\\u002fmr3gkes\\u002f5HxWPnAa7D8+USM+wQ\\u002fsP1HxJI7h1us\\u002fTR9wE6SI7D+6G58kuCztP8U98ffmUu0\\u002fIr1NJD2x7T\\u002fsoX2s4DfuP84B3fLsze4\\u002fwkU4dwXs7j8kfoP+WyzuP\\u002fKOnQE\\u002flO0\\u002fWt8bnrnC7T+LTGX2HhPuP+0GdqFe1eo\\u002fgGQ6dHre6j8SRZJq6dvqPzCWMyWjFOw\\u002fWsivYX6V7D82EeyuojXtPw6MF2b81u0\\u002fceJQZFIo7j8TO2QUFfvuP9\\u002fphIa0PO4\\u002flN71oSSH7T8IqLIgexrtP9r++L\\u002fhDe0\\u002f+jTdoRck7j9S+RGeVETuP8Pac\\u002fRTN+4\\u002fE4n4PaDC7T+\\u002f\\u002f6A\\u002ffkDtP11C9Fq\\u002fD+4\\u002fNI5HX\\u002ffM7D\\u002fLnC6LiQ3sPybbZWQ1wuw\\u002fXkXrTbFP7T\\u002fg9gSJ7W7sP7HNfL2xFu0\\u002ftq7invjb7T+Iw+tdMHbuP\\u002frMQALSQO8\\u002fSTd4FQix7j8MryR5rq\\u002ftPwuLQKuCR+4\\u002f39EQn4VO7z+UBQJTvADwPxoSnJ+HP\\u002fA\\u002fIdOQp5u68D8cazXaYNfwP19gVijS\\u002ffA\\u002f0TU4tkNI8D+B3DRsSijwP0n9UMR9f\\u002fA\\u002fsMqFyr\\u002f28D\\u002fDOTR201fwP\\u002fFWTFsSlu8\\u002f3a487ZU+8D+9cyhDVQzvPxqSSfxA6O8\\u002fFl3N8FUh6z+HHowz4TLrP5vkBeC4b+s\\u002fXprHBncM6j9UW0XaIZnqPxeFl7\\u002fGvuo\\u002fS\\u002feENkro6D87GLFPAAXqP2Z3kr5a3+o\\u002fJCBwbl176z8OCSmJNlHrPwIY6D1Ci+k\\u002f7M1ebBDc6T9Zhc0AF8TqP6n3VE57iuo\\u002fpiWYYvWk6j9nTk04qgnqP5LvraMFA+s\\u002facmAPz7Z6T83pJOdZXPqPyDuTYAfHes\\u002fSjlnXQYQ7D9cSqe\\u002fqA7rP8g0iTA0Dew\\u002f5NBsaBSc7D82oVqOoW3tPzu8EECknuw\\u002f5viy\\u002fuCt7D9\\u002flCJD2PrrP5nNLb6yHOw\\u002f96Jm3Xnh7D\\u002fQOvQnO0ftP6hdRMKUFO4\\u002fSbz6gFkE7j9caq391zjuPzH9XH7xlu4\\u002fgGhBg6hW7z\\u002fPigNDsRDwPzv4Lkp1Ju8\\u002f6lTgAfF87z\\u002fJkjmWdxXwP6SceYN5GfA\\u002fgqVfxyRo8D9pKKTreMLwP6paHN8og\\u002fA\\u002fxbL0\\u002fMTc8D9ZnUHoRTLxP++\\u002fOjNmd\\u002fE\\u002fAMgJE0aT8T8NZIdCFYjxP5YEqKll6\\u002fE\\u002fotEdxM5U8j8G9wMeGIDyP+Uh+ISR4\\u002fI\\u002f+kffpGkw8z9ypZ4FofzyP4urJXieM\\u002fM\\u002fwmBImLOI8z9yoCwhxFrzP8vl9RbFofM\\u002fRiADHr1m8z9q6\\u002fGMx7bzPwMTbugckvM\\u002fO7iF+NFa8z\\u002fZOAd0y7PzPzM9vEJ6BfM\\u002f2wNjM3bY8j9A8969SC3zPzvOyHswhPM\\u002fLbnlfuL78j+vbDAe7z\\u002fyP1ps7kM5jPI\\u002fNEUlGknn8j9I4A8\\u002f\\u002f93yP5m7lpAPOvM\\u002focJsXcV98z9Yn7zZMHTzP6NOiqB7oPM\\u002faZSJtr6j8z+rrkM1JVnzPzvBozJqQ\\u002fM\\u002fjkaZaOt78z+XXvZGCMrzPzJ9ZZQdEfQ\\u002fk7Kgi+Fl9D8xIYvZN1z0P4wPWN76dfM\\u002fPpP98zSA8z8DjHj8KNTzPzfMhusHK\\u002fQ\\u002f6P5FK1J89D\\u002fYIrPEFNb0Pw3DR8SU6PQ\\u002f9sfFYuVB9T\\u002flJ9U+HY\\u002f1P4qsNZTai\\u002fU\\u002frSqg9ZWs9T9OTqN\\u002fON71P3ufqkIDkfU\\u002fWp9yTBYX9T+a9+5FanD1P+9YbJOKxvU\\u002fATxYtVoW9T8tGRHWECb1P\\u002f+bcuAwbPU\\u002fqJHxg07D9T9R0mgXeBP2P8D8X79xY\\u002fY\\u002fJmt5isFo9j\\u002fcjfRY6aT2P\\u002fyqXKj8S\\u002fU\\u002fkkMfhxxW9T+zS68ogJ31P2MyC6MP7PU\\u002fZT57iQwm9j8yLaAGwmT2P4ApAwe0tPY\\u002fGHa92Yut9j\\u002fuQQjIl7D2P8c8PJUdDPY\\u002f7O5LR0qk9T9WD5iHTPn1P+R1s\\u002fXCU\\u002fY\\u002fmGn7V1Z69T+WRiemZsr1P5KzsKcdHvY\\u002fVfQsrSvr9T\\u002f1XPCz2zj2PzVn2IOkyvU\\u002fVPannhaN9T\\u002fWdJiK6JL1P3ZlYZnIdvU\\u002fy7Z4HRZv9T8cP1QaMdP1P17PfHMkXPU\\u002fExxN5Dim9T+jaZrBKf31Pxe7fVaZCfY\\u002fYgJtYcxM9j8lCFdAof71P2ypzUk5SfY\\u002fi1wmeWSC9j\\u002f+y\\u002f\\u002f1G5f2P8BJiRNOofY\\u002fublCabn99j9cvdQZKQX3Pxod6z3wTPc\\u002fbTwzHCqB9z\\u002fqeMxAZVz3PxqLAW0Gk\\u002fc\\u002fekUB7O1g9z9KwzqfS0L2P8yZ7Qp9EPY\\u002fo1pEFJMX9j\\u002fsj4vFykP2PwKKR5hYr\\u002fY\\u002fID\\u002fA\\u002f\\u002fu49j8=\"},\"yaxis\":\"y\",\"type\":\"scattergl\"}],                        {\"template\":{\"data\":{\"histogram2dcontour\":[{\"type\":\"histogram2dcontour\",\"colorbar\":{\"outlinewidth\":0,\"ticks\":\"\"},\"colorscale\":[[0.0,\"#0d0887\"],[0.1111111111111111,\"#46039f\"],[0.2222222222222222,\"#7201a8\"],[0.3333333333333333,\"#9c179e\"],[0.4444444444444444,\"#bd3786\"],[0.5555555555555556,\"#d8576b\"],[0.6666666666666666,\"#ed7953\"],[0.7777777777777778,\"#fb9f3a\"],[0.8888888888888888,\"#fdca26\"],[1.0,\"#f0f921\"]]}],\"choropleth\":[{\"type\":\"choropleth\",\"colorbar\":{\"outlinewidth\":0,\"ticks\":\"\"}}],\"histogram2d\":[{\"type\":\"histogram2d\",\"colorbar\":{\"outlinewidth\":0,\"ticks\":\"\"},\"colorscale\":[[0.0,\"#0d0887\"],[0.1111111111111111,\"#46039f\"],[0.2222222222222222,\"#7201a8\"],[0.3333333333333333,\"#9c179e\"],[0.4444444444444444,\"#bd3786\"],[0.5555555555555556,\"#d8576b\"],[0.6666666666666666,\"#ed7953\"],[0.7777777777777778,\"#fb9f3a\"],[0.8888888888888888,\"#fdca26\"],[1.0,\"#f0f921\"]]}],\"heatmap\":[{\"type\":\"heatmap\",\"colorbar\":{\"outlinewidth\":0,\"ticks\":\"\"},\"colorscale\":[[0.0,\"#0d0887\"],[0.1111111111111111,\"#46039f\"],[0.2222222222222222,\"#7201a8\"],[0.3333333333333333,\"#9c179e\"],[0.4444444444444444,\"#bd3786\"],[0.5555555555555556,\"#d8576b\"],[0.6666666666666666,\"#ed7953\"],[0.7777777777777778,\"#fb9f3a\"],[0.8888888888888888,\"#fdca26\"],[1.0,\"#f0f921\"]]}],\"contourcarpet\":[{\"type\":\"contourcarpet\",\"colorbar\":{\"outlinewidth\":0,\"ticks\":\"\"}}],\"contour\":[{\"type\":\"contour\",\"colorbar\":{\"outlinewidth\":0,\"ticks\":\"\"},\"colorscale\":[[0.0,\"#0d0887\"],[0.1111111111111111,\"#46039f\"],[0.2222222222222222,\"#7201a8\"],[0.3333333333333333,\"#9c179e\"],[0.4444444444444444,\"#bd3786\"],[0.5555555555555556,\"#d8576b\"],[0.6666666666666666,\"#ed7953\"],[0.7777777777777778,\"#fb9f3a\"],[0.8888888888888888,\"#fdca26\"],[1.0,\"#f0f921\"]]}],\"surface\":[{\"type\":\"surface\",\"colorbar\":{\"outlinewidth\":0,\"ticks\":\"\"},\"colorscale\":[[0.0,\"#0d0887\"],[0.1111111111111111,\"#46039f\"],[0.2222222222222222,\"#7201a8\"],[0.3333333333333333,\"#9c179e\"],[0.4444444444444444,\"#bd3786\"],[0.5555555555555556,\"#d8576b\"],[0.6666666666666666,\"#ed7953\"],[0.7777777777777778,\"#fb9f3a\"],[0.8888888888888888,\"#fdca26\"],[1.0,\"#f0f921\"]]}],\"mesh3d\":[{\"type\":\"mesh3d\",\"colorbar\":{\"outlinewidth\":0,\"ticks\":\"\"}}],\"scatter\":[{\"fillpattern\":{\"fillmode\":\"overlay\",\"size\":10,\"solidity\":0.2},\"type\":\"scatter\"}],\"parcoords\":[{\"type\":\"parcoords\",\"line\":{\"colorbar\":{\"outlinewidth\":0,\"ticks\":\"\"}}}],\"scatterpolargl\":[{\"type\":\"scatterpolargl\",\"marker\":{\"colorbar\":{\"outlinewidth\":0,\"ticks\":\"\"}}}],\"bar\":[{\"error_x\":{\"color\":\"#2a3f5f\"},\"error_y\":{\"color\":\"#2a3f5f\"},\"marker\":{\"line\":{\"color\":\"#E5ECF6\",\"width\":0.5},\"pattern\":{\"fillmode\":\"overlay\",\"size\":10,\"solidity\":0.2}},\"type\":\"bar\"}],\"scattergeo\":[{\"type\":\"scattergeo\",\"marker\":{\"colorbar\":{\"outlinewidth\":0,\"ticks\":\"\"}}}],\"scatterpolar\":[{\"type\":\"scatterpolar\",\"marker\":{\"colorbar\":{\"outlinewidth\":0,\"ticks\":\"\"}}}],\"histogram\":[{\"marker\":{\"pattern\":{\"fillmode\":\"overlay\",\"size\":10,\"solidity\":0.2}},\"type\":\"histogram\"}],\"scattergl\":[{\"type\":\"scattergl\",\"marker\":{\"colorbar\":{\"outlinewidth\":0,\"ticks\":\"\"}}}],\"scatter3d\":[{\"type\":\"scatter3d\",\"line\":{\"colorbar\":{\"outlinewidth\":0,\"ticks\":\"\"}},\"marker\":{\"colorbar\":{\"outlinewidth\":0,\"ticks\":\"\"}}}],\"scattermap\":[{\"type\":\"scattermap\",\"marker\":{\"colorbar\":{\"outlinewidth\":0,\"ticks\":\"\"}}}],\"scattermapbox\":[{\"type\":\"scattermapbox\",\"marker\":{\"colorbar\":{\"outlinewidth\":0,\"ticks\":\"\"}}}],\"scatterternary\":[{\"type\":\"scatterternary\",\"marker\":{\"colorbar\":{\"outlinewidth\":0,\"ticks\":\"\"}}}],\"scattercarpet\":[{\"type\":\"scattercarpet\",\"marker\":{\"colorbar\":{\"outlinewidth\":0,\"ticks\":\"\"}}}],\"carpet\":[{\"aaxis\":{\"endlinecolor\":\"#2a3f5f\",\"gridcolor\":\"white\",\"linecolor\":\"white\",\"minorgridcolor\":\"white\",\"startlinecolor\":\"#2a3f5f\"},\"baxis\":{\"endlinecolor\":\"#2a3f5f\",\"gridcolor\":\"white\",\"linecolor\":\"white\",\"minorgridcolor\":\"white\",\"startlinecolor\":\"#2a3f5f\"},\"type\":\"carpet\"}],\"table\":[{\"cells\":{\"fill\":{\"color\":\"#EBF0F8\"},\"line\":{\"color\":\"white\"}},\"header\":{\"fill\":{\"color\":\"#C8D4E3\"},\"line\":{\"color\":\"white\"}},\"type\":\"table\"}],\"barpolar\":[{\"marker\":{\"line\":{\"color\":\"#E5ECF6\",\"width\":0.5},\"pattern\":{\"fillmode\":\"overlay\",\"size\":10,\"solidity\":0.2}},\"type\":\"barpolar\"}],\"pie\":[{\"automargin\":true,\"type\":\"pie\"}]},\"layout\":{\"autotypenumbers\":\"strict\",\"colorway\":[\"#636efa\",\"#EF553B\",\"#00cc96\",\"#ab63fa\",\"#FFA15A\",\"#19d3f3\",\"#FF6692\",\"#B6E880\",\"#FF97FF\",\"#FECB52\"],\"font\":{\"color\":\"#2a3f5f\"},\"hovermode\":\"closest\",\"hoverlabel\":{\"align\":\"left\"},\"paper_bgcolor\":\"white\",\"plot_bgcolor\":\"#E5ECF6\",\"polar\":{\"bgcolor\":\"#E5ECF6\",\"angularaxis\":{\"gridcolor\":\"white\",\"linecolor\":\"white\",\"ticks\":\"\"},\"radialaxis\":{\"gridcolor\":\"white\",\"linecolor\":\"white\",\"ticks\":\"\"}},\"ternary\":{\"bgcolor\":\"#E5ECF6\",\"aaxis\":{\"gridcolor\":\"white\",\"linecolor\":\"white\",\"ticks\":\"\"},\"baxis\":{\"gridcolor\":\"white\",\"linecolor\":\"white\",\"ticks\":\"\"},\"caxis\":{\"gridcolor\":\"white\",\"linecolor\":\"white\",\"ticks\":\"\"}},\"coloraxis\":{\"colorbar\":{\"outlinewidth\":0,\"ticks\":\"\"}},\"colorscale\":{\"sequential\":[[0.0,\"#0d0887\"],[0.1111111111111111,\"#46039f\"],[0.2222222222222222,\"#7201a8\"],[0.3333333333333333,\"#9c179e\"],[0.4444444444444444,\"#bd3786\"],[0.5555555555555556,\"#d8576b\"],[0.6666666666666666,\"#ed7953\"],[0.7777777777777778,\"#fb9f3a\"],[0.8888888888888888,\"#fdca26\"],[1.0,\"#f0f921\"]],\"sequentialminus\":[[0.0,\"#0d0887\"],[0.1111111111111111,\"#46039f\"],[0.2222222222222222,\"#7201a8\"],[0.3333333333333333,\"#9c179e\"],[0.4444444444444444,\"#bd3786\"],[0.5555555555555556,\"#d8576b\"],[0.6666666666666666,\"#ed7953\"],[0.7777777777777778,\"#fb9f3a\"],[0.8888888888888888,\"#fdca26\"],[1.0,\"#f0f921\"]],\"diverging\":[[0,\"#8e0152\"],[0.1,\"#c51b7d\"],[0.2,\"#de77ae\"],[0.3,\"#f1b6da\"],[0.4,\"#fde0ef\"],[0.5,\"#f7f7f7\"],[0.6,\"#e6f5d0\"],[0.7,\"#b8e186\"],[0.8,\"#7fbc41\"],[0.9,\"#4d9221\"],[1,\"#276419\"]]},\"xaxis\":{\"gridcolor\":\"white\",\"linecolor\":\"white\",\"ticks\":\"\",\"title\":{\"standoff\":15},\"zerolinecolor\":\"white\",\"automargin\":true,\"zerolinewidth\":2},\"yaxis\":{\"gridcolor\":\"white\",\"linecolor\":\"white\",\"ticks\":\"\",\"title\":{\"standoff\":15},\"zerolinecolor\":\"white\",\"automargin\":true,\"zerolinewidth\":2},\"scene\":{\"xaxis\":{\"backgroundcolor\":\"#E5ECF6\",\"gridcolor\":\"white\",\"linecolor\":\"white\",\"showbackground\":true,\"ticks\":\"\",\"zerolinecolor\":\"white\",\"gridwidth\":2},\"yaxis\":{\"backgroundcolor\":\"#E5ECF6\",\"gridcolor\":\"white\",\"linecolor\":\"white\",\"showbackground\":true,\"ticks\":\"\",\"zerolinecolor\":\"white\",\"gridwidth\":2},\"zaxis\":{\"backgroundcolor\":\"#E5ECF6\",\"gridcolor\":\"white\",\"linecolor\":\"white\",\"showbackground\":true,\"ticks\":\"\",\"zerolinecolor\":\"white\",\"gridwidth\":2}},\"shapedefaults\":{\"line\":{\"color\":\"#2a3f5f\"}},\"annotationdefaults\":{\"arrowcolor\":\"#2a3f5f\",\"arrowhead\":0,\"arrowwidth\":1},\"geo\":{\"bgcolor\":\"white\",\"landcolor\":\"#E5ECF6\",\"subunitcolor\":\"white\",\"showland\":true,\"showlakes\":true,\"lakecolor\":\"white\"},\"title\":{\"x\":0.05},\"mapbox\":{\"style\":\"light\"}}},\"xaxis\":{\"anchor\":\"y\",\"domain\":[0.0,1.0],\"title\":{\"text\":\"$t$\"}},\"yaxis\":{\"anchor\":\"x\",\"domain\":[0.0,1.0],\"title\":{\"text\":\"value\"}},\"legend\":{\"title\":{\"text\":\"variable\"},\"tracegroupgap\":0},\"margin\":{\"t\":60}},                        {\"responsive\": true}                    ).then(function(){\n",
       "                            \n",
       "var gd = document.getElementById('c88d7c5c-2612-4e01-adbf-632ae50c3a29');\n",
       "var x = new MutationObserver(function (mutations, observer) {{\n",
       "        var display = window.getComputedStyle(gd).display;\n",
       "        if (!display || display === 'none') {{\n",
       "            console.log([gd, 'removed!']);\n",
       "            Plotly.purge(gd);\n",
       "            observer.disconnect();\n",
       "        }}\n",
       "}});\n",
       "\n",
       "// Listen for the removal of the full notebook cells\n",
       "var notebookContainer = gd.closest('#notebook-container');\n",
       "if (notebookContainer) {{\n",
       "    x.observe(notebookContainer, {childList: true});\n",
       "}}\n",
       "\n",
       "// Listen for the clearing of the current output cell\n",
       "var outputEl = gd.closest('.output');\n",
       "if (outputEl) {{\n",
       "    x.observe(outputEl, {childList: true});\n",
       "}}\n",
       "\n",
       "                        })                };            </script>        </div>"
      ]
     },
     "metadata": {},
     "output_type": "display_data"
    }
   ],
   "source": [
    "df = pd.read_csv(\"data.csv\", index_col=0)\n",
    "fig = px.line(df[[\"w_0\", \" (EKF)\"]])\n",
    "fig.show()"
   ]
  }
 ],
 "metadata": {
  "kernelspec": {
   "display_name": "python3",
   "language": "python",
   "name": "python3"
  }
 },
 "nbformat": 4,
 "nbformat_minor": 5
}
