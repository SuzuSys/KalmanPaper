{
 "cells": [
  {
   "cell_type": "code",
   "execution_count": null,
   "id": "73a47473",
   "metadata": {},
   "outputs": [],
   "source": [
    "#| hide\n",
    "%load_ext autoreload\n",
    "%autoreload 2"
   ]
  },
  {
   "cell_type": "markdown",
   "id": "19f37a27",
   "metadata": {},
   "source": [
    "# 分析00\n",
    "\n",
    "> 00_Gen によって生成されたデータに対して各種モデルを適用する"
   ]
  },
  {
   "cell_type": "code",
   "execution_count": null,
   "id": "a0bad21a",
   "metadata": {},
   "outputs": [],
   "source": [
    "#| hide\n",
    "import math\n",
    "from typing import NamedTuple\n",
    "from KalmanPaper import gen00, simple as sp\n",
    "import jax.random as jrd\n",
    "import jax.numpy as jnp\n",
    "import jax.random as jrd\n",
    "import jax\n",
    "from jaxtyping import Float, Int, Array, PRNGKeyArray\n",
    "from KalmanPaper import gen00, EKF, VA, simple\n",
    "from matplotlib import pyplot as plt\n",
    "from typing import Tuple, Callable\n",
    "from functools import partial\n",
    "import h5py\n",
    "import plotly.express as px\n",
    "import plotly.io as pio\n",
    "import pandas as pd\n",
    "pio.renderers.default = 'notebook'\n",
    "from dash import Dash, html, dcc, callback, Output, Input\n",
    "import plotly.graph_objs as go"
   ]
  },
  {
   "cell_type": "markdown",
   "id": "3dbd5578",
   "metadata": {},
   "source": [
    "## 関数定義"
   ]
  },
  {
   "cell_type": "code",
   "execution_count": null,
   "id": "7250c26b",
   "metadata": {},
   "outputs": [],
   "source": [
    "#| hide\n",
    "FILENAME = \"00_Data.h5\"\n",
    "N_SEED = 1000\n",
    "T = 1000"
   ]
  },
  {
   "cell_type": "code",
   "execution_count": null,
   "id": "21232c6d",
   "metadata": {},
   "outputs": [],
   "source": [
    "#| hide\n",
    "class Parameter(NamedTuple):\n",
    "  r\"\"\"$\\!$*\n",
    "  00_Gen によって生成するときのパラメータ。\n",
    "\n",
    "  table\n",
    "  G: $\\boldsymbol\\Gamma$\n",
    "  S: $\\boldsymbol\\Sigma$\n",
    "  w0: $\\mathbf w_{-1}$\n",
    "  P0: $\\mathbf P_{-1}$\n",
    "  epsilon: $\\epsilon$\n",
    "\n",
    "  *$\\!$\"\"\"\n",
    "\n",
    "  G: Float[Array, \"{N} {N}\"]\n",
    "  S: Float[Array, \"{N} {N}\"]\n",
    "  w0: Float[Array, \"{N}\"]\n",
    "  P0: Float[Array, \"{N} {N}\"]\n",
    "  epsilon: Float[Array, \"\"] = jnp.array(2**-16)\n",
    "\n",
    "sp.rewrite_nt(Parameter)"
   ]
  },
  {
   "cell_type": "code",
   "execution_count": null,
   "id": "5d1efbc5",
   "metadata": {},
   "outputs": [
    {
     "data": {
      "text/markdown": [
       "---\n",
       "\n",
       "### Parameter\n",
       "\n",
       ">      Parameter (G:jaxtyping.Float[Array,'{N}{N}'],\n",
       ">                 S:jaxtyping.Float[Array,'{N}{N}'],\n",
       ">                 w0:jaxtyping.Float[Array,'{N}'],\n",
       ">                 P0:jaxtyping.Float[Array,'{N}{N}'],\n",
       ">                 epsilon:jaxtyping.Float[Array,'']=Array(1.5258789e-05,\n",
       ">                 dtype=float32, weak_type=True))\n",
       "\n",
       "*$\\!$*\n",
       "00_Gen によって生成するときのパラメータ。\n",
       "\n",
       "| $\\!$ | Type | Default | Details |\n",
       "|--|--|--|--|\n",
       "| G | Float[Array, '{N} {N}'] | $\\!$ | $\\boldsymbol\\Gamma$\n",
       "| S | Float[Array, '{N} {N}'] | $\\!$ | $\\boldsymbol\\Sigma$\n",
       "| w0 | Float[Array, '{N}'] | $\\!$ | $\\mathbf w_{-1}$\n",
       "| P0 | Float[Array, '{N} {N}'] | $\\!$ | $\\mathbf P_{-1}$\n",
       "| epsilon | Float[Array, ''] | 1.52587890625e-05 | $\\epsilon$\n",
       "\n",
       "*$\\!$*"
      ],
      "text/plain": [
       "<IPython.core.display.Markdown object>"
      ]
     },
     "execution_count": null,
     "metadata": {},
     "output_type": "execute_result"
    }
   ],
   "source": [
    "#| echo: false\n",
    "sp.reshow_doc(Parameter)"
   ]
  },
  {
   "cell_type": "code",
   "execution_count": null,
   "id": "fd158587",
   "metadata": {},
   "outputs": [],
   "source": [
    "#| hide\n",
    "class Param(NamedTuple):\n",
    "  r\"\"\"$\\!$*\n",
    "  可変パラメータ。各パラメータは次のように定義される。\n",
    "\n",
    "  - $N$\n",
    "  - $T=1000$\n",
    "  - $\\boldsymbol\\Gamma=2^p\\mathbf I$\n",
    "  - $\\boldsymbol\\Sigma=2^q\\mathbf I$\n",
    "  - $\\mathbf w_{-1}=(r/2)(1,\\ldots,1)^T/\\sqrt{N}$\n",
    "  - $\\mathbf P_{-1}=\\boldsymbol\\Gamma$\n",
    "  - $\\epsilon=2^{-16}$\n",
    "\n",
    "  table\n",
    "  N: $N$\n",
    "  p: $p$\n",
    "  q: $q$\n",
    "  r: $r$\n",
    "\n",
    "  *$\\!$\"\"\"\n",
    "  N: int\n",
    "  p: int\n",
    "  q: int\n",
    "  r: int\n",
    "\n",
    "sp.rewrite_nt(Param)"
   ]
  },
  {
   "cell_type": "code",
   "execution_count": null,
   "id": "169b07bf",
   "metadata": {},
   "outputs": [
    {
     "data": {
      "text/markdown": [
       "---\n",
       "\n",
       "### Param\n",
       "\n",
       ">      Param (N:int, p:int, q:int, r:int)\n",
       "\n",
       "*$\\!$*\n",
       "可変パラメータ。各パラメータは次のように定義される。\n",
       "\n",
       "- $N$\n",
       "- $T=1000$\n",
       "- $\\boldsymbol\\Gamma=2^p\\mathbf I$\n",
       "- $\\boldsymbol\\Sigma=2^q\\mathbf I$\n",
       "- $\\mathbf w_{-1}=(r/2)(1,\\ldots,1)^T/\\sqrt{N}$\n",
       "- $\\mathbf P_{-1}=\\boldsymbol\\Gamma$\n",
       "- $\\epsilon=2^{-16}$\n",
       "\n",
       "| $\\!$ | Type | Details |\n",
       "|--|--|--|\n",
       "| N | int | $N$\n",
       "| p | int | $p$\n",
       "| q | int | $q$\n",
       "| r | int | $r$\n",
       "\n",
       "*$\\!$*"
      ],
      "text/plain": [
       "<IPython.core.display.Markdown object>"
      ]
     },
     "execution_count": null,
     "metadata": {},
     "output_type": "execute_result"
    }
   ],
   "source": [
    "#| echo: false\n",
    "sp.reshow_doc(Param)"
   ]
  },
  {
   "cell_type": "code",
   "execution_count": null,
   "id": "518580db",
   "metadata": {},
   "outputs": [],
   "source": [
    "#| hide\n",
    "def restore_param(\n",
    "    param: Param # Param\n",
    ") -> Tuple[int, int, Parameter]: # $N$, $T$, Parameter\n",
    "  r\"\"\"$\\!$*\n",
    "  Param から Parameter に変換する。\n",
    "  *$\\!$\"\"\"\n",
    "  return param.N, T, Parameter(\n",
    "    2.0**param.p * jnp.identity(param.N),\n",
    "    2.0**param.q * jnp.identity(param.N),\n",
    "    (param.r/(2.0*jnp.sqrt(param.N)))*jnp.ones(param.N),\n",
    "    2.0**param.p * jnp.identity(param.N),\n",
    "  )"
   ]
  },
  {
   "cell_type": "code",
   "execution_count": null,
   "id": "d0d435fb",
   "metadata": {},
   "outputs": [
    {
     "data": {
      "text/markdown": [
       "---\n",
       "\n",
       "### restore_param\n",
       "\n",
       ">      restore_param (param:__main__.Param)\n",
       "\n",
       "*$\\!$*\n",
       "Param から Parameter に変換する。\n",
       "*$\\!$*\n",
       "\n",
       "|$\\!$| **Type** | **Details** |\n",
       "| -- | -------- | ----------- |\n",
       "| param | Param | Param |\n",
       "| **Returns** | **Tuple** | **$N$, $T$, Parameter** |"
      ],
      "text/plain": [
       "<IPython.core.display.Markdown object>"
      ]
     },
     "execution_count": null,
     "metadata": {},
     "output_type": "execute_result"
    }
   ],
   "source": [
    "#| echo: false\n",
    "sp.reshow_doc(restore_param)"
   ]
  },
  {
   "cell_type": "code",
   "execution_count": null,
   "id": "b8eb92ec",
   "metadata": {},
   "outputs": [],
   "source": [
    "#| hide\n",
    "def save_data(\n",
    "    param: Param, # Param\n",
    "    name: str, # Model name (Gen, EKF, etc.)\n",
    "    data: dict, # dataset_name: jnp.array\n",
    ") -> None:\n",
    "  r\"\"\"$\\!$*\n",
    "  `00_Data.h5` にデータを格納する\n",
    "\n",
    "  ```\n",
    ".\n",
    "├───param1\n",
    "│   ├───Gen\n",
    "│   │       W (seed, T, N)\n",
    "│   │       X (seed, T, N)\n",
    "│   │       Y (seed, T)\n",
    "│   │\n",
    "│   ├───Model1\n",
    "│   │       W (seed, T, N)\n",
    "│   │       P (seed, T, N, N)\n",
    "│   │\n",
    "│   ├───Model2\n",
    "│\n",
    "├───param2\n",
    "```\n",
    "\n",
    "  *$\\!$\"\"\"\n",
    "\n",
    "  with h5py.File(FILENAME, mode=\"a\") as f:\n",
    "    dirparam = f\"/p{param.N}{param.p}{param.q}{param.r}\"\n",
    "    groupparam = f.require_group(name=dirparam)\n",
    "    paramdict = param._asdict()\n",
    "    for k, v in paramdict.items():\n",
    "      groupparam.attrs[k] = v\n",
    "    groupmodel = groupparam.require_group(name=name)\n",
    "    for k, v in data.items():\n",
    "      try:\n",
    "        groupmodel.create_dataset(name=k, data=v, compression=\"gzip\")\n",
    "      except ValueError as e:\n",
    "        print(e)"
   ]
  },
  {
   "cell_type": "code",
   "execution_count": null,
   "id": "4a726723",
   "metadata": {},
   "outputs": [
    {
     "data": {
      "text/markdown": [
       "---\n",
       "\n",
       "### save_data\n",
       "\n",
       ">      save_data (param:__main__.Param, name:str, data:dict)\n",
       "\n",
       "*$\\!$*\n",
       "  `00_Data.h5` にデータを格納する\n",
       "\n",
       "  ```\n",
       ".\n",
       "├───param1\n",
       "│   ├───Gen\n",
       "│   │       W (seed, T, N)\n",
       "│   │       X (seed, T, N)\n",
       "│   │       Y (seed, T)\n",
       "│   │\n",
       "│   ├───Model1\n",
       "│   │       W (seed, T, N)\n",
       "│   │       P (seed, T, N, N)\n",
       "│   │\n",
       "│   ├───Model2\n",
       "│\n",
       "├───param2\n",
       "```\n",
       "\n",
       "  *$\\!$*\n",
       "\n",
       "|$\\!$| **Type** | **Details** |\n",
       "| -- | -------- | ----------- |\n",
       "| param | Param | Param |\n",
       "| name | str | Model name (Gen, EKF, etc.) |\n",
       "| data | dict | dataset_name: jnp.array |\n",
       "| **Returns** | **None** |$\\!$|"
      ],
      "text/plain": [
       "<IPython.core.display.Markdown object>"
      ]
     },
     "execution_count": null,
     "metadata": {},
     "output_type": "execute_result"
    }
   ],
   "source": [
    "#| echo: false\n",
    "sp.reshow_doc(save_data)"
   ]
  },
  {
   "cell_type": "code",
   "execution_count": null,
   "id": "d4b63954",
   "metadata": {},
   "outputs": [],
   "source": [
    "#| hide\n",
    "class WXY(NamedTuple):\n",
    "  r\"\"\"$\\!$*\n",
    "  \n",
    "  table\n",
    "  W: $\\{\\mathbf w_t\\}_{t=0,\\ldots,T-1}$\n",
    "  X: $\\{\\mathbf x_t\\}_{t=0,\\ldots,T-1}$\n",
    "  Y: $\\{y_t\\}_{t=0,\\ldots,T-1}$\n",
    "\n",
    "  *$\\!$\"\"\"\n",
    "  W: Float[Array, \"T N\"]\n",
    "  X: Float[Array, \"T N\"]\n",
    "  Y: Float[Array, \"T\"]\n",
    "\n",
    "sp.rewrite_nt(WXY)"
   ]
  },
  {
   "cell_type": "code",
   "execution_count": null,
   "id": "3e0caa89",
   "metadata": {},
   "outputs": [
    {
     "data": {
      "text/markdown": [
       "---\n",
       "\n",
       "### WXY\n",
       "\n",
       ">      WXY (W:jaxtyping.Float[Array,'TN'], X:jaxtyping.Float[Array,'TN'],\n",
       ">           Y:jaxtyping.Float[Array,'T'])\n",
       "\n",
       "*$\\!$*\n",
       "\n",
       "| $\\!$ | Type | Details |\n",
       "|--|--|--|\n",
       "| W | Float[Array, 'T N'] | $\\{\\mathbf w_t\\}_{t=0,\\ldots,T-1}$\n",
       "| X | Float[Array, 'T N'] | $\\{\\mathbf x_t\\}_{t=0,\\ldots,T-1}$\n",
       "| Y | Float[Array, 'T'] | $\\{y_t\\}_{t=0,\\ldots,T-1}$\n",
       "\n",
       "*$\\!$*"
      ],
      "text/plain": [
       "<IPython.core.display.Markdown object>"
      ]
     },
     "execution_count": null,
     "metadata": {},
     "output_type": "execute_result"
    }
   ],
   "source": [
    "#| echo: false\n",
    "sp.reshow_doc(WXY)"
   ]
  },
  {
   "cell_type": "code",
   "execution_count": null,
   "id": "a01a8c8a",
   "metadata": {},
   "outputs": [],
   "source": [
    "#| hide\n",
    "@partial(jax.jit, static_argnames=['N', 'T'])\n",
    "def generate(\n",
    "    key: PRNGKeyArray, # PRNGKeyArray\n",
    "    N: int, # $N$\n",
    "    T: int, # $T$\n",
    "    p: Parameter # Parameter\n",
    ") -> WXY:\n",
    "  key_w, key_xy = jrd.split(key, 2)\n",
    "  W = gen00.gen_w(key_w, N, T, p.G, p.w0)\n",
    "  X, Y = gen00.gen_xy(key_xy, N, T, p.S, W)\n",
    "  return WXY(W, X, Y)"
   ]
  },
  {
   "cell_type": "code",
   "execution_count": null,
   "id": "2c60bae2",
   "metadata": {},
   "outputs": [
    {
     "data": {
      "text/markdown": [
       "---\n",
       "\n",
       "### generate\n",
       "\n",
       ">      generate (key:Union[jaxtyping.Key[Array,''],jaxtyping.UInt32[Array,'2']],\n",
       ">                N:int, T:int, p:__main__.Parameter)\n",
       "\n",
       "|$\\!$| **Type** | **Details** |\n",
       "| -- | -------- | ----------- |\n",
       "| key | Union | PRNGKeyArray |\n",
       "| N | int | $N$ |\n",
       "| T | int | $T$ |\n",
       "| p | Parameter | Parameter |\n",
       "| **Returns** | **WXY** |$\\!$|"
      ],
      "text/plain": [
       "<IPython.core.display.Markdown object>"
      ]
     },
     "execution_count": null,
     "metadata": {},
     "output_type": "execute_result"
    }
   ],
   "source": [
    "#| echo: false\n",
    "sp.reshow_doc(generate)"
   ]
  },
  {
   "cell_type": "code",
   "execution_count": null,
   "id": "b98da7d4",
   "metadata": {},
   "outputs": [],
   "source": [
    "#| hide\n",
    "def generate_main(\n",
    "    param: Param, # Param\n",
    "    seed: int # seed値\n",
    "):\n",
    "  r\"\"\"$\\!$*\n",
    "  データを生成し、00_Data.h5 に保存する。\n",
    "  *$\\!$\"\"\"\n",
    "  N, T, p = restore_param(param)\n",
    "  batched_generate = jax.vmap(\n",
    "    lambda key: generate(key, N, T, p)\n",
    "  )\n",
    "  master_key = jrd.PRNGKey(seed)\n",
    "  keys = jrd.split(master_key, N_SEED)\n",
    "  wxy = batched_generate(keys)\n",
    "  save_data(param, \"Gen\", wxy._asdict())"
   ]
  },
  {
   "cell_type": "code",
   "execution_count": null,
   "id": "00e2a229",
   "metadata": {},
   "outputs": [
    {
     "data": {
      "text/markdown": [
       "---\n",
       "\n",
       "### generate_main\n",
       "\n",
       ">      generate_main (param:__main__.Param, seed:int)\n",
       "\n",
       "*$\\!$*\n",
       "データを生成し、00_Data.h5 に保存する。\n",
       "*$\\!$*\n",
       "\n",
       "|$\\!$| **Type** | **Details** |\n",
       "| -- | -------- | ----------- |\n",
       "| param | Param | Param |\n",
       "| seed | int | seed値 |"
      ],
      "text/plain": [
       "<IPython.core.display.Markdown object>"
      ]
     },
     "execution_count": null,
     "metadata": {},
     "output_type": "execute_result"
    }
   ],
   "source": [
    "#| echo: false\n",
    "sp.reshow_doc(generate_main)"
   ]
  },
  {
   "cell_type": "code",
   "execution_count": null,
   "id": "60673e1a",
   "metadata": {},
   "outputs": [],
   "source": [
    "#| hide\n",
    "def predict_main(\n",
    "    param: Param, # Param\n",
    "    model_name: str, # EKF, etc.\n",
    "    func: Callable[[int, int, Float[Array, \"T N\"], Float[Array, \"T\"], Parameter], NamedTuple] # $N,T,\\{\\mathbf x_t\\}_{t=0,\\ldots,T-1},\\{y_t\\}_{t=0,\\ldots,T-1},\\mathrm{p}\\to\\{\\hat{\\mathbf w_t}\\}_{t=0,\\ldots,T-1},\\{\\mathbf P_{t/t}\\}_{t=0,\\ldots,T-1},\\ldots$\n",
    "):\n",
    "  r\"\"\"$\\!$*\n",
    "  00_Data.h5 のデータ $X,Y$ に対して `func` で $W$ 等を推論し、保存する。\n",
    "  *$\\!$\"\"\"\n",
    "  N, T, p = restore_param(param)\n",
    "  batched_predict = jax.vmap(\n",
    "    lambda X, Y: func(N, T, X, Y, p)\n",
    "  )\n",
    "  with h5py.File(FILENAME, mode=\"r\") as f:\n",
    "    dirparam = f\"/p{param.N}{param.p}{param.q}{param.r}/Gen\"\n",
    "    groupparam = f.require_group(name=dirparam)\n",
    "    X = groupparam.require_dataset(name=\"X\", shape=(N_SEED, T, N), dtype=jnp.float32)[...]\n",
    "    Y = groupparam.require_dataset(name=\"Y\", shape=(N_SEED, T), dtype=jnp.float32)[...]\n",
    "  WP = batched_predict(X, Y)\n",
    "  save_data(param, model_name, WP._asdict())"
   ]
  },
  {
   "cell_type": "code",
   "execution_count": null,
   "id": "54f88838",
   "metadata": {},
   "outputs": [
    {
     "data": {
      "text/markdown": [
       "---\n",
       "\n",
       "### predict_main\n",
       "\n",
       ">      predict_main (param:__main__.Param, model_name:str, func:Callable[[int,in\n",
       ">                    t,jaxtyping.Float[Array,'TN'],jaxtyping.Float[Array,'T'],__\n",
       ">                    main__.Parameter],NamedTuple])\n",
       "\n",
       "*$\\!$*\n",
       "00_Data.h5 のデータ $X,Y$ に対して `func` で $W$ 等を推論し、保存する。\n",
       "*$\\!$*\n",
       "\n",
       "|$\\!$| **Type** | **Details** |\n",
       "| -- | -------- | ----------- |\n",
       "| param | Param | Param |\n",
       "| model_name | str | EKF, etc. |\n",
       "| func | Callable | $N,T,\\{\\mathbf x_t\\}_{t=0,\\ldots,T-1},\\{y_t\\}_{t=0,\\ldots,T-1},\\mathrm{p}\\to\\{\\hat{\\mathbf w_t}\\}_{t=0,\\ldots,T-1},\\{\\mathbf P_{t/t}\\}_{t=0,\\ldots,T-1},\\ldots$ |"
      ],
      "text/plain": [
       "<IPython.core.display.Markdown object>"
      ]
     },
     "execution_count": null,
     "metadata": {},
     "output_type": "execute_result"
    }
   ],
   "source": [
    "#| echo: false\n",
    "sp.reshow_doc(predict_main)"
   ]
  },
  {
   "cell_type": "markdown",
   "id": "888eb1e1",
   "metadata": {},
   "source": [
    "## 関数のテスト"
   ]
  },
  {
   "cell_type": "code",
   "execution_count": null,
   "id": "23044e8b",
   "metadata": {},
   "outputs": [],
   "source": [
    "LOCK = True"
   ]
  },
  {
   "cell_type": "code",
   "execution_count": null,
   "id": "97f226b7",
   "metadata": {},
   "outputs": [],
   "source": [
    "#| eval: false\n",
    "#| hide\n",
    "if not LOCK:\n",
    "  generate_main(Param(2, -3, -3, 0), 0)"
   ]
  },
  {
   "cell_type": "code",
   "execution_count": null,
   "id": "2bfaf2a1",
   "metadata": {},
   "outputs": [],
   "source": [
    "#| eval: false\n",
    "#| hide\n",
    "if not LOCK:\n",
    "  predict_main(\n",
    "    Param(2, -3, -3, 0), \n",
    "    \"EKF\", \n",
    "    lambda N, T, x, y, p: EKF.EKF(N, T, x, y, p.G, p.w0, p.P0)\n",
    "  )"
   ]
  },
  {
   "cell_type": "code",
   "execution_count": null,
   "id": "f0de631f",
   "metadata": {},
   "outputs": [],
   "source": [
    "#| eval: false\n",
    "#| hide\n",
    "if not LOCK:\n",
    "  predict_main(\n",
    "    Param(2, -3, -3, 0), \n",
    "    \"VApre\", \n",
    "    lambda N, T, x, y, p: VA.VApre(N, T, x, y, p.G, p.w0, p.P0)\n",
    "  )"
   ]
  },
  {
   "cell_type": "code",
   "execution_count": null,
   "id": "70817b65",
   "metadata": {},
   "outputs": [],
   "source": [
    "#| eval: false\n",
    "#| hide\n",
    "if not LOCK:\n",
    "  predict_main(\n",
    "    Param(2, -3, -3, 0), \n",
    "    \"VAEM\", \n",
    "    lambda N, T, x, y, p: VA.VAEM(N, T, x, y, p.G, p.w0, p.P0, p.epsilon)\n",
    "  )"
   ]
  },
  {
   "cell_type": "code",
   "execution_count": null,
   "id": "b3be7891",
   "metadata": {},
   "outputs": [],
   "source": [
    "#| eval: false\n",
    "#| hide\n",
    "if not LOCK:\n",
    "  with h5py.File(FILENAME, mode=\"w\") as f:\n",
    "    param = Param(2, -3, -3, 0)\n",
    "    try:\n",
    "      del f[f\"/p{param.N}{param.p}{param.q}{param.r}\"]\n",
    "    except:\n",
    "      pass"
   ]
  },
  {
   "cell_type": "markdown",
   "id": "dfdbfd3b",
   "metadata": {},
   "source": [
    "## データ生成"
   ]
  },
  {
   "cell_type": "code",
   "execution_count": null,
   "id": "c50cae75",
   "metadata": {},
   "outputs": [],
   "source": [
    "#| hide\n",
    "SEED = 0\n",
    "Ns = [2, 4, 8]\n",
    "ps = jnp.array([-4, -6, -8, -10, -12], dtype=jnp.int32)\n",
    "qs = jnp.array([-2, -1, 0, 1, 2, 3, 4], dtype=jnp.int32)\n",
    "rs = jnp.array([0, 1, 2], dtype=jnp.int32)\n",
    "func_dict: dict[str, Callable[[int, int, Float[Array, \"T N\"], Float[Array, \"T\"], Parameter], NamedTuple]] = {\n",
    "  \"EKF\": lambda N, T, x, y, p: EKF.EKF(N, T, x, y, p.G, p.w0, p.P0),\n",
    "  \"VApre\": lambda N, T, x, y, p: VA.VApre(N, T, x, y, p.G, p.w0, p.P0),\n",
    "  \"VAEM\": lambda N, T, x, y, p: VA.VAEM(N, T, x, y, p.G, p.w0, p.P0, p.epsilon)\n",
    "}"
   ]
  },
  {
   "cell_type": "code",
   "execution_count": null,
   "id": "1c22fa3c",
   "metadata": {},
   "outputs": [],
   "source": [
    "#| eval: false\n",
    "#| hide\n",
    "if not LOCK:\n",
    "  count = 0\n",
    "  total = len(ps) * len(qs) * len(rs) * len(Ns) * len(func_dict)\n",
    "  for p in ps:\n",
    "    for q in qs:\n",
    "      for r in rs:\n",
    "        for N in Ns:\n",
    "          param = Param(N, p, q, r)\n",
    "          generate_main(param, SEED)\n",
    "          for n, f in func_dict.items():\n",
    "            count += 1\n",
    "            print(f\"[{count}/{total}] p={p}, q={q}, r={r}, N={N}, func={n}\")\n",
    "            predict_main(param, n, f)"
   ]
  },
  {
   "cell_type": "markdown",
   "id": "945ea8ec",
   "metadata": {},
   "source": [
    "## 分析"
   ]
  },
  {
   "cell_type": "markdown",
   "id": "1abc09f6",
   "metadata": {},
   "source": [
    "### 推論結果の様子"
   ]
  },
  {
   "cell_type": "code",
   "execution_count": null,
   "id": "ff065fa3",
   "metadata": {},
   "outputs": [
    {
     "data": {
      "image/png": "[encoded data removed]",
      "text/plain": [
       "<Figure size 640x480 with 1 Axes>"
      ]
     },
     "metadata": {},
     "output_type": "display_data"
    }
   ],
   "source": [
    "#| eval: false\n",
    "#| echo: false\n",
    "with h5py.File(FILENAME, mode=\"r\") as f:\n",
    "  k = list(f.keys())[0]\n",
    "  pg = f.require_group(k)\n",
    "  N = pg.attrs[\"N\"]\n",
    "  ds_W = pg.require_dataset(name=\"Gen/W\", shape=(N_SEED, T, N), dtype=jnp.float32)\n",
    "  plt.plot(ds_W[0,:,0], label=r\"$w_{0,t}$\")\n",
    "  for n in func_dict.keys():\n",
    "    ds_W_hat = pg.require_dataset(name=f\"{n}/W\", shape=(N_SEED, T, N), dtype=jnp.float32)\n",
    "    plt.plot(ds_W_hat[0,:,0], label=r\"$\\hat{w}_{0,t}$\" + f\" ({n})\")\n",
    "  plt.xlabel(\"$t$\")\n",
    "  plt.title(r\"$\\text{rk} = 0$\")\n",
    "  plt.legend()\n"
   ]
  },
  {
   "cell_type": "markdown",
   "id": "7c98332e",
   "metadata": {},
   "source": [
    "### 結果"
   ]
  },
  {
   "cell_type": "markdown",
   "id": "a7da4254",
   "metadata": {},
   "source": [
    "- $N$\n",
    "- $T=1000$\n",
    "- $\\boldsymbol\\Gamma=2^p\\mathbf I$\n",
    "- $\\boldsymbol\\Sigma=2^q\\mathbf I$\n",
    "- $\\mathbf w_{-1}=(r/2)(1,\\ldots,1)^T/\\sqrt{N}$\n",
    "- $\\mathbf P_{-1}=\\boldsymbol\\Gamma$\n",
    "- $\\epsilon=2^{-16}$"
   ]
  },
  {
   "cell_type": "code",
   "execution_count": null,
   "id": "7d8ff5d8",
   "metadata": {},
   "outputs": [
    {
     "data": {
      "text/html": [
       "\n",
       "        <iframe\n",
       "            width=\"100%\"\n",
       "            height=\"650\"\n",
       "            src=\"http://127.0.0.1:8060/\"\n",
       "            frameborder=\"0\"\n",
       "            allowfullscreen\n",
       "            \n",
       "        ></iframe>\n",
       "        "
      ],
      "text/plain": [
       "<IPython.lib.display.IFrame>"
      ]
     },
     "metadata": {},
     "output_type": "display_data"
    }
   ],
   "source": [
    "#| eval: false\n",
    "#| echo: false\n",
    "\n",
    "app = Dash(__name__)\n",
    "\n",
    "app.layout = html.Div([\n",
    "    html.Div([\n",
    "        dcc.Markdown(children=\"PRNG Key:\", mathjax=True, style={'margin-right': '8px', 'font-weight': 'bold'}),\n",
    "        dcc.Dropdown(jnp.arange(1000).tolist(), 0, id=\"dropdown-rs\", clearable=False),\n",
    "    ], style={'width': '30%', 'display': 'inline-flex', 'align-items': 'center', 'margin-right': '10px'}),\n",
    "\n",
    "    html.Div([\n",
    "        dcc.Markdown(children=\"$N$ :\", mathjax=True, style={'margin-right': '8px', 'font-weight': 'bold'}),\n",
    "        dcc.Dropdown(Ns, Ns[0], id=\"dropdown-N\", clearable=False),\n",
    "    ], style={'width': '17%', 'display': 'inline-flex', 'align-items': 'center', 'margin-right': '10px'}),\n",
    "\n",
    "    html.Div([\n",
    "        dcc.Markdown(children=\"$p$ :\", mathjax=True, style={'margin-right': '8px', 'font-weight': 'bold'}),\n",
    "        dcc.Dropdown(ps.tolist(), ps[0], id=\"dropdown-p\", clearable=False),\n",
    "    ], style={'width': '15%', 'display': 'inline-flex', 'align-items': 'center', 'margin-right': '10px'}),\n",
    "\n",
    "    html.Div([\n",
    "        dcc.Markdown(children=\"$q$ :\", mathjax=True, style={'margin-right': '8px', 'font-weight': 'bold'}),\n",
    "        dcc.Dropdown(qs.tolist(), qs[0], id=\"dropdown-q\", clearable=False),\n",
    "    ], style={'width': '15%', 'display': 'inline-flex', 'align-items': 'center', 'margin-right': '10px'}),\n",
    "\n",
    "    html.Div([\n",
    "        dcc.Markdown(children=\"$r$ :\", mathjax=True, style={'margin-right': '8px', 'font-weight': 'bold'}),\n",
    "        dcc.Dropdown(rs.tolist(), rs[0], id=\"dropdown-r\", clearable=False),\n",
    "    ], style={'width': '15%', 'display': 'inline-flex', 'align-items': 'center'}),\n",
    "\n",
    "    html.Div(id=\"iframe-wrapper\")\n",
    "])\n",
    "\n",
    "@callback(\n",
    "    Output(\"iframe-wrapper\", \"children\"),\n",
    "    Input(\"dropdown-rs\", \"value\"),\n",
    "    Input(\"dropdown-N\", \"value\"),\n",
    "    Input(\"dropdown-p\", \"value\"),\n",
    "    Input(\"dropdown-q\", \"value\"),\n",
    "    Input(\"dropdown-r\", \"value\"),\n",
    ")\n",
    "def update_iframe(rs, N, p, q, r):\n",
    "    with h5py.File(FILENAME, mode=\"r\") as f:\n",
    "        dirparam = f\"/p{N}{p}{q}{r}\"\n",
    "        di = dict()\n",
    "        ds_W = f.require_dataset(name=f\"{dirparam}/Gen/W\", shape=(N_SEED, T, N), dtype=jnp.float32)\n",
    "        di[\"True\"] = ds_W[rs,:,0]\n",
    "        for n in func_dict.keys():\n",
    "            ds_W = f.require_dataset(name=f\"{dirparam}/{n}/W\", shape=(N_SEED, T, N), dtype=jnp.float32)\n",
    "            di[n] = ds_W[rs,:,0]\n",
    "        df = pd.DataFrame(di)\n",
    "        df[\"t\"] = jnp.arange(T)\n",
    "        df = df.set_index(\"t\")\n",
    "    fig = px.line(df)\n",
    "    fig.update_layout(\n",
    "        xaxis_title=\"$t$\",\n",
    "        yaxis_title=r\"$\\hat w_{0,t}$\",\n",
    "        xaxis_title_font=dict(size=18),\n",
    "        yaxis_title_font=dict(size=18),\n",
    "        #legend=dict(\n",
    "        #    x=0.01,\n",
    "        #    y=0.99,\n",
    "        #    xanchor='left',\n",
    "        #    yanchor='top',\n",
    "        #    orientation='h',\n",
    "        #)\n",
    "    )\n",
    "    # HTML スニペット（div 部分のみ）を取得\n",
    "    html_snippet = fig.to_html(full_html=False, include_mathjax=\"cdn\")\n",
    "\n",
    "    # Iframe に埋め込む\n",
    "    return html.Iframe(\n",
    "        srcDoc=html_snippet,\n",
    "        style={\"width\": \"100%\", \"height\": \"500px\", \"border\": \"none\"}\n",
    "    )\n",
    "\n",
    "app.run(port=8060)"
   ]
  },
  {
   "cell_type": "markdown",
   "id": "af1613b1",
   "metadata": {},
   "source": [
    "### 誤差\n",
    "\n",
    "$$E(\\{w_{0,t}\\}_{t=0,\\ldots,T})=\\{\\hat{w}_{0,t} - w_{0,t}\\}_{t=0,\\ldots,T}$$"
   ]
  },
  {
   "cell_type": "code",
   "execution_count": null,
   "id": "feaa21f2",
   "metadata": {},
   "outputs": [
    {
     "data": {
      "text/html": [
       "\n",
       "        <iframe\n",
       "            width=\"100%\"\n",
       "            height=\"650\"\n",
       "            src=\"http://127.0.0.1:8070/\"\n",
       "            frameborder=\"0\"\n",
       "            allowfullscreen\n",
       "            \n",
       "        ></iframe>\n",
       "        "
      ],
      "text/plain": [
       "<IPython.lib.display.IFrame>"
      ]
     },
     "metadata": {},
     "output_type": "display_data"
    }
   ],
   "source": [
    "#| eval: false\n",
    "#| echo: false\n",
    "app = Dash(__name__)\n",
    "\n",
    "app.layout = html.Div([\n",
    "    html.Div([\n",
    "        dcc.Slider(\n",
    "            min=int(math.log10(10)), \n",
    "            max=int(math.log10(N_SEED*T//100)), \n",
    "            step=0.1, \n",
    "            value=int(math.log10(100)), \n",
    "            marks={i: '{}'.format(10 ** i) for i in range(int(math.log10(N_SEED*T//10)))},\n",
    "            id=\"slider-bin\")\n",
    "    ]),\n",
    "    html.Div(id='slider-output', style={'marginTop': 10, 'marginBottom': 10, 'text-align': 'center'}),\n",
    "    html.Div([\n",
    "        dcc.Markdown(children=\"$N$ :\", mathjax=True, style={'margin-right': '8px', 'font-weight': 'bold'}),\n",
    "        dcc.Dropdown(Ns, Ns[0], id=\"dropdown-N\", clearable=False),\n",
    "    ], style={'width': '17%', 'display': 'inline-flex', 'align-items': 'center', 'margin-right': '10px'}),\n",
    "\n",
    "    html.Div([\n",
    "        dcc.Markdown(children=\"$p$ :\", mathjax=True, style={'margin-right': '8px', 'font-weight': 'bold'}),\n",
    "        dcc.Dropdown(ps.tolist(), ps[0], id=\"dropdown-p\", clearable=False),\n",
    "    ], style={'width': '15%', 'display': 'inline-flex', 'align-items': 'center', 'margin-right': '10px'}),\n",
    "\n",
    "    html.Div([\n",
    "        dcc.Markdown(children=\"$q$ :\", mathjax=True, style={'margin-right': '8px', 'font-weight': 'bold'}),\n",
    "        dcc.Dropdown(qs.tolist(), qs[0], id=\"dropdown-q\", clearable=False),\n",
    "    ], style={'width': '15%', 'display': 'inline-flex', 'align-items': 'center', 'margin-right': '10px'}),\n",
    "\n",
    "    html.Div([\n",
    "        dcc.Markdown(children=\"$r$ :\", mathjax=True, style={'margin-right': '8px', 'font-weight': 'bold'}),\n",
    "        dcc.Dropdown(rs.tolist(), rs[0], id=\"dropdown-r\", clearable=False),\n",
    "    ], style={'width': '15%', 'display': 'inline-flex', 'align-items': 'center'}),\n",
    "\n",
    "    html.Div(id=\"iframe-wrapper\")\n",
    "])\n",
    "\n",
    "@callback(\n",
    "    Output(\"slider-output\", \"children\"),\n",
    "    Input(\"slider-bin\", \"value\"),\n",
    ")\n",
    "def update_bin(log_bin):\n",
    "    bin = round(10**log_bin)\n",
    "    return f\"The number of bin: {bin}\"\n",
    "\n",
    "@callback(\n",
    "    Output(\"iframe-wrapper\", \"children\"),\n",
    "    Input(\"slider-bin\", \"value\"),\n",
    "    Input(\"dropdown-N\", \"value\"),\n",
    "    Input(\"dropdown-p\", \"value\"),\n",
    "    Input(\"dropdown-q\", \"value\"),\n",
    "    Input(\"dropdown-r\", \"value\"),\n",
    ")\n",
    "def update_iframe(log_bin, N, p, q, r):\n",
    "    bin = round(10**log_bin)\n",
    "    with h5py.File(FILENAME, mode=\"r\") as f:\n",
    "        dirparam = f\"/p{N}{p}{q}{r}\"\n",
    "        di = dict()\n",
    "        ds_W_True = f.require_dataset(\n",
    "            name=f\"{dirparam}/Gen/W\", \n",
    "            shape=(N_SEED, T, N), \n",
    "            dtype=jnp.float32)[:,:,0].ravel()\n",
    "        W_True_arg = ds_W_True.argpartition(jnp.arange(bin, N_SEED*T, bin))\n",
    "        ds_W_True = ds_W_True[W_True_arg]\n",
    "        di[\"w\"] = ds_W_True\n",
    "        for n in func_dict.keys():\n",
    "            ds_W = f.require_dataset(name=f\"{dirparam}/{n}/W\", shape=(N_SEED, T, N), dtype=jnp.float32)\n",
    "            di[n] = ds_W[:,:,0].ravel()[W_True_arg] - ds_W_True\n",
    "        df = pd.DataFrame(di)\n",
    "        df_groupby = df.groupby(df.index // bin)\n",
    "        df_mean = df_groupby.mean()\n",
    "        df_mean = df_mean.set_index(\"w\")\n",
    "        df_25 = df_groupby[list(func_dict.keys())].quantile(0.25)\n",
    "        df_50 = df_groupby[list(func_dict.keys())].quantile(0.5)\n",
    "        df_75 = df_groupby[list(func_dict.keys())].quantile(0.75)\n",
    "    \n",
    "    fig = go.Figure()\n",
    "    for n, c in zip(func_dict.keys(), [simple.hex_to_rgb(S) for S in px.colors.qualitative.Plotly]):\n",
    "        # 中心線\n",
    "        fig.add_trace(go.Scatter(\n",
    "            x=df_mean.index,\n",
    "            y=df_mean[n],\n",
    "            name=f\"{n} (mean)\",\n",
    "            line=dict(color=c, dash=\"dash\"),\n",
    "            mode='lines'\n",
    "        ))\n",
    "        # 中心線２\n",
    "        fig.add_trace(go.Scatter(\n",
    "            x=df_mean.index,\n",
    "            y=df_50[n],\n",
    "            name=f\"{n} (quantile 50%)\",\n",
    "            line=dict(color=c),\n",
    "            mode='lines'\n",
    "        ))\n",
    "        # 塗りつぶし範囲\n",
    "        fig.add_trace(go.Scatter(\n",
    "            x=df_mean.index.tolist() + df_mean.index[::-1].tolist(),\n",
    "            y=df_75[n].tolist() + df_25[n][::-1].tolist(),\n",
    "            name=f\"{n} (quantile 25%)\",\n",
    "            fill='toself',\n",
    "            fillcolor=c.replace('rgb', 'rgba').replace(')', ',0.5)'),\n",
    "            line=dict(color='rgba(255,255,255,0)'),\n",
    "            hoverinfo=\"skip\"\n",
    "        ))\n",
    "\n",
    "    fig.update_layout(\n",
    "        xaxis_title=\"$w_0$\",\n",
    "        yaxis_title=r\"$\\hat w_{0}-w_0$\",\n",
    "        xaxis_title_font=dict(size=18),\n",
    "        yaxis_title_font=dict(size=18),\n",
    "    )\n",
    "    # HTML スニペット（div 部分のみ）を取得\n",
    "    html_snippet = fig.to_html(full_html=False, include_mathjax=\"cdn\")\n",
    "\n",
    "    # Iframe に埋め込む\n",
    "    return html.Iframe(\n",
    "        srcDoc=html_snippet,\n",
    "        style={\"width\": \"100%\", \"height\": \"500px\", \"border\": \"none\"}\n",
    "    )\n",
    "\n",
    "app.run(port=8070)"
   ]
  }
 ],
 "metadata": {
  "kernelspec": {
   "display_name": "python3",
   "language": "python",
   "name": "python3"
  }
 },
 "nbformat": 4,
 "nbformat_minor": 5
}
