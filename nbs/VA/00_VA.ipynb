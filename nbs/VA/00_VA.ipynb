{
 "cells": [
  {
   "cell_type": "code",
   "execution_count": null,
   "id": "2a90d547",
   "metadata": {},
   "outputs": [
    {
     "name": "stdout",
     "output_type": "stream",
     "text": [
      "The autoreload extension is already loaded. To reload it, use:\n",
      "  %reload_ext autoreload\n"
     ]
    },
    {
     "name": "stderr",
     "output_type": "stream",
     "text": [
      "[autoreload of KalmanPaper.simple failed: Traceback (most recent call last):\n",
      "  File \"c:\\Users\\suzun\\Dev\\Paper\\KalmanPaper\\venv\\Lib\\site-packages\\IPython\\extensions\\autoreload.py\", line 322, in check\n",
      "    elif self.deduper_reloader.maybe_reload_module(m):\n",
      "         ^^^^^^^^^^^^^^^^^^^^^^^^^^^^^^^^^^^^^^^^^^^^\n",
      "  File \"c:\\Users\\suzun\\Dev\\Paper\\KalmanPaper\\venv\\Lib\\site-packages\\IPython\\extensions\\deduperreload\\deduperreload.py\", line 545, in maybe_reload_module\n",
      "    new_source_code = f.read()\n",
      "                      ^^^^^^^^\n",
      "UnicodeDecodeError: 'cp932' codec can't decode byte 0x86 in position 490: illegal multibyte sequence\n",
      "]\n"
     ]
    }
   ],
   "source": [
    "#| hide\n",
    "%load_ext autoreload\n",
    "%autoreload 2"
   ]
  },
  {
   "cell_type": "markdown",
   "id": "05ae5c0b",
   "metadata": {},
   "source": [
    "# Variational Approximation\n",
    "\n",
    "> 変分近似"
   ]
  },
  {
   "cell_type": "code",
   "execution_count": null,
   "id": "de29376b",
   "metadata": {},
   "outputs": [],
   "source": [
    "#| default_exp VA"
   ]
  },
  {
   "cell_type": "code",
   "execution_count": null,
   "id": "7e037dee",
   "metadata": {},
   "outputs": [],
   "source": [
    "#| hide\n",
    "#| export\n",
    "import jax.numpy as jnp\n",
    "import jax.lax as lax\n",
    "import jax.scipy.linalg as jsl\n",
    "import jax\n",
    "from jaxtyping import Array, Float, Int\n",
    "from KalmanPaper import simple as sp\n",
    "from typing import Tuple\n",
    "from functools import partial"
   ]
  },
  {
   "cell_type": "code",
   "execution_count": null,
   "id": "cf0c1ed8",
   "metadata": {},
   "outputs": [],
   "source": [
    "#| export\n",
    "def lam(\n",
    "    x: Float[Array, \"\"] # $x$\n",
    ") -> Float[Array, \"\"]: # $\\lambda(x)$\n",
    "  r\"\"\"$\\!$*\n",
    "  Lambda 関数\n",
    "  $$\\lambda(x)=\\frac{1}{2x}\\left[\\sigma(x)-\\frac{1}{2}\\right]$$\n",
    "  *$\\!$\"\"\"\n",
    "  return (sp.losi(x) - 0.5)/(2*x)"
   ]
  },
  {
   "cell_type": "code",
   "execution_count": null,
   "id": "b6154d1f",
   "metadata": {},
   "outputs": [
    {
     "data": {
      "text/markdown": [
       "---\n",
       "\n",
       "[source](https://github.com/SuzuSys/KalmanPaper/blob/main/KalmanPaper/simple.py#L64){target=\"_blank\" style=\"float:right; font-size:smaller\"}\n",
       "\n",
       "### lam\n",
       "\n",
       ">      lam (x:jaxtyping.Float[Array,''])\n",
       "\n",
       "*$\\!$*\n",
       "Lambda 関数\n",
       "$$\\lambda(x)=\\frac{1}{2x}\\left[\\sigma(x)-\\frac{1}{2}\\right]$$\n",
       "*$\\!$*\n",
       "\n",
       "|$\\!$| **Type** | **Details** |\n",
       "| -- | -------- | ----------- |\n",
       "| x | Float[Array, ''] | $x$ |\n",
       "| **Returns** | **Float[Array, '']** | **$\\lambda(x)$** |"
      ],
      "text/plain": [
       "<IPython.core.display.Markdown object>"
      ]
     },
     "execution_count": null,
     "metadata": {},
     "output_type": "execute_result"
    }
   ],
   "source": [
    "#| hide\n",
    "sp.reshow_doc(lam)"
   ]
  },
  {
   "cell_type": "code",
   "execution_count": null,
   "id": "4980cbee",
   "metadata": {},
   "outputs": [],
   "source": [
    "#| export\n",
    "@jax.jit\n",
    "def Ptt(\n",
    "    Ptm:  Float[Array, \"N N\"], # $\\mathbf P_{t/t-1}$\n",
    "    x:    Float[Array, \"N\"], # $\\mathbf x_t$\n",
    "    xi:   Float[Array, \"\"], # $\\xi_t$\n",
    ") -> Float[Array, \"N N\"]: # $\\mathbf P_{t/t}$\n",
    "  r\"\"\"$\\!$*\n",
    "  推定誤差共分散行列 $\\mathbf P_{t/t}$\n",
    "  $$\\mathbf P_{t/t}=\\mathbf P_{t/t-1}-\\frac{2\\lambda(\\xi_t)}{1+2\\lambda(\\xi_t)\\mathbf x_t^T\\mathbf P_{t/t-1}\\mathbf x_t}\\left(\\mathbf P_{t/t-1}\\mathbf x_t\\right)\\left(\\mathbf P_{t/t-1}\\mathbf x_t\\right)^T$$\n",
    "  $$\\mathbf P_{t/t}^{-1}=\\mathbf P_{t/t-1}^{-1}+2\\lambda(\\xi_t)\\mathbf x_t\\mathbf x_t^T$$\n",
    "  *$\\!$\"\"\"\n",
    "  dsigma = 2*lam(xi)\n",
    "  Ptmx = Ptm @ x\n",
    "  return Ptm - (dsigma / (1 + dsigma * (x @ Ptmx))) * jnp.outer(Ptmx, Ptmx)"
   ]
  },
  {
   "cell_type": "code",
   "execution_count": null,
   "id": "fe8873b9",
   "metadata": {},
   "outputs": [
    {
     "data": {
      "text/markdown": [
       "---\n",
       "\n",
       "[source](https://github.com/SuzuSys/KalmanPaper/blob/main/KalmanPaper/EKF.py#L17){target=\"_blank\" style=\"float:right; font-size:smaller\"}\n",
       "\n",
       "### Ptt\n",
       "\n",
       ">      Ptt (Ptm:jaxtyping.Float[Array,'NN'], x:jaxtyping.Float[Array,'N'],\n",
       ">           xi:jaxtyping.Float[Array,''])\n",
       "\n",
       "*$\\!$*\n",
       "推定誤差共分散行列 $\\mathbf P_{t/t}$\n",
       "$$\\mathbf P_{t/t}=\\mathbf P_{t/t-1}-\\frac{2\\lambda(\\xi_t)}{1+2\\lambda(\\xi_t)\\mathbf x_t^T\\mathbf P_{t/t-1}\\mathbf x_t}\\left(\\mathbf P_{t/t-1}\\mathbf x_t\\right)\\left(\\mathbf P_{t/t-1}\\mathbf x_t\\right)^T$$\n",
       "$$\\mathbf P_{t/t}^{-1}=\\mathbf P_{t/t-1}^{-1}+2\\lambda(\\xi_t)\\mathbf x_t\\mathbf x_t^T$$\n",
       "*$\\!$*\n",
       "\n",
       "|$\\!$| **Type** | **Details** |\n",
       "| -- | -------- | ----------- |\n",
       "| Ptm | Float[Array, 'N N'] | $\\mathbf P_{t/t-1}$ |\n",
       "| x | Float[Array, 'N'] | $\\mathbf x_t$ |\n",
       "| xi | Float[Array, ''] | $\\xi_t$ |\n",
       "| **Returns** | **Float[Array, 'N N']** | **$\\mathbf P_{t/t}$** |"
      ],
      "text/plain": [
       "<IPython.core.display.Markdown object>"
      ]
     },
     "execution_count": null,
     "metadata": {},
     "output_type": "execute_result"
    }
   ],
   "source": [
    "#| hide\n",
    "sp.reshow_doc(Ptt)"
   ]
  },
  {
   "cell_type": "code",
   "execution_count": null,
   "id": "6a5f8d85",
   "metadata": {},
   "outputs": [],
   "source": [
    "#| export\n",
    "@jax.jit\n",
    "def wtt(\n",
    "    Ptm: Float[Array, \"N N\"],  # $\\mathbf P_{t/t-1}$\n",
    "    Ptt_: Float[Array, \"N N\"], # $\\mathbf P_{t/t}$\n",
    "    w: Float[Array, \"N\"],      # $\\hat{\\mathbf w}_{t/t-1}$\n",
    "    x: Float[Array, \"N\"],      # $\\mathbf x_t$\n",
    "    y: Float[Array, \"\"],      # $y_t$\n",
    ") -> Float[Array, \"N\"]:        # $\\hat{\\mathbf w}_{t/t}$\n",
    "  r\"\"\"$\\!$*\n",
    "  濾波推定値 $\\hat{\\mathbf w}_{t/t}$\n",
    "  $$\\hat{\\mathbf w}_{t/t}=\\mathbf P_{t/t}\\left(\\mathbf P_{t/t-1}^{-1}\\hat{\\mathbf w}_{t/t-1}+(y_t-1/2)\\mathbf x_t\\right)$$\n",
    "  *$\\!$\"\"\"\n",
    "  return Ptt_ @ (jsl.cho_solve(jsl.cho_factor(Ptm), w) + (y - 1/2) * x)"
   ]
  },
  {
   "cell_type": "code",
   "execution_count": null,
   "id": "48384742",
   "metadata": {},
   "outputs": [
    {
     "data": {
      "text/markdown": [
       "---\n",
       "\n",
       "[source](https://github.com/SuzuSys/KalmanPaper/blob/main/KalmanPaper/EKF.py#L33){target=\"_blank\" style=\"float:right; font-size:smaller\"}\n",
       "\n",
       "### wtt\n",
       "\n",
       ">      wtt (Ptm:jaxtyping.Float[Array,'NN'], Ptt_:jaxtyping.Float[Array,'NN'],\n",
       ">           w:jaxtyping.Float[Array,'N'], x:jaxtyping.Float[Array,'N'],\n",
       ">           y:jaxtyping.Float[Array,''])\n",
       "\n",
       "*$\\!$*\n",
       "濾波推定値 $\\hat{\\mathbf w}_{t/t}$\n",
       "$$\\hat{\\mathbf w}_{t/t}=\\mathbf P_{t/t}\\left(\\mathbf P_{t/t-1}^{-1}\\hat{\\mathbf w}_{t/t-1}+(y_t-1/2)\\mathbf x_t\\right)$$\n",
       "*$\\!$*\n",
       "\n",
       "|$\\!$| **Type** | **Details** |\n",
       "| -- | -------- | ----------- |\n",
       "| Ptm | Float[Array, 'N N'] | $\\mathbf P_{t/t-1}$ |\n",
       "| Ptt_ | Float[Array, 'N N'] | $\\mathbf P_{t/t}$ |\n",
       "| w | Float[Array, 'N'] | $\\hat{\\mathbf w}_{t/t-1}$ |\n",
       "| x | Float[Array, 'N'] | $\\mathbf x_t$ |\n",
       "| y | Float[Array, ''] | $y_t$ |\n",
       "| **Returns** | **Float[Array, 'N']** | **$\\hat{\\mathbf w}_{t/t}$** |"
      ],
      "text/plain": [
       "<IPython.core.display.Markdown object>"
      ]
     },
     "execution_count": null,
     "metadata": {},
     "output_type": "execute_result"
    }
   ],
   "source": [
    "#| hide\n",
    "sp.reshow_doc(wtt)"
   ]
  },
  {
   "cell_type": "markdown",
   "id": "10c7090a",
   "metadata": {},
   "source": [
    "### `xit`: $(\\mathbf P_{t/t-1},\\hat{\\mathbf w}_{t/t-1})$ を使う変分パラメータ $\\xi_t$\n",
    "\n",
    "$$\\xi_t=\\sqrt{\\mathbf x_t^T\\left(\\mathbf P_{t/t-1}+\\hat{\\mathbf w}_{t/t-1}\\hat{\\mathbf w}_{t/t-1}^T\\right)\\mathbf x_t}$$"
   ]
  },
  {
   "cell_type": "code",
   "execution_count": null,
   "id": "4946fb36",
   "metadata": {},
   "outputs": [],
   "source": [
    "#| export\n",
    "@jax.jit\n",
    "def xit(\n",
    "    Cov: Float[Array, \"N N\"], # $\\boldsymbol\\Sigma$\n",
    "    w: Float[Array, \"N\"],   # $\\hat{\\mathbf w}$\n",
    "    x: Float[Array, \"N\"],   # $\\mathbf x_t$\n",
    ") -> Float[Array, \"\"]: # $\\xi_t$\n",
    "  r\"\"\"$\\!$*\n",
    "  変分パラメータ $\\xi_t$\n",
    "  $$\\xi_t=\\sqrt{\\mathbf x_t^T\\mathbb E[\\mathbf w\\mathbf w^T]\\mathbf x_t}=\\sqrt{\\mathbf x_t^T\\left(\\boldsymbol \\Sigma+\\hat{\\mathbf w}\\hat{\\mathbf w}^T\\right)\\mathbf x_t}$$\n",
    "  *$\\!$\"\"\"\n",
    "  return jnp.sqrt(x @ (Cov + jnp.outer(w,w)) @ x)"
   ]
  },
  {
   "cell_type": "code",
   "execution_count": null,
   "id": "4b06d8e5",
   "metadata": {},
   "outputs": [
    {
     "data": {
      "text/markdown": [
       "---\n",
       "\n",
       "[source](https://github.com/SuzuSys/KalmanPaper/blob/main/KalmanPaper/VA.py#L42){target=\"_blank\" style=\"float:right; font-size:smaller\"}\n",
       "\n",
       "### xit\n",
       "\n",
       ">      xit (Cov:jaxtyping.Float[Array,'NN'], w:jaxtyping.Float[Array,'N'],\n",
       ">           x:jaxtyping.Float[Array,'N'])\n",
       "\n",
       "*$\\!$*\n",
       "変分パラメータ $\\xi_t$\n",
       "$$\\xi_t=\\sqrt{\\mathbf x_t^T\\mathbb E[\\mathbf w\\mathbf w^T]\\mathbf x_t}=\\sqrt{\\mathbf x_t^T\\left(\\boldsymbol \\Sigma+\\hat{\\mathbf w}\\hat{\\mathbf w}^T\\right)\\mathbf x_t}$$\n",
       "*$\\!$*\n",
       "\n",
       "|$\\!$| **Type** | **Details** |\n",
       "| -- | -------- | ----------- |\n",
       "| Cov | Float[Array, 'N N'] | $\\boldsymbol\\Sigma$ |\n",
       "| w | Float[Array, 'N'] | $\\hat{\\mathbf w}$ |\n",
       "| x | Float[Array, 'N'] | $\\mathbf x_t$ |\n",
       "| **Returns** | **Float[Array, '']** | **$\\xi_t$** |"
      ],
      "text/plain": [
       "<IPython.core.display.Markdown object>"
      ]
     },
     "execution_count": null,
     "metadata": {},
     "output_type": "execute_result"
    }
   ],
   "source": [
    "#| hide\n",
    "sp.reshow_doc(xit)"
   ]
  },
  {
   "cell_type": "markdown",
   "id": "04179c57",
   "metadata": {},
   "source": [
    "### `VApre`: `xipre` を使う Variational Approximation\n",
    "\n",
    "$$N,T,\\{ \\mathbf x_t \\}_{t=0,\\ldots,T-1}, \\{ y_t \\}_{t=0,\\ldots,T-1}, \\boldsymbol\\Gamma, \\hat{\\mathbf w}_{0/-1}, \\mathbf P_{0/-1} $$\n",
    "$$\\to\\{\\hat{\\mathbf w}_{t/t}\\}_{t=0,\\ldots,T-1},\\{\\mathbf P_{t/t}\\}_{t=0,\\ldots,T-1},\\{\\xi_t\\}_{t=0,\\ldots,T-1}$$"
   ]
  },
  {
   "cell_type": "code",
   "execution_count": null,
   "id": "b33774dc",
   "metadata": {},
   "outputs": [],
   "source": [
    "#| export\n",
    "@partial(jax.jit, static_argnames=['N', 'T'])\n",
    "def VApre(\n",
    "    N: int, # $N$\n",
    "    T: int, # $T$\n",
    "    x: Float[Array, \"{T} {N}\"], # $\\{ \\mathbf x_t \\}_{t=0,\\ldots,T-1}$\n",
    "    y: Float[Array, \"{T} {N}\"], # $\\{ y_t \\}_{t=0,\\ldots,T-1}$\n",
    "    G: Float[Array, \"{N} {N}\"], # $\\boldsymbol\\Gamma$\n",
    "    w0: Float[Array, \"{N}\"], # $\\hat{\\mathbf w}_{0/-1}$\n",
    "    P0: Float[Array, \"{N} {N}\"], # $\\mathbf P_{0/-1}$\n",
    ") -> Tuple[Float[Array, \"{T} {N}\"], Float[Array, \"{T} {N} {N}\"], Float[Array, \"{T}\"]]: # $\\{\\hat{\\mathbf w}_{t/t}\\}_{t=0,\\ldots,T-1},\\{\\mathbf P_{t/t}\\}_{t=0,\\ldots,T-1},\\{\\xi_t\\}_{t=0,\\ldots,T-1}$\n",
    "    r\"\"\"$\\!$*\n",
    "    一段予測推定値 $\\hat{\\mathbf w}_{t/t-1}$ を使う変分近似法\n",
    "    $$\\xi_t=\\sqrt{\\mathbf x_t^T\\left(\\mathbf P_{t/t-1}+\\hat{\\mathbf w}_{t/t-1}\\hat{\\mathbf w}_{t/t-1}^T\\right)\\mathbf x_t}$$\n",
    "    *$\\!$\"\"\"\n",
    "    def step(carry, inputs):\n",
    "        Ptm, wtm = carry\n",
    "        xt, yt = inputs\n",
    "        xit_ = xit(Ptm, wtm, xt)\n",
    "        Ptt_ = Ptt(Ptm, xt, xit_)\n",
    "        wtt_ = wtt(Ptm, Ptt_, wtm, xt, yt)\n",
    "        return (Ptt_ + G, wtt_), (wtt_, Ptt_, xit_)\n",
    "    \n",
    "    _, (W, P, Xi) = lax.scan(\n",
    "        step,\n",
    "        (P0, w0),\n",
    "        (x, y),\n",
    "        length=T\n",
    "    )\n",
    "    return W, P, Xi"
   ]
  },
  {
   "cell_type": "code",
   "execution_count": null,
   "id": "143fbc36",
   "metadata": {},
   "outputs": [
    {
     "data": {
      "text/markdown": [
       "---\n",
       "\n",
       "[source](https://github.com/SuzuSys/KalmanPaper/blob/main/KalmanPaper/VA.py#L51){target=\"_blank\" style=\"float:right; font-size:smaller\"}\n",
       "\n",
       "### VApre\n",
       "\n",
       ">      VApre (N:int, T:int, x:jaxtyping.Float[Array,'{T}{N}'],\n",
       ">             y:jaxtyping.Float[Array,'{T}{N}'],\n",
       ">             G:jaxtyping.Float[Array,'{N}{N}'],\n",
       ">             w0:jaxtyping.Float[Array,'{N}'],\n",
       ">             P0:jaxtyping.Float[Array,'{N}{N}'])\n",
       "\n",
       "*$\\!$*\n",
       "一段予測推定値 $\\hat{\\mathbf w}_{t/t-1}$ を使う変分近似法\n",
       "$$\\xi_t=\\sqrt{\\mathbf x_t^T\\left(\\mathbf P_{t/t-1}+\\hat{\\mathbf w}_{t/t-1}\\hat{\\mathbf w}_{t/t-1}^T\\right)\\mathbf x_t}$$\n",
       "*$\\!$*\n",
       "\n",
       "|$\\!$| **Type** | **Details** |\n",
       "| -- | -------- | ----------- |\n",
       "| N | int | $N$ |\n",
       "| T | int | $T$ |\n",
       "| x | Float[Array, '{T} {N}'] | $\\{ \\mathbf x_t \\}_{t=0,\\ldots,T-1}$ |\n",
       "| y | Float[Array, '{T} {N}'] | $\\{ y_t \\}_{t=0,\\ldots,T-1}$ |\n",
       "| G | Float[Array, '{N} {N}'] | $\\boldsymbol\\Gamma$ |\n",
       "| w0 | Float[Array, '{N}'] | $\\hat{\\mathbf w}_{0/-1}$ |\n",
       "| P0 | Float[Array, '{N} {N}'] | $\\mathbf P_{0/-1}$ |\n",
       "| **Returns** | **Tuple** | **$\\{\\hat{\\mathbf w}_{t/t}\\}_{t=0,\\ldots,T-1},\\{\\mathbf P_{t/t}\\}_{t=0,\\ldots,T-1},\\{\\xi_t\\}_{t=0,\\ldots,T-1}$** |"
      ],
      "text/plain": [
       "<IPython.core.display.Markdown object>"
      ]
     },
     "execution_count": null,
     "metadata": {},
     "output_type": "execute_result"
    }
   ],
   "source": [
    "#| hide\n",
    "sp.reshow_doc(VApre)"
   ]
  },
  {
   "cell_type": "code",
   "execution_count": null,
   "id": "47122013",
   "metadata": {},
   "outputs": [],
   "source": [
    "#| export\n",
    "@partial(jax.jit, static_argnames=['N', 'T'])\n",
    "def VAEM(\n",
    "    N: int, # $N$\n",
    "    T: int, # $T$\n",
    "    x: Float[Array, \"{T} {N}\"], # $\\{ \\mathbf x_t \\}_{t=0,\\ldots,T-1}$\n",
    "    y: Float[Array, \"{T} {N}\"], # $\\{ y_t \\}_{t=0,\\ldots,T-1}$\n",
    "    G: Float[Array, \"{N} {N}\"], # $\\boldsymbol\\Gamma$\n",
    "    w0: Float[Array, \"{N}\"], # $\\hat{\\mathbf w}_{0/-1}$\n",
    "    P0: Float[Array, \"{N} {N}\"], # $\\mathbf P_{0/-1}$\n",
    "    epsilon: Float, # $\\epsilon\\ge |\\xi\\\\^{\\text{new}}_t-\\xi\\\\^{\\text{old}}_t|$\n",
    "    max_iter: int = 100, # $繰り返し回数の上限$\n",
    ") -> Tuple[Float[Array, \"{T} {N}\"], Float[Array, \"{T} {N} {N}\"], Float[Array, \"{T}\"]]: # $\\{\\hat{\\mathbf w}_{t/t}\\}_{t=0,\\ldots,T-1},\\{\\mathbf P_{t/t}\\}_{t=0,\\ldots,T-1},\\{\\xi_t\\}_{t=0,\\ldots,T-1}$\n",
    "    r\"\"\"$\\!$*\n",
    "    濾波推定値 $\\hat{\\mathbf w}_{t/t}$ を使う変分近似法。EMアルゴリズムを使う。\n",
    "    $$\\xi_t=\\sqrt{\\mathbf x_t^T\\left(\\mathbf P_{t/t}+\\hat{\\mathbf w}_{t/t}\\hat{\\mathbf w}_{t/t}^T\\right)\\mathbf x_t}$$\n",
    "    *$\\!$\"\"\"\n",
    "    def inner_iter(state):\n",
    "        xit_pr, xit_af, Ptt_, wtt_, Ptm, wtm, xt, yt, i = state\n",
    "        xit_pr = xit_af\n",
    "        xit_af = xit(Ptt_, wtt_, xt)\n",
    "        Ptt_new = Ptt(Ptm, xt, xit_af)\n",
    "        wtt_new = wtt(Ptm, Ptt_new, wtm, xt, yt)\n",
    "        return (xit_pr, xit_af, Ptt_new, wtt_new, Ptm, wtm, xt, yt, i+1)\n",
    "\n",
    "    def cond_fun(state):\n",
    "        xit_pr, xit_af, *_, i = state\n",
    "        return jnp.logical_and(\n",
    "            jnp.abs(xit_pr - xit_af) >= epsilon,\n",
    "            i < max_iter\n",
    "        )\n",
    "\n",
    "    def step(carry, inputs):\n",
    "        Ptm, wtm = carry\n",
    "        xt, yt = inputs\n",
    "        xit_pr = xit(Ptm, wtm, xt)\n",
    "        Ptt_ = Ptt(Ptm, xt, xit_pr)\n",
    "        wtt_ = wtt(Ptm, Ptt_, wtm, xt, yt)\n",
    "        xit_af = xit(Ptt_, wtt_, xt)\n",
    "\n",
    "        init_state = (xit_pr, xit_af, Ptt_, wtt_, Ptm, wtm, xt, yt, 0)\n",
    "        _, xit_final, Ptt_final, wtt_final, *_ = lax.while_loop(cond_fun, inner_iter, init_state)\n",
    "\n",
    "        return (Ptt_final + G, wtt_final), (wtt_final, Ptt_final, xit_final)\n",
    "\n",
    "    _, (W, P, Xi) = lax.scan(step, (P0, w0), (x, y), length=T)\n",
    "    return W, P, Xi"
   ]
  },
  {
   "cell_type": "code",
   "execution_count": null,
   "id": "cb64869f",
   "metadata": {},
   "outputs": [
    {
     "data": {
      "text/markdown": [
       "---\n",
       "\n",
       "[source](https://github.com/SuzuSys/KalmanPaper/blob/main/KalmanPaper/VA.py#L78){target=\"_blank\" style=\"float:right; font-size:smaller\"}\n",
       "\n",
       "### VAEM\n",
       "\n",
       ">      VAEM (N:int, T:int, x:jaxtyping.Float[Array,'{T}{N}'],\n",
       ">            y:jaxtyping.Float[Array,'{T}{N}'],\n",
       ">            G:jaxtyping.Float[Array,'{N}{N}'], w0:jaxtyping.Float[Array,'{N}'],\n",
       ">            P0:jaxtyping.Float[Array,'{N}{N}'], epsilon:jaxtyping.Float,\n",
       ">            max_iter:int=100)\n",
       "\n",
       "*$\\!$*\n",
       "濾波推定値 $\\hat{\\mathbf w}_{t/t}$ を使う変分近似法。EMアルゴリズムを使う。\n",
       "$$\\xi_t=\\sqrt{\\mathbf x_t^T\\left(\\mathbf P_{t/t}+\\hat{\\mathbf w}_{t/t}\\hat{\\mathbf w}_{t/t}^T\\right)\\mathbf x_t}$$\n",
       "*$\\!$*\n",
       "\n",
       "|$\\!$| **Type** | **Default** | **Details** |\n",
       "| -- | -------- | ----------- | ----------- |\n",
       "| N | int |$\\!$| $N$ |\n",
       "| T | int |$\\!$| $T$ |\n",
       "| x | Float[Array, '{T} {N}'] |$\\!$| $\\{ \\mathbf x_t \\}_{t=0,\\ldots,T-1}$ |\n",
       "| y | Float[Array, '{T} {N}'] |$\\!$| $\\{ y_t \\}_{t=0,\\ldots,T-1}$ |\n",
       "| G | Float[Array, '{N} {N}'] |$\\!$| $\\boldsymbol\\Gamma$ |\n",
       "| w0 | Float[Array, '{N}'] |$\\!$| $\\hat{\\mathbf w}_{0/-1}$ |\n",
       "| P0 | Float[Array, '{N} {N}'] |$\\!$| $\\mathbf P_{0/-1}$ |\n",
       "| epsilon | Float |$\\!$| $\\epsilon\\ge \\|\\xi\\\\^{\\text{new}}_t-\\xi\\\\^{\\text{old}}_t\\|$ |\n",
       "| max_iter | int | 100 | $繰り返し回数の上限$ |\n",
       "| **Returns** | **Tuple** |$\\!$| **$\\{\\hat{\\mathbf w}_{t/t}\\}_{t=0,\\ldots,T-1},\\{\\mathbf P_{t/t}\\}_{t=0,\\ldots,T-1},\\{\\xi_t\\}_{t=0,\\ldots,T-1}$** |"
      ],
      "text/plain": [
       "<IPython.core.display.Markdown object>"
      ]
     },
     "execution_count": null,
     "metadata": {},
     "output_type": "execute_result"
    }
   ],
   "source": [
    "#| hide\n",
    "sp.reshow_doc(VAEM)"
   ]
  },
  {
   "cell_type": "code",
   "execution_count": null,
   "id": "905cd60b",
   "metadata": {},
   "outputs": [],
   "source": [
    "#| hide\n",
    "import nbdev; nbdev.nbdev_export()"
   ]
  }
 ],
 "metadata": {
  "kernelspec": {
   "display_name": "python3",
   "language": "python",
   "name": "python3"
  }
 },
 "nbformat": 4,
 "nbformat_minor": 5
}
