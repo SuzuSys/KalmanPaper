{
 "cells": [
  {
   "cell_type": "code",
   "execution_count": 9,
   "id": "2a90d547",
   "metadata": {},
   "outputs": [
    {
     "name": "stdout",
     "output_type": "stream",
     "text": [
      "The autoreload extension is already loaded. To reload it, use:\n",
      "  %reload_ext autoreload\n"
     ]
    }
   ],
   "source": [
    "#| hide\n",
    "%load_ext autoreload\n",
    "%autoreload 2"
   ]
  },
  {
   "cell_type": "markdown",
   "id": "05ae5c0b",
   "metadata": {},
   "source": [
    "# Variational Approximation\n",
    "\n",
    "> "
   ]
  },
  {
   "cell_type": "code",
   "execution_count": 10,
   "id": "de29376b",
   "metadata": {},
   "outputs": [],
   "source": [
    "#| default_exp VA"
   ]
  },
  {
   "cell_type": "code",
   "execution_count": 11,
   "id": "7e037dee",
   "metadata": {},
   "outputs": [],
   "source": [
    "#| hide\n",
    "#| export\n",
    "import jax.numpy as jnp\n",
    "import jax.lax as lax\n",
    "import jax.scipy.linalg as jsl\n",
    "from jaxtyping import Array, Float, Int\n",
    "from KalmanPaper import simple as sp\n",
    "from typing import Tuple"
   ]
  },
  {
   "cell_type": "markdown",
   "id": "a0958fba",
   "metadata": {},
   "source": [
    "### `Ptt`: 推定誤差共分散行列 $\\mathbf P_{t/t}$\n",
    "\n",
    "$$\\mathbf P_{t/t}=\\mathbf P_{t/t-1}-\\frac{\\{2\\lambda(\\xi_t)\\}^2}{1+\\{2\\lambda(\\xi_t)\\}^2\\mathbf x_t^T\\mathbf P_{t/t-1}\\mathbf x_t}\\left(\\mathbf P_{t/t-1}\\mathbf x_t\\right)\\left(\\mathbf P_{t/t-1}\\mathbf x_t\\right)^T$$"
   ]
  },
  {
   "cell_type": "code",
   "execution_count": 12,
   "id": "4980cbee",
   "metadata": {},
   "outputs": [],
   "source": [
    "#| export\n",
    "def Ptt(\n",
    "    Ptm:  Float[Array, \"N N\"], # $\\mathbf P_{t/t-1}$\n",
    "    x:    Float[Array, \"N\"], # $\\mathbf x_t$\n",
    "    xi:   Float[Array, \"\"], # $\\xi_t$\n",
    ") -> Float[Array, \"N N\"]: # $\\mathbf P_{t/t}$\n",
    "  dsigma = (2*sp.lam(xi))**2\n",
    "  Ptmx = Ptm @ x\n",
    "  return Ptm - (dsigma / (1 + dsigma * (x @ Ptmx))) * jnp.outer(Ptmx, Ptmx)"
   ]
  },
  {
   "cell_type": "markdown",
   "id": "43d0f346",
   "metadata": {},
   "source": [
    "### `wtt`: 濾波推定値 $\\hat{\\mathbf w}_{t/t}$\n",
    "\n",
    "$$\\hat{\\mathbf w}_{t/t}=\\mathbf P_{t/t}\\left(\\mathbf P_{t/t-1}^{-1}\\hat{\\mathbf w}_{t/t-1}+(y_t-1/2)\\mathbf x_t\\right)$$"
   ]
  },
  {
   "cell_type": "code",
   "execution_count": 13,
   "id": "6a5f8d85",
   "metadata": {},
   "outputs": [],
   "source": [
    "#| export\n",
    "def wtt(\n",
    "    Ptm: Float[Array, \"N N\"],  # $\\mathbf P_{t/t-1}$\n",
    "    Ptt_: Float[Array, \"N N\"], # $\\mathbf P_{t/t}$\n",
    "    w: Float[Array, \"N\"],      # $\\hat{\\mathbf w}_{t/t-1}$\n",
    "    x: Float[Array, \"N\"],      # $\\mathbf x_t$\n",
    "    y: Float[Array, \"N\"],      # $y_t$\n",
    ") -> Float[Array, \"N\"]:        # $\\hat{\\mathbf w}_{t/t}$\n",
    "  return Ptt_ @ (jsl.cho_solve(jsl.cho_factor(Ptm), w) + (y - 1/2) * x)"
   ]
  },
  {
   "cell_type": "markdown",
   "id": "10c7090a",
   "metadata": {},
   "source": [
    "### `xipre`: $(\\mathbf P_{t/t-1},\\hat{\\mathbf w}_{t/t-1})$ を使う変分パラメータ $\\xi_t$\n",
    "\n",
    "$$\\xi_t=\\sqrt{\\mathbf x_t^T\\left(\\mathbf P_{t/t-1}+\\hat{\\mathbf w}_{t/t-1}\\hat{\\mathbf w}_{t/t-1}^T\\right)\\mathbf x_t}$$"
   ]
  },
  {
   "cell_type": "code",
   "execution_count": 14,
   "id": "4946fb36",
   "metadata": {},
   "outputs": [],
   "source": [
    "#| export\n",
    "def xipre(\n",
    "    Ptm: Float[Array, \"N N\"], # $\\mathbf P_{t/t-1}$\n",
    "    w: Float[Array, \"N\"],   # $\\hat{\\mathbf w}_{t/t-1}$\n",
    "    x: Float[Array, \"N\"],   # $\\mathbf x_t$\n",
    ") -> Float[Array, \"\"]: # $\\xi_t$\n",
    "  return jnp.sqrt(x @ (Ptm + jnp.outer(w,w)) @ x)"
   ]
  },
  {
   "cell_type": "markdown",
   "id": "04179c57",
   "metadata": {},
   "source": [
    "### `VApre`: `xipre` を使う Variational Approximation\n",
    "\n",
    "$$N,T,\\{ \\mathbf x_t \\}_{t=0,\\ldots,T-1}, \\{ y_t \\}_{t=0,\\ldots,T-1}, \\boldsymbol\\Gamma, \\hat{\\mathbf w}_{0/-1}, \\mathbf P_{0/-1} $$\n",
    "$$\\to\\{\\hat{\\mathbf w}_{t/t}\\}_{t=0,\\ldots,T-1},\\{\\mathbf P_{t/t}\\}_{t=0,\\ldots,T-1},\\{\\xi_t\\}_{t=0,\\ldots,T-1}$$"
   ]
  },
  {
   "cell_type": "code",
   "execution_count": 15,
   "id": "b33774dc",
   "metadata": {},
   "outputs": [],
   "source": [
    "#| export\n",
    "def VApre(\n",
    "    N: Int, # $N$\n",
    "    T: Int, # $T$\n",
    "    x: Float[Array, \"{T} {N}\"], # $\\{ \\mathbf x_t \\}_{t=0,\\ldots,T-1}$\n",
    "    y: Float[Array, \"{T} {N}\"], # $\\{ y_t \\}_{t=0,\\ldots,T-1}$\n",
    "    G: Float[Array, \"{N} {N}\"], # $\\boldsymbol\\Gamma$\n",
    "    w0: Float[Array, \"{N}\"], # $\\hat{\\mathbf w}_{0/-1}$\n",
    "    P0: Float[Array, \"{N} {N}\"], # $\\mathbf P_{0/-1}$\n",
    ") -> Tuple[Float[Array, \"{T} {N}\"], Float[Array, \"{T} {N} {N}\"], Float[Array, \"{T}\"]]: # $\\{\\hat{\\mathbf w}_{t/t}\\}_{t=0,\\ldots,T-1},\\{\\mathbf P_{t/t}\\}_{t=0,\\ldots,T-1},\\{\\xi_t\\}_{t=0,\\ldots,T-1}$\n",
    "    def step(carry, inputs):\n",
    "        Ptm, wtm = carry\n",
    "        xt, yt = inputs\n",
    "        xit = xipre(Ptm, wtm, x)\n",
    "        Ptt_ = Ptt(Ptm, xt, xit)\n",
    "        wtt_ = wtt(Ptm, Ptt_, wtm, xt, yt)\n",
    "        return (Ptt_ + G, wtt_), (wtt_, Ptt_, xit)\n",
    "    \n",
    "    _, (W, P, Xi) = lax.scan(\n",
    "        step,\n",
    "        (P0, w0),\n",
    "        (x, y),\n",
    "        length=T\n",
    "    )\n",
    "    return W, P, Xi"
   ]
  },
  {
   "cell_type": "code",
   "execution_count": 16,
   "id": "905cd60b",
   "metadata": {},
   "outputs": [],
   "source": [
    "#| hide\n",
    "import nbdev; nbdev.nbdev_export()"
   ]
  }
 ],
 "metadata": {
  "kernelspec": {
   "display_name": "venv (3.11.0)",
   "language": "python",
   "name": "python3"
  },
  "language_info": {
   "codemirror_mode": {
    "name": "ipython",
    "version": 3
   },
   "file_extension": ".py",
   "mimetype": "text/x-python",
   "name": "python",
   "nbconvert_exporter": "python",
   "pygments_lexer": "ipython3",
   "version": "3.11.0"
  }
 },
 "nbformat": 4,
 "nbformat_minor": 5
}
