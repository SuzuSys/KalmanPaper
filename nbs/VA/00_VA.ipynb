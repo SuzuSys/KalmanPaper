{
 "cells": [
  {
   "cell_type": "code",
   "execution_count": null,
   "id": "2a90d547",
   "metadata": {},
   "outputs": [],
   "source": [
    "#| hide\n",
    "%load_ext autoreload\n",
    "%autoreload 2"
   ]
  },
  {
   "cell_type": "markdown",
   "id": "05ae5c0b",
   "metadata": {},
   "source": [
    "# Variational Approximation\n",
    "\n",
    "> 変分近似"
   ]
  },
  {
   "cell_type": "code",
   "execution_count": null,
   "id": "de29376b",
   "metadata": {},
   "outputs": [],
   "source": [
    "#| default_exp VA"
   ]
  },
  {
   "cell_type": "code",
   "execution_count": null,
   "id": "7e037dee",
   "metadata": {},
   "outputs": [],
   "source": [
    "#| hide\n",
    "#| exporti\n",
    "import jax.numpy as jnp\n",
    "import jax.lax as lax\n",
    "import jax.scipy.linalg as jsl\n",
    "import jax\n",
    "from jaxtyping import Array, Float, Int\n",
    "from KalmanPaper import simple as sp\n",
    "from typing import Tuple, NamedTuple\n",
    "from functools import partial"
   ]
  },
  {
   "cell_type": "code",
   "execution_count": null,
   "id": "cf0c1ed8",
   "metadata": {},
   "outputs": [],
   "source": [
    "#| export\n",
    "def lam(\n",
    "    x: Float[Array, \"\"] # $x$\n",
    ") -> Float[Array, \"\"]: # $\\lambda(x)$\n",
    "  r\"\"\"$\\!$*\n",
    "  Lambda 関数\n",
    "  $$\\lambda(x)=\\frac{1}{2x}\\left[\\sigma(x)-\\frac{1}{2}\\right]$$\n",
    "  *$\\!$\"\"\"\n",
    "  return (sp.losi(x) - 0.5)/(2*x)"
   ]
  },
  {
   "cell_type": "code",
   "execution_count": null,
   "id": "b6154d1f",
   "metadata": {},
   "outputs": [
    {
     "data": {
      "text/markdown": [
       "---\n",
       "\n",
       "[source](https://github.com/SuzuSys/KalmanPaper/blob/main/KalmanPaper/VA.py#L19){target=\"_blank\" style=\"float:right; font-size:smaller\"}\n",
       "\n",
       "### lam\n",
       "\n",
       ">      lam (x:jaxtyping.Float[Array,''])\n",
       "\n",
       "*$\\!$*\n",
       "Lambda 関数\n",
       "$$\\lambda(x)=\\frac{1}{2x}\\left[\\sigma(x)-\\frac{1}{2}\\right]$$\n",
       "*$\\!$*\n",
       "\n",
       "|$\\!$| **Type** | **Details** |\n",
       "| -- | -------- | ----------- |\n",
       "| x | Float[Array, ''] | $x$ |\n",
       "| **Returns** | **Float[Array, '']** | **$\\lambda(x)$** |"
      ],
      "text/plain": [
       "<IPython.core.display.Markdown object>"
      ]
     },
     "execution_count": null,
     "metadata": {},
     "output_type": "execute_result"
    }
   ],
   "source": [
    "#| hide\n",
    "sp.reshow_doc(lam)"
   ]
  },
  {
   "cell_type": "code",
   "execution_count": null,
   "id": "4980cbee",
   "metadata": {},
   "outputs": [],
   "source": [
    "#| export\n",
    "@jax.jit\n",
    "def Ptt(\n",
    "    Ptm:  Float[Array, \"N N\"], # $\\mathbf P_{t/t-1}$\n",
    "    x:    Float[Array, \"N\"], # $\\mathbf x_t$\n",
    "    xi:   Float[Array, \"\"], # $\\xi_t$\n",
    ") -> Float[Array, \"N N\"]: # $\\mathbf P_{t/t}$\n",
    "  r\"\"\"$\\!$*\n",
    "  推定誤差共分散行列 $\\mathbf P_{t/t}$ \n",
    "\n",
    "  $$\\mathbf P_{t/t}=\\mathbf P_{t/t-1}-\\frac{2\\lambda(\\xi_t)}{1+2\\lambda(\\xi_t)\\mathbf x_t^T\\mathbf P_{t/t-1}\\mathbf x_t}\\left(\\mathbf P_{t/t-1}\\mathbf x_t\\right)\\left(\\mathbf P_{t/t-1}\\mathbf x_t\\right)^T $$\n",
    "\n",
    "  $$\\mathbf P_{t/t}^{-1}=\\mathbf P_{t/t-1}^{-1}+2\\lambda(\\xi_t)\\mathbf x_t\\mathbf x_t^T$$\n",
    "  *$\\!$\"\"\"\n",
    "  dsigma = 2*lam(xi)\n",
    "  Ptmx = Ptm @ x\n",
    "  return Ptm - (dsigma / (1 + dsigma * (x @ Ptmx))) * jnp.outer(Ptmx, Ptmx)"
   ]
  },
  {
   "cell_type": "code",
   "execution_count": null,
   "id": "fe8873b9",
   "metadata": {},
   "outputs": [
    {
     "data": {
      "text/markdown": [
       "---\n",
       "\n",
       "[source](https://github.com/SuzuSys/KalmanPaper/blob/main/KalmanPaper/EKF.py#L19){target=\"_blank\" style=\"float:right; font-size:smaller\"}\n",
       "\n",
       "### Ptt\n",
       "\n",
       ">      Ptt (Ptm:jaxtyping.Float[Array,'NN'], x:jaxtyping.Float[Array,'N'],\n",
       ">           xi:jaxtyping.Float[Array,''])\n",
       "\n",
       "*$\\!$*\n",
       "推定誤差共分散行列 $\\mathbf P_{t/t}$ \n",
       "\n",
       "$$\\mathbf P_{t/t}=\\mathbf P_{t/t-1}-\\frac{2\\lambda(\\xi_t)}{1+2\\lambda(\\xi_t)\\mathbf x_t^T\\mathbf P_{t/t-1}\\mathbf x_t}\\left(\\mathbf P_{t/t-1}\\mathbf x_t\\right)\\left(\\mathbf P_{t/t-1}\\mathbf x_t\\right)^T $$\n",
       "\n",
       "$$\\mathbf P_{t/t}^{-1}=\\mathbf P_{t/t-1}^{-1}+2\\lambda(\\xi_t)\\mathbf x_t\\mathbf x_t^T$$\n",
       "*$\\!$*\n",
       "\n",
       "|$\\!$| **Type** | **Details** |\n",
       "| -- | -------- | ----------- |\n",
       "| Ptm | Float[Array, 'N N'] | $\\mathbf P_{t/t-1}$ |\n",
       "| x | Float[Array, 'N'] | $\\mathbf x_t$ |\n",
       "| xi | Float[Array, ''] | $\\xi_t$ |\n",
       "| **Returns** | **Float[Array, 'N N']** | **$\\mathbf P_{t/t}$** |"
      ],
      "text/plain": [
       "<IPython.core.display.Markdown object>"
      ]
     },
     "execution_count": null,
     "metadata": {},
     "output_type": "execute_result"
    }
   ],
   "source": [
    "#| hide\n",
    "sp.reshow_doc(Ptt)"
   ]
  },
  {
   "cell_type": "code",
   "execution_count": null,
   "id": "6a5f8d85",
   "metadata": {},
   "outputs": [],
   "source": [
    "#| export\n",
    "@jax.jit\n",
    "def wtt(\n",
    "    Ptm: Float[Array, \"N N\"],  # $\\mathbf P_{t/t-1}$\n",
    "    Ptt_: Float[Array, \"N N\"], # $\\mathbf P_{t/t}$\n",
    "    w: Float[Array, \"N\"],      # $\\hat{\\mathbf w}_{t/t-1}$\n",
    "    x: Float[Array, \"N\"],      # $\\mathbf x_t$\n",
    "    y: Float[Array, \"\"],      # $y_t$\n",
    ") -> Float[Array, \"N\"]:        # $\\hat{\\mathbf w}_{t/t}$\n",
    "  r\"\"\"$\\!$*\n",
    "  濾波推定値 $\\hat{\\mathbf w}_{t/t}$\n",
    "  $$\\hat{\\mathbf w}_{t/t}=\\mathbf P_{t/t}\\left(\\mathbf P_{t/t-1}^{-1}\\hat{\\mathbf w}_{t/t-1}+(y_t-1/2)\\mathbf x_t\\right)$$\n",
    "  *$\\!$\"\"\"\n",
    "  return Ptt_ @ (jsl.cho_solve(jsl.cho_factor(Ptm), w) + (y - 1/2) * x)"
   ]
  },
  {
   "cell_type": "code",
   "execution_count": null,
   "id": "48384742",
   "metadata": {},
   "outputs": [
    {
     "data": {
      "text/markdown": [
       "---\n",
       "\n",
       "[source](https://github.com/SuzuSys/KalmanPaper/blob/main/KalmanPaper/EKF.py#L35){target=\"_blank\" style=\"float:right; font-size:smaller\"}\n",
       "\n",
       "### wtt\n",
       "\n",
       ">      wtt (Ptm:jaxtyping.Float[Array,'NN'], Ptt_:jaxtyping.Float[Array,'NN'],\n",
       ">           w:jaxtyping.Float[Array,'N'], x:jaxtyping.Float[Array,'N'],\n",
       ">           y:jaxtyping.Float[Array,''])\n",
       "\n",
       "*$\\!$*\n",
       "濾波推定値 $\\hat{\\mathbf w}_{t/t}$\n",
       "$$\\hat{\\mathbf w}_{t/t}=\\mathbf P_{t/t}\\left(\\mathbf P_{t/t-1}^{-1}\\hat{\\mathbf w}_{t/t-1}+(y_t-1/2)\\mathbf x_t\\right)$$\n",
       "*$\\!$*\n",
       "\n",
       "|$\\!$| **Type** | **Details** |\n",
       "| -- | -------- | ----------- |\n",
       "| Ptm | Float[Array, 'N N'] | $\\mathbf P_{t/t-1}$ |\n",
       "| Ptt_ | Float[Array, 'N N'] | $\\mathbf P_{t/t}$ |\n",
       "| w | Float[Array, 'N'] | $\\hat{\\mathbf w}_{t/t-1}$ |\n",
       "| x | Float[Array, 'N'] | $\\mathbf x_t$ |\n",
       "| y | Float[Array, ''] | $y_t$ |\n",
       "| **Returns** | **Float[Array, 'N']** | **$\\hat{\\mathbf w}_{t/t}$** |"
      ],
      "text/plain": [
       "<IPython.core.display.Markdown object>"
      ]
     },
     "execution_count": null,
     "metadata": {},
     "output_type": "execute_result"
    }
   ],
   "source": [
    "#| hide\n",
    "sp.reshow_doc(wtt)"
   ]
  },
  {
   "cell_type": "code",
   "execution_count": null,
   "id": "4946fb36",
   "metadata": {},
   "outputs": [],
   "source": [
    "#| export\n",
    "@jax.jit\n",
    "def xit(\n",
    "    Cov: Float[Array, \"N N\"], # $\\boldsymbol\\Sigma$\n",
    "    w: Float[Array, \"N\"],   # $\\hat{\\mathbf w}$\n",
    "    x: Float[Array, \"N\"],   # $\\mathbf x_t$\n",
    ") -> Float[Array, \"\"]: # $\\xi_t$\n",
    "  r\"\"\"$\\!$*\n",
    "  変分パラメータ $\\xi_t$\n",
    "  $$\\xi_t=\\sqrt{\\mathbf x_t^T\\mathbb E[\\mathbf w\\mathbf w^T]\\mathbf x_t}=\\sqrt{\\mathbf x_t^T\\left(\\boldsymbol \\Sigma+\\hat{\\mathbf w}\\hat{\\mathbf w}^T\\right)\\mathbf x_t}$$\n",
    "  *$\\!$\"\"\"\n",
    "  return jnp.sqrt(x @ (Cov + jnp.outer(w,w)) @ x)"
   ]
  },
  {
   "cell_type": "code",
   "execution_count": null,
   "id": "4b06d8e5",
   "metadata": {},
   "outputs": [
    {
     "data": {
      "text/markdown": [
       "---\n",
       "\n",
       "[source](https://github.com/SuzuSys/KalmanPaper/blob/main/KalmanPaper/VA.py#L63){target=\"_blank\" style=\"float:right; font-size:smaller\"}\n",
       "\n",
       "### xit\n",
       "\n",
       ">      xit (Cov:jaxtyping.Float[Array,'NN'], w:jaxtyping.Float[Array,'N'],\n",
       ">           x:jaxtyping.Float[Array,'N'])\n",
       "\n",
       "*$\\!$*\n",
       "変分パラメータ $\\xi_t$\n",
       "$$\\xi_t=\\sqrt{\\mathbf x_t^T\\mathbb E[\\mathbf w\\mathbf w^T]\\mathbf x_t}=\\sqrt{\\mathbf x_t^T\\left(\\boldsymbol \\Sigma+\\hat{\\mathbf w}\\hat{\\mathbf w}^T\\right)\\mathbf x_t}$$\n",
       "*$\\!$*\n",
       "\n",
       "|$\\!$| **Type** | **Details** |\n",
       "| -- | -------- | ----------- |\n",
       "| Cov | Float[Array, 'N N'] | $\\boldsymbol\\Sigma$ |\n",
       "| w | Float[Array, 'N'] | $\\hat{\\mathbf w}$ |\n",
       "| x | Float[Array, 'N'] | $\\mathbf x_t$ |\n",
       "| **Returns** | **Float[Array, '']** | **$\\xi_t$** |"
      ],
      "text/plain": [
       "<IPython.core.display.Markdown object>"
      ]
     },
     "execution_count": null,
     "metadata": {},
     "output_type": "execute_result"
    }
   ],
   "source": [
    "#| hide\n",
    "sp.reshow_doc(xit)"
   ]
  },
  {
   "cell_type": "code",
   "execution_count": null,
   "id": "9176e64b",
   "metadata": {},
   "outputs": [],
   "source": [
    "#| export\n",
    "class VApre_out(NamedTuple):\n",
    "  r\"\"\"$\\!$*\n",
    "  `VApre` 関数の返り値\n",
    "\n",
    "  table\n",
    "  W: $\\{\\hat{\\mathbf w}_{t/t}\\}_{t=0,\\ldots,T-1}$\n",
    "  P: $\\{\\mathbf P_{t/t}\\}_{t=0,\\ldots,T-1}$\n",
    "  Xi: $\\{\\xi_t\\}_{t=0,\\ldots,T-1}$\n",
    "\n",
    "  *$\\!$\"\"\"\n",
    "  W: Float[Array, \"T N\"]\n",
    "  P: Float[Array, \"T N N\"]\n",
    "  Xi: Float[Array, \"T\"]\n",
    "\n",
    "sp.rewrite_nt(VApre_out)"
   ]
  },
  {
   "cell_type": "code",
   "execution_count": null,
   "id": "2082a930",
   "metadata": {},
   "outputs": [
    {
     "data": {
      "text/markdown": [
       "---\n",
       "\n",
       "[source](https://github.com/SuzuSys/KalmanPaper/blob/main/KalmanPaper/VA.py#L75){target=\"_blank\" style=\"float:right; font-size:smaller\"}\n",
       "\n",
       "### VApre_out\n",
       "\n",
       ">      VApre_out (W:jaxtyping.Float[Array,'TN'], P:jaxtyping.Float[Array,'TNN'],\n",
       ">                 Xi:jaxtyping.Float[Array,'T'])\n",
       "\n",
       "*$\\!$*\n",
       "  `VApre` 関数の返り値\n",
       "\n",
       "  | $\\!$ | Type | Details |\n",
       "|--|--|--|\n",
       "  | W | Float[Array, 'T N'] | $\\{\\hat{\\mathbf w}_{t/t}\\}_{t=0,\\ldots,T-1}$\n",
       "  | P | Float[Array, 'T N N'] | $\\{\\mathbf P_{t/t}\\}_{t=0,\\ldots,T-1}$\n",
       "  | Xi | Float[Array, 'T'] | $\\{\\xi_t\\}_{t=0,\\ldots,T-1}$\n",
       "\n",
       "  *$\\!$*"
      ],
      "text/plain": [
       "<IPython.core.display.Markdown object>"
      ]
     },
     "execution_count": null,
     "metadata": {},
     "output_type": "execute_result"
    }
   ],
   "source": [
    "#| hide\n",
    "sp.reshow_doc(VApre_out)"
   ]
  },
  {
   "cell_type": "code",
   "execution_count": null,
   "id": "b33774dc",
   "metadata": {},
   "outputs": [],
   "source": [
    "#| export\n",
    "@partial(jax.jit, static_argnames=['N', 'T'])\n",
    "def VApre(\n",
    "    N: int, # $N$\n",
    "    T: int, # $T$\n",
    "    x: Float[Array, \"{T} {N}\"], # $\\{ \\mathbf x_t \\}_{t=0,\\ldots,T-1}$\n",
    "    y: Float[Array, \"{T}\"], # $\\{ y_t \\}_{t=0,\\ldots,T-1}$\n",
    "    G: Float[Array, \"{N} {N}\"], # $\\boldsymbol\\Gamma$\n",
    "    w0: Float[Array, \"{N}\"], # $\\hat{\\mathbf w}_{0/-1}$\n",
    "    P0: Float[Array, \"{N} {N}\"], # $\\mathbf P_{0/-1}$\n",
    ") -> VApre_out:\n",
    "    r\"\"\"$\\!$*\n",
    "    一段予測推定値 $\\hat{\\mathbf w}_{t/t-1}$ を使う変分近似法\n",
    "    $$\\xi_t=\\sqrt{\\mathbf x_t^T\\left(\\mathbf P_{t/t-1}+\\hat{\\mathbf w}_{t/t-1}\\hat{\\mathbf w}_{t/t-1}^T\\right)\\mathbf x_t}$$\n",
    "    *$\\!$\"\"\"\n",
    "    class Carry(NamedTuple):\n",
    "        Ptm: Float[Array, \"{N} {N}\"]\n",
    "        wtm: Float[Array, \"{N}\"]\n",
    "    \n",
    "    class Input(NamedTuple):\n",
    "        xt: Float[Array, \"{N}\"]\n",
    "        yt: Float[Array, \"\"]\n",
    "\n",
    "    class Output(NamedTuple):\n",
    "        wtt_: Float[Array, \"{N}\"]\n",
    "        Ptt_: Float[Array, \"{N} {N}\"]\n",
    "        xit_: Float[Array, \"\"]\n",
    "\n",
    "    def step(carry: Carry, inputs: Input) -> Tuple[Carry, Output]:\n",
    "        Ptm, wtm = carry\n",
    "        xt, yt = inputs\n",
    "        xit_ = xit(Ptm, wtm, xt)\n",
    "        Ptt_ = Ptt(Ptm, xt, xit_)\n",
    "        wtt_ = wtt(Ptm, Ptt_, wtm, xt, yt)\n",
    "        return Carry(Ptt_ + G, wtt_), Output(wtt_, Ptt_, xit_)\n",
    "    \n",
    "    _, (W, P, Xi) = lax.scan(\n",
    "        step,\n",
    "        Carry(P0, w0),\n",
    "        Input(x, y),\n",
    "        length=T\n",
    "    )\n",
    "    return VApre_out(W, P, Xi)"
   ]
  },
  {
   "cell_type": "code",
   "execution_count": null,
   "id": "143fbc36",
   "metadata": {},
   "outputs": [
    {
     "data": {
      "text/markdown": [
       "---\n",
       "\n",
       "[source](https://github.com/SuzuSys/KalmanPaper/blob/main/KalmanPaper/VA.py#L93){target=\"_blank\" style=\"float:right; font-size:smaller\"}\n",
       "\n",
       "### VApre\n",
       "\n",
       ">      VApre (N:int, T:int, x:jaxtyping.Float[Array,'{T}{N}'],\n",
       ">             y:jaxtyping.Float[Array,'{T}'], G:jaxtyping.Float[Array,'{N}{N}'],\n",
       ">             w0:jaxtyping.Float[Array,'{N}'],\n",
       ">             P0:jaxtyping.Float[Array,'{N}{N}'])\n",
       "\n",
       "*$\\!$*\n",
       "一段予測推定値 $\\hat{\\mathbf w}_{t/t-1}$ を使う変分近似法\n",
       "$$\\xi_t=\\sqrt{\\mathbf x_t^T\\left(\\mathbf P_{t/t-1}+\\hat{\\mathbf w}_{t/t-1}\\hat{\\mathbf w}_{t/t-1}^T\\right)\\mathbf x_t}$$\n",
       "*$\\!$*\n",
       "\n",
       "|$\\!$| **Type** | **Details** |\n",
       "| -- | -------- | ----------- |\n",
       "| N | int | $N$ |\n",
       "| T | int | $T$ |\n",
       "| x | Float[Array, '{T} {N}'] | $\\{ \\mathbf x_t \\}_{t=0,\\ldots,T-1}$ |\n",
       "| y | Float[Array, '{T}'] | $\\{ y_t \\}_{t=0,\\ldots,T-1}$ |\n",
       "| G | Float[Array, '{N} {N}'] | $\\boldsymbol\\Gamma$ |\n",
       "| w0 | Float[Array, '{N}'] | $\\hat{\\mathbf w}_{0/-1}$ |\n",
       "| P0 | Float[Array, '{N} {N}'] | $\\mathbf P_{0/-1}$ |\n",
       "| **Returns** | **VApre_out** |$\\!$|"
      ],
      "text/plain": [
       "<IPython.core.display.Markdown object>"
      ]
     },
     "execution_count": null,
     "metadata": {},
     "output_type": "execute_result"
    }
   ],
   "source": [
    "#| hide\n",
    "sp.reshow_doc(VApre)"
   ]
  },
  {
   "cell_type": "code",
   "execution_count": null,
   "id": "911ec5a9",
   "metadata": {},
   "outputs": [],
   "source": [
    "#| export\n",
    "class VAEM_out(NamedTuple):\n",
    "  r\"\"\"$\\!$*\n",
    "  `VAEM` 関数の返り値\n",
    "\n",
    "  table\n",
    "  W: $\\{\\hat{\\mathbf w}_{t/t}\\}_{t=0,\\ldots,T-1}$\n",
    "  P: $\\{\\mathbf P_{t/t}\\}_{t=0,\\ldots,T-1}$\n",
    "  Xi: $\\{\\xi_t\\}_{t=0,\\ldots,T-1}$\n",
    "  Iters: $\\{\\mathrm{Iter}_t\\}_{t=0,\\ldots,T-1}$\n",
    "  \n",
    "  *$\\!$\"\"\"\n",
    "  W: Float[Array, \"T N\"]\n",
    "  P: Float[Array, \"T N N\"]\n",
    "  Xi: Float[Array, \"T\"]\n",
    "  Iters: Int[Array, \"T\"]\n",
    "\n",
    "sp.rewrite_nt(VAEM_out)\n"
   ]
  },
  {
   "cell_type": "code",
   "execution_count": null,
   "id": "d61a0911",
   "metadata": {},
   "outputs": [
    {
     "data": {
      "text/markdown": [
       "---\n",
       "\n",
       "[source](https://github.com/SuzuSys/KalmanPaper/blob/main/KalmanPaper/VA.py#L136){target=\"_blank\" style=\"float:right; font-size:smaller\"}\n",
       "\n",
       "### VAEM_out\n",
       "\n",
       ">      VAEM_out (W:jaxtyping.Float[Array,'TN'], P:jaxtyping.Float[Array,'TNN'],\n",
       ">                Xi:jaxtyping.Float[Array,'T'], Iters:jaxtyping.Int[Array,'T'])\n",
       "\n",
       "*$\\!$*\n",
       "  `VAEM` 関数の返り値\n",
       "\n",
       "  | $\\!$ | Type | Details |\n",
       "|--|--|--|\n",
       "  | W | Float[Array, 'T N'] | $\\{\\hat{\\mathbf w}_{t/t}\\}_{t=0,\\ldots,T-1}$\n",
       "  | P | Float[Array, 'T N N'] | $\\{\\mathbf P_{t/t}\\}_{t=0,\\ldots,T-1}$\n",
       "  | Xi | Float[Array, 'T'] | $\\{\\xi_t\\}_{t=0,\\ldots,T-1}$\n",
       "  | Iters | Int[Array, 'T'] | $\\{\\mathrm{Iter}_t\\}_{t=0,\\ldots,T-1}$\n",
       "\n",
       "  *$\\!$*"
      ],
      "text/plain": [
       "<IPython.core.display.Markdown object>"
      ]
     },
     "execution_count": null,
     "metadata": {},
     "output_type": "execute_result"
    }
   ],
   "source": [
    "#| hide\n",
    "sp.reshow_doc(VAEM_out)"
   ]
  },
  {
   "cell_type": "code",
   "execution_count": null,
   "id": "47122013",
   "metadata": {},
   "outputs": [],
   "source": [
    "#| export\n",
    "@partial(jax.jit, static_argnames=['N', 'T'])\n",
    "def VAEM(\n",
    "    N: int, # $N$\n",
    "    T: int, # $T$\n",
    "    x: Float[Array, \"{T} {N}\"], # $\\{ \\mathbf x_t \\}_{t=0,\\ldots,T-1}$\n",
    "    y: Float[Array, \"{T}\"], # $\\{ y_t \\}_{t=0,\\ldots,T-1}$\n",
    "    G: Float[Array, \"{N} {N}\"], # $\\boldsymbol\\Gamma$\n",
    "    w0: Float[Array, \"{N}\"], # $\\hat{\\mathbf w}_{0/-1}$\n",
    "    P0: Float[Array, \"{N} {N}\"], # $\\mathbf P_{0/-1}$\n",
    "    epsilon: Float[Array, \"\"], # $\\epsilon\\ge |\\xi\\\\^{\\text{new}}_t-\\xi\\\\^{\\text{old}}_t|$\n",
    "    max_iter: int = 100, # 繰り返し回数の上限\n",
    ") -> VAEM_out:\n",
    "    r\"\"\"$\\!$*\n",
    "    濾波推定値 $\\hat{\\mathbf w}_{t/t}$ を使う変分近似法。EMアルゴリズムを使う。\n",
    "    $$\\xi_t=\\sqrt{\\mathbf x_t^T\\left(\\mathbf P_{t/t}+\\hat{\\mathbf w}_{t/t}\\hat{\\mathbf w}_{t/t}^T\\right)\\mathbf x_t}$$\n",
    "    *$\\!$\"\"\"\n",
    "\n",
    "    class State(NamedTuple):\n",
    "        xit_pr: Float[Array, \"\"]\n",
    "        xit_af: Float[Array, \"\"]\n",
    "        Ptt_: Float[Array, \"{N} {N}\"]\n",
    "        wtt_: Float[Array, \"{N}\"]\n",
    "        Ptm: Float[Array, \"{N} {N}\"]\n",
    "        wtm: Float[Array, \"{N}\"]\n",
    "        xt: Float[Array, \"{N}\"]\n",
    "        yt: Float[Array, \"\"]\n",
    "        i: Int[Array, \"\"]\n",
    "\n",
    "    def inner_iter(s: State) -> State:\n",
    "        xit_pr = s.xit_af\n",
    "        xit_af = xit(s.Ptt_, s.wtt_, s.xt)\n",
    "        Ptt_ = Ptt(s.Ptm, s.xt, s.xit_af)\n",
    "        wtt_ = wtt(s.Ptm, s.Ptt_, s.wtm, s.xt, s.yt)\n",
    "        return State(xit_pr, xit_af, Ptt_, wtt_, s.Ptm, s.wtm, s.xt, s.yt, s.i + 1)\n",
    "\n",
    "    def cond_fun(s: State):\n",
    "        return jnp.logical_and(\n",
    "            jnp.abs(s.xit_pr - s.xit_af) >= epsilon,\n",
    "            s.i < max_iter\n",
    "        )\n",
    "\n",
    "    class Carry(NamedTuple):\n",
    "        Ptm: Float[Array, \"{N} {N}\"]\n",
    "        wtm: Float[Array, \"{N}\"]\n",
    "    \n",
    "    class Input(NamedTuple):\n",
    "        xt: Float[Array, \"{N}\"]\n",
    "        yt: Float[Array, \"\"]\n",
    "\n",
    "    class Output(NamedTuple):\n",
    "        wtt_: Float[Array, \"{N}\"]\n",
    "        Ptt_: Float[Array, \"{N} {N}\"]\n",
    "        xit_: Float[Array, \"\"]\n",
    "        i: Int[Array, \"\"]\n",
    "\n",
    "    def step(carry: Carry, inputs: Input) -> Tuple[Carry, Output]:\n",
    "        Ptm, wtm = carry\n",
    "        xt, yt = inputs\n",
    "        xit_pr = xit(Ptm, wtm, xt)\n",
    "        Ptt_ = Ptt(Ptm, xt, xit_pr)\n",
    "        wtt_ = wtt(Ptm, Ptt_, wtm, xt, yt)\n",
    "        xit_af = xit(Ptt_, wtt_, xt)\n",
    "\n",
    "        init_state = State(\n",
    "            xit_pr,\n",
    "            xit_af,\n",
    "            Ptt_,\n",
    "            wtt_,\n",
    "            Ptm,\n",
    "            wtm,\n",
    "            xt,\n",
    "            yt,\n",
    "            jnp.array(0, dtype=jnp.int32),\n",
    "        )\n",
    "\n",
    "        s = lax.while_loop(cond_fun, inner_iter, init_state)\n",
    "\n",
    "        return Carry(s.Ptt_ + G, s.wtt_), Output(s.wtt_, s.Ptt_, s.xit_pr, s.i)\n",
    "\n",
    "    _, (W, P, Xi, Iters) = lax.scan(step, Carry(P0, w0), Input(x, y), length=T)\n",
    "    return VAEM_out(W, P, Xi, Iters)"
   ]
  },
  {
   "cell_type": "code",
   "execution_count": null,
   "id": "cb64869f",
   "metadata": {},
   "outputs": [
    {
     "data": {
      "text/markdown": [
       "---\n",
       "\n",
       "[source](https://github.com/SuzuSys/KalmanPaper/blob/main/KalmanPaper/VA.py#L157){target=\"_blank\" style=\"float:right; font-size:smaller\"}\n",
       "\n",
       "### VAEM\n",
       "\n",
       ">      VAEM (N:int, T:int, x:jaxtyping.Float[Array,'{T}{N}'],\n",
       ">            y:jaxtyping.Float[Array,'{T}'], G:jaxtyping.Float[Array,'{N}{N}'],\n",
       ">            w0:jaxtyping.Float[Array,'{N}'],\n",
       ">            P0:jaxtyping.Float[Array,'{N}{N}'],\n",
       ">            epsilon:jaxtyping.Float[Array,''], max_iter:int=100)\n",
       "\n",
       "*$\\!$*\n",
       "濾波推定値 $\\hat{\\mathbf w}_{t/t}$ を使う変分近似法。EMアルゴリズムを使う。\n",
       "$$\\xi_t=\\sqrt{\\mathbf x_t^T\\left(\\mathbf P_{t/t}+\\hat{\\mathbf w}_{t/t}\\hat{\\mathbf w}_{t/t}^T\\right)\\mathbf x_t}$$\n",
       "*$\\!$*\n",
       "\n",
       "|$\\!$| **Type** | **Default** | **Details** |\n",
       "| -- | -------- | ----------- | ----------- |\n",
       "| N | int |$\\!$| $N$ |\n",
       "| T | int |$\\!$| $T$ |\n",
       "| x | Float[Array, '{T} {N}'] |$\\!$| $\\{ \\mathbf x_t \\}_{t=0,\\ldots,T-1}$ |\n",
       "| y | Float[Array, '{T}'] |$\\!$| $\\{ y_t \\}_{t=0,\\ldots,T-1}$ |\n",
       "| G | Float[Array, '{N} {N}'] |$\\!$| $\\boldsymbol\\Gamma$ |\n",
       "| w0 | Float[Array, '{N}'] |$\\!$| $\\hat{\\mathbf w}_{0/-1}$ |\n",
       "| P0 | Float[Array, '{N} {N}'] |$\\!$| $\\mathbf P_{0/-1}$ |\n",
       "| epsilon | Float[Array, ''] |$\\!$| $\\epsilon\\ge \\|\\xi\\\\^{\\text{new}}_t-\\xi\\\\^{\\text{old}}_t\\|$ |\n",
       "| max_iter | int | 100 | 繰り返し回数の上限 |\n",
       "| **Returns** | **VAEM_out** |$\\!$|$\\!$|"
      ],
      "text/plain": [
       "<IPython.core.display.Markdown object>"
      ]
     },
     "execution_count": null,
     "metadata": {},
     "output_type": "execute_result"
    }
   ],
   "source": [
    "#| hide\n",
    "sp.reshow_doc(VAEM)"
   ]
  },
  {
   "cell_type": "code",
   "execution_count": null,
   "id": "905cd60b",
   "metadata": {},
   "outputs": [],
   "source": [
    "#| hide\n",
    "import nbdev; nbdev.nbdev_export()"
   ]
  }
 ],
 "metadata": {
  "kernelspec": {
   "display_name": "python3",
   "language": "python",
   "name": "python3"
  }
 },
 "nbformat": 4,
 "nbformat_minor": 5
}
