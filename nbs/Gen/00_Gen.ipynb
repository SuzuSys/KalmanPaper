{
 "cells": [
  {
   "cell_type": "code",
   "execution_count": null,
   "id": "9fa5e0b3",
   "metadata": {},
   "outputs": [],
   "source": [
    "#| hide\n",
    "%load_ext autoreload\n",
    "%autoreload 2"
   ]
  },
  {
   "cell_type": "markdown",
   "id": "add90f82",
   "metadata": {},
   "source": [
    "# Generate\n",
    "\n",
    "> generater"
   ]
  },
  {
   "cell_type": "code",
   "execution_count": null,
   "id": "0f79fd84",
   "metadata": {},
   "outputs": [],
   "source": [
    "#| default_exp gen"
   ]
  },
  {
   "cell_type": "code",
   "execution_count": null,
   "id": "db71eecd",
   "metadata": {},
   "outputs": [],
   "source": [
    "#| hide\n",
    "#| export\n",
    "import jax.numpy as jnp\n",
    "import jax.random as jrd\n",
    "import jax.lax as lax\n",
    "import jax\n",
    "from jaxtyping import Array, Float, Int, PRNGKeyArray\n",
    "from typing import Tuple\n",
    "from functools import partial"
   ]
  },
  {
   "cell_type": "code",
   "execution_count": null,
   "id": "0385cb99",
   "metadata": {},
   "outputs": [],
   "source": [
    "#| export\n",
    "@partial(jax.jit, static_argnames=['N', 'T'])\n",
    "def gen_w(\n",
    "    key: PRNGKeyArray,\n",
    "    N: int, # $N$\n",
    "    T: int, # $T$\n",
    "    G: Float[Array, \"{N} {N}\"], # $\\boldsymbol\\Gamma$\n",
    "    w0: Float[Array, \"{N}\"], # $\\hat{\\mathbf w}_{0/-1}$\n",
    ") -> Float[Array, \"{T} {N}\"]: # $\\{\\hat{\\mathbf w}_{t/t}\\}_{t=0,\\ldots,T-1}$\n",
    "    keys = jrd.split(key, T)\n",
    "    def step(wtpre, key):\n",
    "        wt = jrd.multivariate_normal(key, wtpre, G)\n",
    "        return wt, wt\n",
    "    _, W = lax.scan(step, w0, keys, length=T)\n",
    "    return W"
   ]
  },
  {
   "cell_type": "code",
   "execution_count": null,
   "id": "6b226290",
   "metadata": {},
   "outputs": [],
   "source": [
    "#| export\n",
    "@partial(jax.jit, static_argnames=['N', 'T'])\n",
    "def gen_xy(\n",
    "    key: PRNGKeyArray,\n",
    "    N: int, # $N$\n",
    "    T: int, # $T$\n",
    "    Sigma: Float[Array, \"{N} {N}\"], # $\\boldsymbol\\Sigma$\n",
    "    W: Float[Array, \"{T} {N}\"], # $\\{\\hat{\\mathbf w}_{t/t}\\}_{t=0,\\ldots,T-1}$\n",
    "    propy1: Float[Array, \"\"],  # $p(y=1)$\n",
    ") -> Tuple[Float[Array, \"{T} {N}\"], Float[Array, \"{T}\"]]:\n",
    "    # split key for independent draws\n",
    "    key_y, key_z = jrd.split(key, 2)\n",
    "\n",
    "    # Bernoulli draws (returns bool) -> convert to float\n",
    "    Y = jrd.bernoulli(key_y, p=propy1, shape=(T,)).astype(jnp.float32)  # shape (T,)\n",
    "\n",
    "    # Cholesky of Sigma (assumes positive-definite). Sigma shape (N,N)\n",
    "    L = jnp.linalg.cholesky(Sigma)  # lower-triangular, (N,N)\n",
    "\n",
    "    # Compute per-time means: mu_t = 0.5 * Sigma @ W[t]\n",
    "    # Vectorized: W @ Sigma.T yields (T,N) where row t is W[t] @ Sigma.T == (Sigma @ W[t])^T\n",
    "    sign = 2 * Y - 1\n",
    "    mu = 0.5 * ((W * sign[:, None]) @ Sigma.T)  # shape (T, N)\n",
    "\n",
    "    # Standard normal samples z_t ~ N(0, I) stacked to shape (T, N)\n",
    "    z = jrd.normal(key_z, shape=(T, N))\n",
    "\n",
    "    # Transform: X = mu + L @ z_t  <=>  mu + z @ L.T\n",
    "    X = mu + (z @ L.T)  # shape (T, N)\n",
    "\n",
    "    return X, Y"
   ]
  },
  {
   "cell_type": "code",
   "execution_count": null,
   "id": "ece42d4e",
   "metadata": {},
   "outputs": [],
   "source": [
    "#| hide\n",
    "import nbdev; nbdev.nbdev_export()"
   ]
  }
 ],
 "metadata": {
  "kernelspec": {
   "display_name": "python3",
   "language": "python",
   "name": "python3"
  }
 },
 "nbformat": 4,
 "nbformat_minor": 5
}
