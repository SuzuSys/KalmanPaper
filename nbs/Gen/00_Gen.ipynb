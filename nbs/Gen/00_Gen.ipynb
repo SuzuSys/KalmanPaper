{
 "cells": [
  {
   "cell_type": "code",
   "execution_count": null,
   "id": "9fa5e0b3",
   "metadata": {},
   "outputs": [
    {
     "name": "stdout",
     "output_type": "stream",
     "text": [
      "The autoreload extension is already loaded. To reload it, use:\n",
      "  %reload_ext autoreload\n"
     ]
    },
    {
     "name": "stderr",
     "output_type": "stream",
     "text": [
      "[autoreload of KalmanPaper.simple failed: Traceback (most recent call last):\n",
      "  File \"c:\\Users\\suzun\\Dev\\Paper\\KalmanPaper\\venv\\Lib\\site-packages\\IPython\\extensions\\autoreload.py\", line 322, in check\n",
      "    elif self.deduper_reloader.maybe_reload_module(m):\n",
      "         ^^^^^^^^^^^^^^^^^^^^^^^^^^^^^^^^^^^^^^^^^^^^\n",
      "  File \"c:\\Users\\suzun\\Dev\\Paper\\KalmanPaper\\venv\\Lib\\site-packages\\IPython\\extensions\\deduperreload\\deduperreload.py\", line 545, in maybe_reload_module\n",
      "    new_source_code = f.read()\n",
      "                      ^^^^^^^^\n",
      "UnicodeDecodeError: 'cp932' codec can't decode byte 0x86 in position 524: illegal multibyte sequence\n",
      "]\n"
     ]
    }
   ],
   "source": [
    "#| hide\n",
    "%load_ext autoreload\n",
    "%autoreload 2"
   ]
  },
  {
   "cell_type": "markdown",
   "id": "add90f82",
   "metadata": {},
   "source": [
    "# 00_Gen\n",
    "\n",
    "> 乱数によってデータを生成する。生成過程: $(\\mathbf w_t,y_t)\\to\\mathbf x_t$"
   ]
  },
  {
   "cell_type": "code",
   "execution_count": null,
   "id": "0f79fd84",
   "metadata": {},
   "outputs": [],
   "source": [
    "#| default_exp gen00"
   ]
  },
  {
   "cell_type": "code",
   "execution_count": null,
   "id": "db71eecd",
   "metadata": {},
   "outputs": [],
   "source": [
    "#| hide\n",
    "#| exporti\n",
    "import jax.numpy as jnp\n",
    "import jax.random as jrd\n",
    "import jax.lax as lax\n",
    "import jax\n",
    "from jaxtyping import Array, Float, PRNGKeyArray\n",
    "from typing import Tuple, NamedTuple\n",
    "from functools import partial\n",
    "from KalmanPaper import simple as sp"
   ]
  },
  {
   "cell_type": "code",
   "execution_count": null,
   "id": "0385cb99",
   "metadata": {},
   "outputs": [],
   "source": [
    "#| export\n",
    "@partial(jax.jit, static_argnames=['N', 'T'])\n",
    "def gen_w(\n",
    "    key: PRNGKeyArray, # PRNGKeyArray\n",
    "    N: int, # $N$\n",
    "    T: int, # $T$\n",
    "    G: Float[Array, \"{N} {N}\"], # $\\boldsymbol\\Gamma$\n",
    "    w0: Float[Array, \"{N}\"], # $\\mathbf w_{-1}$\n",
    ") -> Float[Array, \"{T} {N}\"]: # $\\{\\mathbf w_t\\}_{t=0,\\ldots,T-1}$\n",
    "    r\"\"\"$\\!$*\n",
    "    潜在変数 $\\{\\mathbf w_t\\}_{t=0,\\ldots,T-1}$ の生成\n",
    "    $$\\mathbf w_{t}\\sim\\mathcal N(\\mathbf w_t\\mid\\mathbf w_{t-1},\\boldsymbol\\Gamma)$$\n",
    "    *$\\!$\"\"\"\n",
    "    keys = jrd.split(key, T)\n",
    "\n",
    "    def step(wtpre, key):\n",
    "        wt = jrd.multivariate_normal(key, wtpre, G)\n",
    "        return wt, wt\n",
    "    _, W = lax.scan(step, w0, keys, length=T)\n",
    "    return W"
   ]
  },
  {
   "cell_type": "code",
   "execution_count": null,
   "id": "7900b119",
   "metadata": {},
   "outputs": [
    {
     "data": {
      "text/markdown": [
       "---\n",
       "\n",
       "[source](https://github.com/SuzuSys/KalmanPaper/blob/main/KalmanPaper/gen.py#L20){target=\"_blank\" style=\"float:right; font-size:smaller\"}\n",
       "\n",
       "### gen_w\n",
       "\n",
       ">      gen_w (key:Union[jaxKey[Array,''],jaxUInt32[Array,'2']], N:int, T:int,\n",
       ">             G:jaxtyping.Float[Array,'{N}{N}'],\n",
       ">             w0:jaxtyping.Float[Array,'{N}'])\n",
       "\n",
       "*$\\!$*\n",
       "潜在変数 $\\{\\mathbf w_t\\}_{t=0,\\ldots,T-1}$ の生成\n",
       "$$\\mathbf w_{t}\\sim\\mathcal N(\\mathbf w_t\\mid\\mathbf w_{t-1},\\boldsymbol\\Gamma)$$\n",
       "*$\\!$*\n",
       "\n",
       "|$\\!$| **Type** | **Details** |\n",
       "| -- | -------- | ----------- |\n",
       "| key | Union | PRNGKeyArray |\n",
       "| N | int | $N$ |\n",
       "| T | int | $T$ |\n",
       "| G | Float[Array, '{N} {N}'] | $\\boldsymbol\\Gamma$ |\n",
       "| w0 | Float[Array, '{N}'] | $\\mathbf w_{-1}$ |\n",
       "| **Returns** | **Float[Array, '{T} {N}']** | **$\\{\\mathbf w_t\\}_{t=0,\\ldots,T-1}$** |"
      ],
      "text/plain": [
       "<IPython.core.display.Markdown object>"
      ]
     },
     "execution_count": null,
     "metadata": {},
     "output_type": "execute_result"
    }
   ],
   "source": [
    "#| hide\n",
    "sp.reshow_doc(gen_w)"
   ]
  },
  {
   "cell_type": "code",
   "execution_count": null,
   "id": "6b226290",
   "metadata": {},
   "outputs": [],
   "source": [
    "#| export\n",
    "@partial(jax.jit, static_argnames=['N', 'T'])\n",
    "def gen_xy(\n",
    "    key: PRNGKeyArray, # RPNGKeyArray\n",
    "    N: int, # $N$\n",
    "    T: int, # $T$\n",
    "    Sigma: Float[Array, \"{N} {N}\"], # $\\boldsymbol\\Sigma$\n",
    "    W: Float[Array, \"{T} {N}\"], # $\\{\\mathbf w_t\\}_{t=0,\\ldots,T-1}$\n",
    ") -> Tuple[Float[Array, \"{T} {N}\"], Float[Array, \"{T}\"]]: # $\\{\\mathbf x_t\\}_{t=0,\\ldots,T-1}, \\{y_t\\}_{t=0,\\ldots,T-1}$\n",
    "    r\"\"\"$\\!$*\n",
    "    観測変数 $\\{\\mathbf x_t\\}_{t=0,\\ldots,T-1}, \\{y_t\\}_{t=0,\\ldots,T-1}$ の生成\n",
    "    $$y_t\\sim\\text{Bern}(y_t\\mid 1/2)$$\n",
    "    $$\\boldsymbol\\Sigma\\mathbf w_t=2\\boldsymbol\\mu_{1,t}$$\n",
    "    $$\\boldsymbol\\mu_{2,t}=-\\boldsymbol\\mu_{1,t}$$\n",
    "    $$\n",
    "    \\mathbf x_t\\sim\n",
    "    \\begin{cases}\n",
    "    \\displaystyle\\mathcal N\\left(\\boldsymbol\\mu_{1,t},\\boldsymbol\\Sigma\\right) & (y_t=1) \\\\\n",
    "    \\displaystyle\\mathcal N\\left(\\boldsymbol\\mu_{2,t},\\boldsymbol\\Sigma\\right) & (y_t=0)\n",
    "    \\end{cases}\n",
    "    $$\n",
    "    *$\\!$\"\"\"\n",
    "    # split key for independent draws\n",
    "    key_y, key_z = jrd.split(key, 2)\n",
    "\n",
    "    # Bernoulli draws (returns bool) -> convert to float\n",
    "    Y = jrd.bernoulli(key_y, p=0.5, shape=(T,)).astype(jnp.float32)  # shape (T,)\n",
    "\n",
    "    # Cholesky of Sigma (assumes positive-definite). Sigma shape (N,N)\n",
    "    L = jnp.linalg.cholesky(Sigma)  # lower-triangular, (N,N)\n",
    "\n",
    "    # Compute per-time means: mu_t = 0.5 * Sigma @ W[t]\n",
    "    # Vectorized: W @ Sigma.T yields (T,N) where row t is W[t] @ Sigma.T == (Sigma @ W[t])^T\n",
    "    sign = 2 * Y - 1\n",
    "    mu = 0.5 * ((W * sign[:, None]) @ Sigma.T)  # shape (T, N)\n",
    "\n",
    "    # Standard normal samples z_t ~ N(0, I) stacked to shape (T, N)\n",
    "    z = jrd.normal(key_z, shape=(T, N))\n",
    "\n",
    "    # Transform: X = mu + L @ z_t  <=>  mu + z @ L.T\n",
    "    X = mu + (z @ L.T)  # shape (T, N)\n",
    "\n",
    "    return X, Y"
   ]
  },
  {
   "cell_type": "code",
   "execution_count": null,
   "id": "06f50470",
   "metadata": {},
   "outputs": [
    {
     "data": {
      "text/markdown": [
       "---\n",
       "\n",
       "[source](https://github.com/SuzuSys/KalmanPaper/blob/main/KalmanPaper/gen.py#L41){target=\"_blank\" style=\"float:right; font-size:smaller\"}\n",
       "\n",
       "### gen_xy\n",
       "\n",
       ">      gen_xy (key:Union[jaxKey[Array,''],jaxUInt32[Array,'2']], N:int, T:int,\n",
       ">              Sigma:jaxtyping.Float[Array,'{N}{N}'],\n",
       ">              W:jaxtyping.Float[Array,'{T}{N}'])\n",
       "\n",
       "*$\\!$*\n",
       "観測変数 $\\{\\mathbf x_t\\}_{t=0,\\ldots,T-1}, \\{y_t\\}_{t=0,\\ldots,T-1}$ の生成\n",
       "$$y_t\\sim\\text{Bern}(y_t\\mid 1/2)$$\n",
       "$$\\boldsymbol\\Sigma\\mathbf w_t=2\\boldsymbol\\mu_{1,t}$$\n",
       "$$\\boldsymbol\\mu_{2,t}=-\\boldsymbol\\mu_{1,t}$$\n",
       "$$\n",
       "\\mathbf x_t\\sim\n",
       "\\begin{cases}\n",
       "\\displaystyle\\mathcal N\\left(\\boldsymbol\\mu_{1,t},\\boldsymbol\\Sigma\\right) & (y_t=1) \\\\\n",
       "\\displaystyle\\mathcal N\\left(\\boldsymbol\\mu_{2,t},\\boldsymbol\\Sigma\\right) & (y_t=0)\n",
       "\\end{cases}\n",
       "$$\n",
       "*$\\!$*\n",
       "\n",
       "|$\\!$| **Type** | **Details** |\n",
       "| -- | -------- | ----------- |\n",
       "| key | Union | RPNGKeyArray |\n",
       "| N | int | $N$ |\n",
       "| T | int | $T$ |\n",
       "| Sigma | Float[Array, '{N} {N}'] | $\\boldsymbol\\Sigma$ |\n",
       "| W | Float[Array, '{T} {N}'] | $\\{\\mathbf w_t\\}_{t=0,\\ldots,T-1}$ |\n",
       "| **Returns** | **Tuple** | **$\\{\\mathbf x_t\\}_{t=0,\\ldots,T-1}, \\{y_t\\}_{t=0,\\ldots,T-1}$** |"
      ],
      "text/plain": [
       "<IPython.core.display.Markdown object>"
      ]
     },
     "execution_count": null,
     "metadata": {},
     "output_type": "execute_result"
    }
   ],
   "source": [
    "#| hide\n",
    "sp.reshow_doc(gen_xy)"
   ]
  },
  {
   "cell_type": "code",
   "execution_count": null,
   "id": "ece42d4e",
   "metadata": {},
   "outputs": [],
   "source": [
    "#| hide\n",
    "import nbdev; nbdev.nbdev_export()"
   ]
  }
 ],
 "metadata": {
  "kernelspec": {
   "display_name": "python3",
   "language": "python",
   "name": "python3"
  }
 },
 "nbformat": 4,
 "nbformat_minor": 5
}
