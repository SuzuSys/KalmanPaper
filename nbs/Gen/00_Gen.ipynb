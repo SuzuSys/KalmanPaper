{
 "cells": [
  {
   "cell_type": "code",
   "execution_count": null,
   "id": "9fa5e0b3",
   "metadata": {},
   "outputs": [
    {
     "name": "stdout",
     "output_type": "stream",
     "text": [
      "The autoreload extension is already loaded. To reload it, use:\n",
      "  %reload_ext autoreload\n"
     ]
    }
   ],
   "source": [
    "#| hide\n",
    "%load_ext autoreload\n",
    "%autoreload 2"
   ]
  },
  {
   "cell_type": "markdown",
   "id": "add90f82",
   "metadata": {},
   "source": [
    "# Generate\n",
    "\n",
    "> generater"
   ]
  },
  {
   "cell_type": "code",
   "execution_count": null,
   "id": "0f79fd84",
   "metadata": {},
   "outputs": [],
   "source": [
    "#| default_exp gen"
   ]
  },
  {
   "cell_type": "code",
   "execution_count": null,
   "id": "db71eecd",
   "metadata": {},
   "outputs": [],
   "source": [
    "#| hide\n",
    "#| export\n",
    "import numpy as np\n",
    "import numpy.typing as npt"
   ]
  },
  {
   "cell_type": "code",
   "execution_count": null,
   "id": "0385cb99",
   "metadata": {},
   "outputs": [],
   "source": []
  },
  {
   "cell_type": "code",
   "execution_count": null,
   "id": "ece42d4e",
   "metadata": {},
   "outputs": [],
   "source": [
    "#| hide\n",
    "import nbdev; nbdev.nbdev_export()"
   ]
  }
 ],
 "metadata": {},
 "nbformat": 4,
 "nbformat_minor": 5
}
